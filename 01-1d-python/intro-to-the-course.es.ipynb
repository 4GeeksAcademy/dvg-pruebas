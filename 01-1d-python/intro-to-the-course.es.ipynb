{
 "cells": [
  {
   "cell_type": "markdown",
   "id": "153c72ae",
   "metadata": {},
   "source": [
    "# INTRODUCCION AL CURSO                                "
   ]
  },
  {
   "cell_type": "markdown",
   "id": "c1f82845",
   "metadata": {},
   "source": [
    "Data Science es un campo interdisciplinario que combina estadísticas, programación y habilidades comerciales, por lo que para convertirse en un científico de datos, debes pensar como un ingeniero, porque construirás sistemas para resolver problemas, tu objetivo será crear canalizaciones automatizadas que construyen software escalable y organizado.\n",
    "\n",
    "También necesitas una mentalidad científica porque vas a tener que investigar mucho sobre el problema que quieres resolver, buscar donde encontrar la información que necesitas, formular hipótesis sobre algunas posibles soluciones, probarlas y medir tus resultados. Tienes que convertirte en un pensador crítico.\n",
    "\n",
    "La tercera parte de la mentalidad del científico de datos es pensar como un hombre de negocios porque recuerda, el objetivo de un científico de datos es resolver problemas, y como una persona de negocios tienes que medir los indicadores clave de rendimiento (KPI) en orden de medir la salud y el éxito del negocio. Diferentes negocios tienen diferentes problemas y diferentes (KPIs), entonces como científico de datos, debes comprender a tu cliente, que puede ser un cliente interno o externo. ¿Quién va a utilizar tu modelo de Machine Learning? De esa manera puedes ser consciente sus debilidades y lo que significa el éxito para ellos.\n",
    "\n",
    "No importa si estas viniendo de una formación técnica o de una formación no técnica. Si estás incursionando en el campo de la Data Science y de Machine Learning, aprenderás a combinar estas tres habilidades, practicar la que dominas mejor y aprender o reforzar la que menos dominas. Vas a aprender los pros y los contras de cada uno de los algoritmos de Machine Learning para que puedas decidir cual será la mejor ayuda para resolver el problema de tu negocio y vas a aprender a comunicar tus resultados en la manera más simple posible porque tu cliente probablemente no será uno técnico. Finalmente podrás aprovechar su experiencia única creando un proyecto sobre un tema de tu dominio con todas tus nuevas habilidades adquiridas."
   ]
  }
 ],
 "metadata": {
  "kernelspec": {
   "display_name": "Python 3 (ipykernel)",
   "language": "python",
   "name": "python3"
  },
  "language_info": {
   "codemirror_mode": {
    "name": "ipython",
    "version": 3
   },
   "file_extension": ".py",
   "mimetype": "text/x-python",
   "name": "python",
   "nbconvert_exporter": "python",
   "pygments_lexer": "ipython3",
   "version": "3.9.7"
  }
 },
 "nbformat": 4,
 "nbformat_minor": 5
}
