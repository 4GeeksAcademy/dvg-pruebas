{
 "cells": [
  {
   "cell_type": "markdown",
   "id": "153c72ae",
   "metadata": {},
   "source": [
    "# INTRO TO THE COURSE                                "
   ]
  },
  {
   "cell_type": "markdown",
   "id": "c1f82845",
   "metadata": {},
   "source": [
    "Data Science is an interdisciplinary field that combines statistics, programming and business skills, so in order to become a data scientist you need to think like an engineer because you will be building systems in order to solve problems, your goal will be to create automated pipelines that build scalable and organized software.\n",
    "\n",
    "You also need the scientist mindset because you will need to do a lot of research about the problem you want to solve, investigate where to find the information you need, hypothesize some possible solutions, test them and measure your results. You need to become a critical thinker.\n",
    "\n",
    "The third part of the data scientist mindset is to think like a business man because remember, the goal of a data scientist is to solve problems, and as a business person you have to measure key performance indicators (KPIs) in order to measure business health and success. Different business have different problems and different KPIs so as a data scientist you need to understand your client, which can be an internal or an external client. Who is going to use your machine learning model, analysis and predictions? That way you can be aware of their weakness and what does success mean to them. \n",
    "\n",
    "It doesn't matter if you are coming from a technical background or a non-technical background. If you are breaking into the data science and machine learning field you will learn to combine these three skills, practice the one you dominate the most and learn or strengthen the one you dominate the least. You will learn the pros and cons of each machine learning algorithm so that you can decide which one will be the best to help solve your business problem and you will learn how to communicate your results in the most simple way because your client will probably not be a technical one. Finally, you will be able to leverage your unique background by creating a project on a subject of your domain with all your new acquired skills."
   ]
  }
 ],
 "metadata": {
  "kernelspec": {
   "display_name": "Python 3 (ipykernel)",
   "language": "python",
   "name": "python3"
  },
  "language_info": {
   "codemirror_mode": {
    "name": "ipython",
    "version": 3
   },
   "file_extension": ".py",
   "mimetype": "text/x-python",
   "name": "python",
   "nbconvert_exporter": "python",
   "pygments_lexer": "ipython3",
   "version": "3.9.7"
  }
 },
 "nbformat": 4,
 "nbformat_minor": 5
}
