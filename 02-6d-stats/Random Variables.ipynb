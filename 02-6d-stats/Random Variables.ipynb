{
 "cells": [
  {
   "cell_type": "markdown",
   "id": "cb879c6e",
   "metadata": {},
   "source": [
    "# Random Variables"
   ]
  },
  {
   "cell_type": "markdown",
   "id": "73038c30",
   "metadata": {},
   "source": [
    "A random variable is a variable that can take on different values randomly.\n",
    "\n",
    "On its own, a random variable is just a description of the states that are possible; it must be coupled with a probability distribution that specifies how likely each of these states are.\n",
    "\n",
    "Random Variables may be discrete or continuous.\n",
    "\n",
    "-A discrete random variable is one that has a finite or countably infinite number of states. Note that these states are not necessarily the integers. They can also just be named states that are not considered to have any numerical value.\n",
    "\n",
    "-A continuous random variable is associated with a real value.\n",
    "\n",
    "**Probability Distribution:** description of how likely a random variable or set of random variables is to take on each of its possible states. The way we describe probability distributions depends on whether the variables are discrete or continuous.\n"
   ]
  },
  {
   "cell_type": "markdown",
   "id": "d940b7e4",
   "metadata": {},
   "source": [
    "### Types of random variables"
   ]
  },
  {
   "cell_type": "markdown",
   "id": "29f27074",
   "metadata": {},
   "source": [
    "**Discrete random variable:**\n",
    "\n",
    "-It has a finite number of states, not necesarily integers. They can also be a named states that are not considered to have any numerical value. Example: Coin toss (2 states), Throwing a dice (6 states), Drawing a card from a deck of cards (52 states), etc.\n",
    "\n",
    "**Continuous random variable:**\n",
    "\n",
    "-Must be associated with a real value. Example: Rainfall on a given day (in centimeters), Stock price of a company, Temperature of a given day."
   ]
  },
  {
   "cell_type": "code",
   "execution_count": 2,
   "id": "d71e727d",
   "metadata": {},
   "outputs": [],
   "source": [
    "#graph"
   ]
  },
  {
   "cell_type": "markdown",
   "id": "3b525823",
   "metadata": {},
   "source": [
    "### Probability Distributions"
   ]
  },
  {
   "cell_type": "markdown",
   "id": "83ad7978",
   "metadata": {},
   "source": [
    "**Bernoulli random variable**\n",
    "\n",
    "It models a trial that results in success or failure. For example, heads or tails."
   ]
  },
  {
   "cell_type": "markdown",
   "id": "34327db8",
   "metadata": {},
   "source": [
    "The *Bernoulli Distribution* is a distribution over a single binary random variable.\n",
    "\n",
    "It is controlled by a single parameter, which gives the probability of the random variable being equal to 1.\n",
    "\n",
    "It has the following properties:"
   ]
  },
  {
   "cell_type": "code",
   "execution_count": null,
   "id": "d448621e",
   "metadata": {},
   "outputs": [],
   "source": [
    "#graph"
   ]
  },
  {
   "cell_type": "markdown",
   "id": "b9e432d7",
   "metadata": {},
   "source": [
    "**Uniform random variable**\n",
    "\n",
    "Models when there is complete ignorance that a result would have more probability than others. So all possible outcomes are equally likely."
   ]
  },
  {
   "cell_type": "code",
   "execution_count": null,
   "id": "53d4b8d1",
   "metadata": {},
   "outputs": [],
   "source": [
    "#graph"
   ]
  },
  {
   "cell_type": "markdown",
   "id": "1f1bfbf9",
   "metadata": {},
   "source": [
    "**Binomial Random Variable**\n",
    "\n",
    "The *Binomial Distribution* with parameters n and p is the discrete probability distribution of the number of successes in a sequence of n independent experiments. It is frequently used to model the number of successes in a sample of size n drawn with replacement from a population of size N.\n",
    "\n",
    "Binomial probability distributions help us to understand the likelihood of rare events and to set probable expected ranges."
   ]
  },
  {
   "cell_type": "code",
   "execution_count": null,
   "id": "8d3be384",
   "metadata": {},
   "outputs": [],
   "source": [
    "#graph"
   ]
  },
  {
   "cell_type": "markdown",
   "id": "0149c69d",
   "metadata": {},
   "source": [
    "\n",
    "Experiment: n independent tosses of a coin within p(Heads) = p\n",
    "\n",
    "Sample space: set of sequences of Heads and Tails, of length n\n",
    "\n",
    "Random Varialbe X: number of Heads observed\n",
    "\n",
    "Model of: number of successes in a given number of independent trials"
   ]
  },
  {
   "cell_type": "code",
   "execution_count": 7,
   "id": "4b8ea5c3",
   "metadata": {},
   "outputs": [],
   "source": [
    "#big graph"
   ]
  },
  {
   "cell_type": "markdown",
   "id": "796bd338",
   "metadata": {},
   "source": [
    "**Geometric Random Variables**\n",
    "\n",
    "Sample space: set of infinite sequences of Heads and Tails\n",
    "Random variable X: number of tosses until the first Heads\n",
    "Model of: waiting times, number of trials until a success"
   ]
  },
  {
   "cell_type": "code",
   "execution_count": null,
   "id": "1317cfc0",
   "metadata": {},
   "outputs": [],
   "source": [
    "#graph"
   ]
  },
  {
   "cell_type": "markdown",
   "id": "1622e1b1",
   "metadata": {},
   "source": [
    "**Poisson**"
   ]
  },
  {
   "cell_type": "markdown",
   "id": "96c60ae1",
   "metadata": {},
   "source": [
    "It is a discrete probability distribution that expresses the probability of a given number of events occuring in a fixed  interval of time or space.\n",
    "\n",
    "Some examples that may follow a Poisson distribution are:\n",
    "\n",
    "-Number of phone calls received by a call center per hour.\n",
    "-Number of patients arriving in an emergency room bewteen 10pm and 11pm.\n"
   ]
  },
  {
   "cell_type": "code",
   "execution_count": null,
   "id": "67088ea7",
   "metadata": {},
   "outputs": [],
   "source": [
    "#graph"
   ]
  },
  {
   "cell_type": "markdown",
   "id": "4eeac00c",
   "metadata": {},
   "source": [
    "**Normal**"
   ]
  },
  {
   "cell_type": "markdown",
   "id": "0ded1634",
   "metadata": {},
   "source": [
    "Finally the most commonly used distribution over real numbers, also known as Gaussian distribution.\n",
    "\n",
    "The two parameters are μ (mu = population mean) and σ (sigma = population standard deviation) control the normal distribution.\n",
    "\n",
    "The parameter μ gives the coordinate of the central peak, which is also the mean of the distribution E[X] = μ.\n",
    "\n",
    "The standard deviation of the distribution is given by σ and the variance by σ2.\n",
    "\n",
    "Normal distributions are a sensible choice for many applications.\n",
    "\n",
    "The central limit theorem shows that the sum of many independent random variables is approximately normally distributed. This means in practice, that many complicated systems can be modeled succesfully as normally.\n",
    "\n",
    "Normal distribution encodes the maximum amount of uncertainty over the real numbers. We can thus think of the normal distribution as being the one that inserts the least amount of prior knowledge into a model."
   ]
  },
  {
   "cell_type": "code",
   "execution_count": null,
   "id": "80eb28b0",
   "metadata": {},
   "outputs": [],
   "source": [
    "#graph"
   ]
  },
  {
   "cell_type": "markdown",
   "id": "2c7f5688",
   "metadata": {},
   "source": [
    "### EXPECTED VALUE"
   ]
  },
  {
   "cell_type": "markdown",
   "id": "47b514ed",
   "metadata": {},
   "source": [
    "The expected value is exactly what it sounds like, what do you expect the value to be? \n",
    "The expected value is the mean of a random variable.\n",
    "You can use this to work out the average score of a dice roll over 6 rolls.\n",
    "\n",
    "Given the outcomes=(1, 2) and the probabilities=(1/8, 1/4) the expected value, E[x] is E[x] = 1(1/8) + 2(1/4) = 0.625."
   ]
  },
  {
   "cell_type": "code",
   "execution_count": null,
   "id": "880c2a30",
   "metadata": {},
   "outputs": [],
   "source": [
    "#graph"
   ]
  },
  {
   "cell_type": "markdown",
   "id": "93c8ff6e",
   "metadata": {},
   "source": [
    "Interpretation: average in large number of independent repetitions.\n",
    "    \n",
    "Caution: If we have an infinite sum, it needs to be well-defined."
   ]
  },
  {
   "cell_type": "markdown",
   "id": "c2916b53",
   "metadata": {},
   "source": [
    "**Expectation of a Bernoulli random variable**"
   ]
  },
  {
   "cell_type": "markdown",
   "id": "bd275c87",
   "metadata": {},
   "source": [
    "**Expectation of a Uniform random variable**"
   ]
  },
  {
   "cell_type": "markdown",
   "id": "74fdb44e",
   "metadata": {},
   "source": [
    "**Rules**"
   ]
  },
  {
   "cell_type": "markdown",
   "id": "4d1d3723",
   "metadata": {},
   "source": [
    "**Linearity of Expected Value**\n",
    "\n",
    "E[F+G] = E[F] + E[G].\n",
    "\n",
    "**Multiplication Rule of Expected Value**\n",
    "\n",
    "E[F x G] does not equal E[F] * E[G]"
   ]
  }
 ],
 "metadata": {
  "kernelspec": {
   "display_name": "Python 3 (ipykernel)",
   "language": "python",
   "name": "python3"
  },
  "language_info": {
   "codemirror_mode": {
    "name": "ipython",
    "version": 3
   },
   "file_extension": ".py",
   "mimetype": "text/x-python",
   "name": "python",
   "nbconvert_exporter": "python",
   "pygments_lexer": "ipython3",
   "version": "3.9.7"
  }
 },
 "nbformat": 4,
 "nbformat_minor": 5
}
