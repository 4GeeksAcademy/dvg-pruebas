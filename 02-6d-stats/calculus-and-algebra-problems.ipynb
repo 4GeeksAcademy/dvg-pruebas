{
 "cells": [
  {
   "cell_type": "markdown",
   "id": "5dbe7b9e",
   "metadata": {},
   "source": [
    "# Calculus and Algebra problems"
   ]
  },
  {
   "cell_type": "markdown",
   "id": "da4db679",
   "metadata": {},
   "source": [
    "## Calculus"
   ]
  },
  {
   "cell_type": "markdown",
   "id": "b7e2e87a",
   "metadata": {},
   "source": [
    "Exercise 1: Build a linear function  f(x)=− 0.5x+4  on  x∈[−3,3] ; create a graph and table."
   ]
  },
  {
   "cell_type": "code",
   "execution_count": null,
   "id": "bb3e954e",
   "metadata": {},
   "outputs": [],
   "source": [
    "import matplotlib.pyplot as plt\n",
    "import numpy as np\n",
    "import pandas as pd\n",
    "\n",
    "def f(x): return -0.5*x + 4 #function\n",
    "x = np.linspace(-3, 3, 100) #domain"
   ]
  },
  {
   "cell_type": "code",
   "execution_count": null,
   "id": "dbc4c780",
   "metadata": {},
   "outputs": [],
   "source": [
    "plt.plot(x, f(x)) #plot of function on domain"
   ]
  },
  {
   "cell_type": "code",
   "execution_count": null,
   "id": "4c4d4f20",
   "metadata": {},
   "outputs": [],
   "source": [
    "f1 = pd.DataFrame({'x': x, 'f(x)': f(x)})\n",
    "f1.head()"
   ]
  },
  {
   "cell_type": "markdown",
   "id": "1144168d",
   "metadata": {},
   "source": [
    "Exercise 2: Build an exponential function  f(x)=3∗(100)^x  on  x∈[−3,3] ; create a graph and table."
   ]
  },
  {
   "cell_type": "code",
   "execution_count": null,
   "id": "ec1f8bd7",
   "metadata": {},
   "outputs": [],
   "source": [
    "def f(x): return 3*(100**x)\n",
    "x = np.linspace(-3, 3, 100)\n",
    "plt.plot(x, f(x))"
   ]
  },
  {
   "cell_type": "code",
   "execution_count": null,
   "id": "ba5c497b",
   "metadata": {},
   "outputs": [],
   "source": [
    "f2 = pd.DataFrame({'x': x, 'f(x)': f(x)})\n",
    "f2.head()"
   ]
  },
  {
   "cell_type": "markdown",
   "id": "d4bfd827",
   "metadata": {},
   "source": [
    "Exercise 3: Build a quadratic function  f(x)=3(x−1)^2−4  on  x∈[−5,5] ; create a graph and table."
   ]
  },
  {
   "cell_type": "code",
   "execution_count": null,
   "id": "36fae3bf",
   "metadata": {},
   "outputs": [],
   "source": [
    "def f(x): return 3*(x - 1)**2 - 4\n",
    "x = np.linspace(-5, 5, 100)\n",
    "plt.plot(x, f(x))"
   ]
  },
  {
   "cell_type": "code",
   "execution_count": null,
   "id": "07c63f48",
   "metadata": {},
   "outputs": [],
   "source": [
    "f3 = pd.DataFrame({'x': x, 'f(x)': f(x)})\n",
    "f3.head()"
   ]
  },
  {
   "cell_type": "markdown",
   "id": "aabad82c",
   "metadata": {},
   "source": [
    "## Linear Algebra"
   ]
  },
  {
   "cell_type": "markdown",
   "id": "6753636d",
   "metadata": {},
   "source": [
    "### Exercise 1 : Sum of two matrices\n",
    "\n",
    "Suppose we have two matrices A and B.\n",
    "```py\n",
    "A = [[1,2],[3,4]]\n",
    "B = [[4,5],[6,7]]\n",
    "\n",
    "then we get\n",
    "A+B = [[5,7],[9,11]]\n",
    "A-B = [[-3,-3],[-3,-3]]\n",
    "```\n",
    "\n",
    "Make the sum of two matrices using Python with Numpy"
   ]
  },
  {
   "cell_type": "code",
   "execution_count": 1,
   "id": "9e200c32",
   "metadata": {},
   "outputs": [
    {
     "name": "stdout",
     "output_type": "stream",
     "text": [
      "Printing elements of first matrix\n",
      "[[1 2]\n",
      " [3 4]]\n",
      "Printing elements of second matrix\n",
      "[[4 5]\n",
      " [6 7]]\n",
      "Addition of two matrix\n",
      "[[ 5  7]\n",
      " [ 9 11]]\n"
     ]
    }
   ],
   "source": [
    "# importing numpy as np\n",
    "import numpy as np\n",
    "  \n",
    "  \n",
    "# creating first matrix\n",
    "A = np.array([[1, 2], [3, 4]])\n",
    "  \n",
    "# creating second matrix\n",
    "B = np.array([[4, 5], [6, 7]])\n",
    "  \n",
    "print(\"Printing elements of first matrix\")\n",
    "print(A)\n",
    "print(\"Printing elements of second matrix\")\n",
    "print(B)\n",
    "  \n",
    "# adding two matrix\n",
    "print(\"Addition of two matrix\")\n",
    "print(np.add(A, B))"
   ]
  },
  {
   "cell_type": "markdown",
   "id": "93bfb6cc",
   "metadata": {},
   "source": [
    "### Exercise 2: Sum of two lists\n",
    "\n",
    "There will be many situations in which we'll have to find index wise summation of two different lists. This can have possible applications in day-to-day programming. In this exercise we will solve the same problem with various ways in which this task can be performed.\n",
    "\n",
    "We have the following two lists:\n",
    "```py\n",
    "list1 = [2, 5, 4, 7, 3]\n",
    "list2 = [1, 4, 6, 9, 10]\n",
    "```\n",
    "\n",
    "Now let's use Python code to demonstrate addition of two lists.\n"
   ]
  },
  {
   "cell_type": "code",
   "execution_count": 2,
   "id": "867b70fc",
   "metadata": {},
   "outputs": [
    {
     "name": "stdout",
     "output_type": "stream",
     "text": [
      "Original list 1 : [2, 5, 4, 7, 3]\n",
      "Original list 2 : [1, 4, 6, 9, 10]\n",
      "Resultant list is : [3, 9, 10, 16, 13]\n"
     ]
    }
   ],
   "source": [
    "# Naive method\n",
    "\n",
    "# initializing lists\n",
    "list1 = [2, 5, 4, 7, 3]\n",
    "list2 = [1, 4, 6, 9, 10]\n",
    "  \n",
    "# printing original lists\n",
    "print (\"Original list 1 : \" + str(list1))\n",
    "print (\"Original list 2 : \" + str(list2))\n",
    "  \n",
    "# using naive method to \n",
    "# add two list \n",
    "res_list = []\n",
    "for i in range(0, len(list1)):\n",
    "    res_list.append(list1[i] + list2[i])\n",
    "  \n",
    "# printing resultant list \n",
    "print (\"Resultant list is : \" + str(res_list))"
   ]
  },
  {
   "cell_type": "code",
   "execution_count": 3,
   "id": "681930a3",
   "metadata": {},
   "outputs": [],
   "source": [
    "# Use list comprehensions to perform addition of the two lists:\n",
    "\n",
    "# initializing lists\n",
    "\n",
    "  \n",
    "# printing original lists\n",
    "\n",
    "  \n",
    "# using list comprehension to add two list \n",
    "\n",
    "  \n",
    "# printing resultant list \n"
   ]
  },
  {
   "cell_type": "code",
   "execution_count": null,
   "id": "a3a8a425",
   "metadata": {},
   "outputs": [],
   "source": [
    "# Use map() + add():\n",
    "\n",
    "# initializing lists\n",
    "\n",
    "  \n",
    "# printing original lists\n",
    "\n",
    "  \n",
    "# using map() + add() to add two list \n",
    "\n",
    "  \n",
    "# printing resultant list "
   ]
  },
  {
   "cell_type": "code",
   "execution_count": 4,
   "id": "1708d7ee",
   "metadata": {},
   "outputs": [],
   "source": [
    "# Use zip() + sum():\n",
    "\n",
    "# initializing lists\n",
    "\n",
    "  \n",
    "# printing original lists\n",
    "\n",
    "  \n",
    "# Using zip() + sum() to add two list \n",
    "\n",
    "  \n",
    "# printing resultant list "
   ]
  },
  {
   "cell_type": "markdown",
   "id": "1aef1bd2",
   "metadata": {},
   "source": [
    "### Exercise 3 : Dot multiplication\n",
    "\n",
    "We have two matrices:\n",
    "```py\n",
    "matrix1 = [[1,7,3],\n",
    "          [ 4,5,2],\n",
    "          [ 3,6,1]]\n",
    "matrix2 = [[5,4,1],\n",
    "          [ 1,2,3],\n",
    "          [ 4,5,2]]\n",
    "```\n",
    "\n",
    "A simple technique but expensive method for larger input datasets is using for loops. In this exercise we will first use nested for loops to iterate through each row and column of the matrices, and then we will perform the same multiplication using Numpy."
   ]
  },
  {
   "cell_type": "code",
   "execution_count": 6,
   "id": "840e7d0e",
   "metadata": {},
   "outputs": [
    {
     "name": "stdout",
     "output_type": "stream",
     "text": [
      "[[24, 33, 28], [33, 36, 23], [25, 29, 23]]\n"
     ]
    }
   ],
   "source": [
    "#Using a for loop input two matrices of size n x m\n",
    "matrix1 = [[1,7,3],\n",
    "          [ 4,5,2],\n",
    "          [ 3,6,1]]\n",
    "matrix2 = [[5,4,1],\n",
    "          [ 1,2,3],\n",
    "          [ 4,5,2]]\n",
    " \n",
    "res = [[0 for x in range(3)] for y in range(3)]\n",
    " \n",
    "# explicit for loops\n",
    "for i in range(len(matrix1)):\n",
    "    for j in range(len(matrix2[0])):\n",
    "        for k in range(len(matrix2)):\n",
    " \n",
    "            # resulted matrix\n",
    "            res[i][j] += matrix1[i][k] * matrix2[k][j]\n",
    " \n",
    "print (res)"
   ]
  },
  {
   "cell_type": "code",
   "execution_count": 7,
   "id": "db6c3355",
   "metadata": {},
   "outputs": [
    {
     "name": "stdout",
     "output_type": "stream",
     "text": [
      "[[24 33 28]\n",
      " [33 36 23]\n",
      " [25 29 23]]\n"
     ]
    }
   ],
   "source": [
    "# We need install numpy in order to import it\n",
    "import numpy as np\n",
    " \n",
    "# input two matrices\n",
    "mat1 = ([1,7,3],[ 4,5,2],[ 3,6,1])\n",
    "mat2 = ([5,4,1],[ 1,2,3],[ 4,5,2])\n",
    " \n",
    "# This will return dot product\n",
    "res = np.dot(mat1,mat2)\n",
    "  \n",
    "# print resulted matrix\n",
    "print(res)"
   ]
  }
 ],
 "metadata": {
  "interpreter": {
   "hash": "0f2f6c680cf484319d387fabac80ca4ff4fc33965036e02100b3fe02600f1423"
  },
  "kernelspec": {
   "display_name": "Python 3.10.1 64-bit",
   "language": "python",
   "name": "python3"
  },
  "language_info": {
   "codemirror_mode": {
    "name": "ipython",
    "version": 3
   },
   "file_extension": ".py",
   "mimetype": "text/x-python",
   "name": "python",
   "nbconvert_exporter": "python",
   "pygments_lexer": "ipython3",
   "version": "3.10.1"
  }
 },
 "nbformat": 4,
 "nbformat_minor": 5
}
