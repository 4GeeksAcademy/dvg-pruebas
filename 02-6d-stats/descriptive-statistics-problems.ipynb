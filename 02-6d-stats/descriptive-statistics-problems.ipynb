{
 "cells": [
  {
   "cell_type": "markdown",
   "id": "ac622319",
   "metadata": {},
   "source": [
    "# Descriptive Statistics Problems"
   ]
  },
  {
   "cell_type": "markdown",
   "id": "aa8993e4",
   "metadata": {},
   "source": [
    "### Exercise 1"
   ]
  },
  {
   "cell_type": "markdown",
   "id": "46c70c3d",
   "metadata": {},
   "source": [
    "### Exercise 2\n",
    "\n",
    "Write a Python program to calculate the standard deviation of the following data:\n",
    "```py\n",
    "data = [4, 2, 5, 8, 6]\n",
    "```"
   ]
  },
  {
   "cell_type": "code",
   "execution_count": 4,
   "id": "d590308e",
   "metadata": {},
   "outputs": [
    {
     "ename": "IndentationError",
     "evalue": "expected an indented block after function definition on line 5 (2233317465.py, line 11)",
     "output_type": "error",
     "traceback": [
      "\u001b[1;36m  Input \u001b[1;32mIn [4]\u001b[1;36m\u001b[0m\n\u001b[1;33m    def avg_calc(ls):\u001b[0m\n\u001b[1;37m    ^\u001b[0m\n\u001b[1;31mIndentationError\u001b[0m\u001b[1;31m:\u001b[0m expected an indented block after function definition on line 5\n"
     ]
    }
   ],
   "source": [
    "import math\n",
    "import sys\n",
    "\n",
    "# Define the standard deviation function\n",
    "def sd_calc(data):\n",
    "    #code here\n",
    "\n",
    "\n",
    "\n",
    "# Define the average function\n",
    "def avg_calc(ls):\n",
    "    #code here\n",
    "\n",
    "\n",
    "data = [4, 2, 5, 8, 6]\n",
    "print(\"Sample Data: \", data)\n",
    "print(\"Standard Deviation : \",sd_calc(data))"
   ]
  }
 ],
 "metadata": {
  "interpreter": {
   "hash": "0f2f6c680cf484319d387fabac80ca4ff4fc33965036e02100b3fe02600f1423"
  },
  "kernelspec": {
   "display_name": "Python 3.10.1 64-bit",
   "language": "python",
   "name": "python3"
  },
  "language_info": {
   "codemirror_mode": {
    "name": "ipython",
    "version": 3
   },
   "file_extension": ".py",
   "mimetype": "text/x-python",
   "name": "python",
   "nbconvert_exporter": "python",
   "pygments_lexer": "ipython3",
   "version": "3.10.1"
  }
 },
 "nbformat": 4,
 "nbformat_minor": 5
}
