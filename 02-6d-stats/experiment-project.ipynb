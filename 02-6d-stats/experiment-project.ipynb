{
 "cells": [
  {
   "cell_type": "markdown",
   "id": "d9d036c6",
   "metadata": {},
   "source": [
    "# Hypothesis testing problem\n"
   ]
  },
  {
   "cell_type": "markdown",
   "id": "2e5bb946",
   "metadata": {},
   "source": [
    "A maternity hospital wants to see the effect of formula consumption on the average monthly weight gain in grams of babies. For this reason, the hospital collected data from three groups of babies. The first group exclusively receives breast milk, the second group receives only formula and the last group receives both formula and breastmilk. \n",
    "We can see the collected data as follows:\n",
    "\n",
    "only_breast=[794.1, 716.9, 993. , 724.7, 760.9, 908.2, 659.3 , 690.8, 768.7, 717.3 , 630.7, 729.5, 714.1, 810.3, 583.5, 679.9, 865.1]\n",
    "\n",
    "only_formula=[ 898.8, 881.2, 940.2, 966.2, 957.5, 1061.7, 1046.2, 980.4, 895.6, 919.7, 1074.1, 952.5, 796.3, 859.6, 871.1 , 1047.5, 919.1 , 1160.5, 996.9]\n",
    "\n",
    "both=[976.4, 656.4, 861.2, 706.8, 718.5, 717.1, 759.8, 894.6, 867.6, 805.6, 765.4, 800.3, 789.9, 875.3, 740. , 799.4, 790.3, 795.2 , 823.6, 818.7, 926.8, 791.7, 948.3]\n",
    "\n",
    "We need to conduct the hypothesis testing to check whether there is a difference between the average monthly gain of these three groups by using a 0.05 significance level. Before doing hypothesis testing, check the related assumptions. Comment on the results."
   ]
  },
  {
   "cell_type": "code",
   "execution_count": 4,
   "id": "659b8de9",
   "metadata": {},
   "outputs": [],
   "source": [
    "#Import libraries\n"
   ]
  },
  {
   "cell_type": "code",
   "execution_count": 1,
   "id": "aecea0ff",
   "metadata": {},
   "outputs": [],
   "source": [
    "# Function to check normality of the data\n",
    "\n",
    "def check_normality(data):\n",
    "    test_stat_normality, p_value_normality=stats.shapiro(data)\n",
    "    print(\"p value:%.4f\" % p_value_normality)\n",
    "    if p_value_normality <0.05:\n",
    "        print(\"Reject null hypothesis >> The data is not normally distributed\")\n",
    "    else:\n",
    "        print(\"Fail to reject null hypothesis >> The data is normally distributed\")       "
   ]
  },
  {
   "cell_type": "code",
   "execution_count": 2,
   "id": "9072d157",
   "metadata": {},
   "outputs": [],
   "source": [
    "# Function to check variance\n",
    "\n",
    "def check_variance_homogeneity(group1, group2):\n",
    "    test_stat_var, p_value_var= stats.levene(group1,group2)\n",
    "    print(\"p value:%.4f\" % p_value_var)\n",
    "    if p_value_var <0.05:\n",
    "        print(\"Reject null hypothesis >> The variances of the samples are different.\")\n",
    "    else:\n",
    "        print(\"Fail to reject null hypothesis >> The variances of the samples are same.\")\n"
   ]
  },
  {
   "cell_type": "markdown",
   "id": "fdc86996",
   "metadata": {},
   "source": [
    "### Solution"
   ]
  },
  {
   "cell_type": "code",
   "execution_count": 6,
   "id": "a44102f4",
   "metadata": {},
   "outputs": [],
   "source": [
    "#define the three groups"
   ]
  },
  {
   "cell_type": "code",
   "execution_count": null,
   "id": "afc99d35",
   "metadata": {},
   "outputs": [],
   "source": [
    "#Check normality assumption"
   ]
  },
  {
   "cell_type": "code",
   "execution_count": 1,
   "id": "f2b9da18",
   "metadata": {},
   "outputs": [],
   "source": [
    "#Check variance"
   ]
  },
  {
   "cell_type": "code",
   "execution_count": 2,
   "id": "34ca5ed7",
   "metadata": {},
   "outputs": [],
   "source": [
    "#Define null and alternative hypothesis"
   ]
  },
  {
   "cell_type": "code",
   "execution_count": 3,
   "id": "fae0c6d6",
   "metadata": {},
   "outputs": [],
   "source": [
    "#Make conclusions.\n",
    "\n",
    "#Pairwise T test for multiple comparisons of independent groups. May be used after a parametric ANOVA to do pairwise comparisons."
   ]
  }
 ],
 "metadata": {
  "interpreter": {
   "hash": "0f2f6c680cf484319d387fabac80ca4ff4fc33965036e02100b3fe02600f1423"
  },
  "kernelspec": {
   "display_name": "Python 3.10.1 64-bit",
   "language": "python",
   "name": "python3"
  },
  "language_info": {
   "codemirror_mode": {
    "name": "ipython",
    "version": 3
   },
   "file_extension": ".py",
   "mimetype": "text/x-python",
   "name": "python",
   "nbconvert_exporter": "python",
   "pygments_lexer": "ipython3",
   "version": "3.10.1"
  }
 },
 "nbformat": 4,
 "nbformat_minor": 5
}
