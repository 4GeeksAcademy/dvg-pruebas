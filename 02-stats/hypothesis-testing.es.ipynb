{
    "cells": [
        {
            "attachments": {},
            "cell_type": "markdown",
            "id": "caac3be2",
            "metadata": {},
            "source": [
                "# Contrastes de hipótesis"
            ]
        },
        {
            "attachments": {},
            "cell_type": "markdown",
            "id": "6963451e",
            "metadata": {},
            "source": [
                "Una **hipótesis**, en estadística, es una afirmación respecto a alguna característica de una población. Realizar un **contraste de hipótesis** supone comparar las predicciones con la realidad que observamos. Si existe coincidencia (con cierto margen de error), entonces aceptamos la hipótesis. En caso contrario, la rechazaremos.\n",
                "\n",
                "Por ejemplo, cuando decimos que los chicos son más altos que las chicas, necesitamos obtener una conclusión matemática que nos permita asegurar que lo que suponemos es cierto. Esto se lleva a cabo con un contraste de hipótesis."
            ]
        },
        {
            "attachments": {},
            "cell_type": "markdown",
            "id": "59aa42b2",
            "metadata": {},
            "source": [
                "### Pasos para formular un contraste de hipótesis\n",
                "\n",
                "Las hipótesis son afirmaciones y podemos usar estadísticas para probarlas o refutarlas. El contraste de hipótesis estructura el problema para que podamos usar evidencias estadísticas para probar estas afirmaciones y verificarlas. Los pasos que seguiremos serán:\n",
                "\n",
                "1. **Definir** la hipótesis.\n",
                "\n",
                "2. Elegir el **nivel de significación**.\n",
                "\n",
                "3. **Verificar** la hipótesis.\n",
                "\n",
                "4. **Decisión**. ¿Se acepta la hipótesis?"
            ]
        },
        {
            "attachments": {},
            "cell_type": "markdown",
            "id": "61ebd1cb",
            "metadata": {},
            "source": [
                "#### 1. Definir la hipótesis\n",
                "\n",
                "El contraste de hipótesis supondrá siempre una pregunta a la que estaremos buscando responder. La formulación de la pregunta sigue una estructura concreta y se construye a través de dos elementos: la **hipótesis nula** ($H₀$) y la **hipótesis alternativa** ($H₁$).\n",
                "\n",
                "- **Hipótesis nula** ($H₀$): Es la hipótesis que sostiene que la suposición inicial que se tiene respecto a un parámetro poblacional es falsa. Por lo tanto, la hipótesis nula es aquella hipótesis que se pretende rechazar. Normalmente va asociada con algún signo comparativo (\"es igual a\", \"es menor o igual a\" o \"es mayor o igual a\").\n",
                "\n",
                "- **Hipótesis alternativa** ($H₁$): Es la hipótesis de la investigación que se pretende probar que es cierta. Es decir, la hipótesis alternativa es una suposición previa que tiene el investigador y para intentar demostrar que es verdadera llevará a cabo el contraste de hipótesis. Normalmente se asocia con el signo comparativo contrario al de la hipótesis nula (\"es diferente a\", \"es mayor a\" o \"es menor a\")."
            ]
        },
        {
            "attachments": {},
            "cell_type": "markdown",
            "id": "6c7c817d",
            "metadata": {},
            "source": [
                "#### 2. Elegir el nivel de significación\n",
                "\n",
                "El **nivel de significación** ($α$, alfa) hace referencia al **grado de error** que admitimos para **aceptar o rechazar la hipótesis**. Es la probabilidad de rechazar una hipótesis que en realidad es verdadera. En estadística, el nivel de significación se representa con el símbolo griego $α$ (alfa). Por eso también se conoce como nivel alfa.\n",
                "\n",
                "Por ejemplo, si el nivel de significación es α=0,05, significa que la probabilidad de rechazar una hipótesis cuando es cierta es del 5%. En otras palabras, la probabilidad de hacer la estimación de un parámetro estadístico y equivocarnos con un error mayor al margen de error es del 5%.\n",
                "\n",
                "Un nivel de significación del 0% implica que no hay ninguna duda de que la hipótesis aceptada es realmente verdadera. Sin embargo, un nivel de significación del 0% no existe en estadística, a menos que se haya analizado a toda una población, e incluso en tal caso no se puede estar totalmente seguro de que no se haya producido ningún error o sesgo durante la investigación.\n"
            ]
        },
        {
            "attachments": {},
            "cell_type": "markdown",
            "id": "caa26781",
            "metadata": {},
            "source": [
                "#### 3. Verificar la hipótesis\n",
                "\n",
                "Una vez planteada la hipótesis nula, la hipótesis alternativa y el nivel de significación, tenemos que elegir el estadístico adecuado para este contraste de hipótesis. Hay muchas formas de hacerlo, pero las más utilizadas en el mundo real son el **contraste de hipótesis para la media** y el **contraste de hipótesis para la proporción**.\n",
                "\n",
                "Antes de verificar la hipótesis debemos disponer de una muestra más o menos significativa de la población inicial. Esto es lo más importante del contraste de hipótesis. Esta muestra puede ser la población completa o no. Si por ejemplo queremos realizar un contraste de hipótesis para verificar si la media de la altura de los españoles es de 1,80 metros, realizaría el experimento sobre una población de 47 millones de personas. Esto es inabordable porque normalmente no se dispone de tanta información. Para ello, realizaremos un muestreo que es un subconjunto de esas 47 millones de personas y comparemos la media de 1,80 que hemos generalizado para la población y la media de la altura que se obtiene de la muestra, por ejemplo.\n",
                "\n",
                "##### Contraste de hipótesis para la media\n",
                "\n",
                "Este caso es uno de los más sencillos, el de comparación de dos medias, la nuestra y la de la población. Para compararlas, necesitamos previamente conocer la media y la desviación estándar de la población (nos vendrá dado porque estamos hipotetizando). La fórmula que caracteriza este cálculo es:\n",
                "\n",
                "$$ Z = {{\\overline{x} - \\mu} \\over {{\\sigma} \\over {\\sqrt{n}}}} $$\n",
                "\n",
                "donde $\\overline{x}$ y $\\sigma$ son la media y la desviación estándar de la población, $\\mu$ es la media que calcularemos de la muestra y $n$ es el tamaño de la muestra.\n",
                "\n",
                "Una vez se ha calculado el estadístico de la prueba de hipótesis para la media, se calculará también este valor para el nivel de significación previamente establecido ($Z_\\alpha$) y se compararán para aceptar o rechazar la hipótesis nula:\n",
                "\n",
                "- Si el contraste de hipótesis era de desigualdad (la hipótesis alternativa asume que la media poblacional y muestral son diferentes), entonces se rechaza $H_0$ si $|Z| > Z_{\\alpha/2}$ y se acepta $H_1$.\n",
                "- Si el contraste de hipótesis era de \"mayor que\" (la hipótesis alternativa asume que la media poblacional es mayor que la muestral), entonces se rechaza $H_0$ si $Z > Z_{\\alpha}$ y se acepta $H_1$.\n",
                "- Si el contraste de hipótesis era de \"menor que\" (la hipótesis alternativa asume que la media poblacional es menor que la muestral), entonces se rechaza $H_0$ si $Z < -Z_{\\alpha}$ y se acepta $H_1$."
            ]
        },
        {
            "attachments": {},
            "cell_type": "markdown",
            "id": "71527913",
            "metadata": {},
            "source": [
                "##### Contraste de hipótesis para la proporción\n",
                "\n",
                "Este caso es uno de los más sencillos, el de comparación de dos proporciones, la nuestra y la de la población. Para compararlas, necesitamos previamente conocer la proporción de la población (nos vendrá dado porque estamos hipotetizando). La fórmula que caracteriza este cálculo es:\n",
                "\n",
                "$$ Z = {{\\hat{p} - p} \\over {\\sqrt{{p(1-p)} \\over {n}}}} $$\n",
                "\n",
                "donde $p$ es la proporción propuesta, de la población, $\\hat{p}$ es la proporción que calcularemos de la muestra, $n$ es el tamaño de la muestra y la raíz cuadrada incluyendo lo de dentro es la desviación estándar de la proporción.\n",
                "\n",
                "Una vez se ha calculado el estadístico de la prueba de hipótesis para la proporción, se calculará también este valor para el nivel de significación previamente establecido ($Z_\\alpha$) y se compararán para aceptar o rechazar la hipótesis nula:\n",
                "\n",
                "- Si el contraste de hipótesis era de desigualdad (la hipótesis alternativa asume que la proporción poblacional y muestral son diferentes), entonces se rechaza $H_0$ si $|Z| > Z_{\\alpha/2}$ y se acepta $H_1$.\n",
                "- Si el contraste de hipótesis era de \"mayor que\" (la hipótesis alternativa asume que la proporción poblacional es mayor que la muestral), entonces se rechaza $H_0$ si $Z > Z_{\\alpha}$ y se acepta $H_1$.\n",
                "- Si el contraste de hipótesis era de \"menor que\" (la hipótesis alternativa asume que la proporción poblacional es menor que la muestral), entonces se rechaza $H_0$ si $Z < -Z_{\\alpha}$ y se acepta $H_1$."
            ]
        },
        {
            "attachments": {},
            "cell_type": "markdown",
            "id": "7c303ea4",
            "metadata": {},
            "source": [
                "#### 4. Decisión. ¿Se acepta la hipótesis?\n",
                "\n",
                "Dependiendo del objeto de la hipótesis y por lo tanto del proceso de verificación, se debe analizar el resultado y si se encuentra dentro del intervalo de confianza o no. Recordemos que el objeto de estudio es la hipótesis alternativa y en función del resultado podemos aceptar o rechazar la hipótesis nula."
            ]
        },
        {
            "attachments": {},
            "cell_type": "markdown",
            "id": "889aa3de",
            "metadata": {},
            "source": [
                "### El otro lado de los Contrastes de Hipótesis\n",
                "\n",
                "La ciencia detrás del estudio de hipótesis es muy amplia y aquí se ha ofrecido una información básica y necesaria para comprender sus fundamentos, pero no siempre se dan las condiciones tan favorables como se ha mostrado. Normalmente la varianza suele ser desconocida o queremos calcular la proporción de dos o más poblaciones. En este caso necesitamos recurrir a otras técnicas más avanzadas. Entre ellas, encontramos:\n",
                "\n",
                "- **T-Test**: Permite comparar dos grupos o categorías numéricas con un tamaño muestral reducido. Este caso es el contraste de hipótesis para la media en el caso de que se desconozca la varianza con muestra reducida. Sin embargo, también se puede usar cuando se conoce.\n",
                "- **Z-Test**: Permite comparar dos grupos o categorías numéricas con un tamaño muestral amplio. Este caso es el contraste de hipótesis para la media en el caso de que se desconozca la varianza con muestra amplia. Sin embargo, también se puede usar cuando se conoce.\n",
                "- **ANOVA Test**: Permite comparar dos o más grupos o categorías numéricas.\n",
                "- **Chi-Cuadrado Test**: Analiza la relación entre dos variables categóricas.\n",
                "- **Correlation Test**: Analiza la relación entre dos variables numéricas.\n",
                "\n",
                "![contrast_advanced.png](https://github.com/4GeeksAcademy/machine-learning-content/blob/master/assets/contrast_advanced.png?raw=true)\n",
                "\n",
                "Información más detallada: https://towardsdatascience.com/an-interactive-guide-to-hypothesis-testing-in-python-979f4d62d85"
            ]
        }
    ],
    "metadata": {
        "interpreter": {
            "hash": "9248718ffe6ce6938b217e69dbcc175ea21f4c6b28a317e96c05334edae734bb"
        },
        "kernelspec": {
            "display_name": "Python 3.9.12 ('ML-BOOTCAMP')",
            "language": "python",
            "name": "python3"
        },
        "language_info": {
            "codemirror_mode": {
                "name": "ipython",
                "version": 3
            },
            "file_extension": ".py",
            "mimetype": "text/x-python",
            "name": "python",
            "nbconvert_exporter": "python",
            "pygments_lexer": "ipython3",
            "version": "3.9.12"
        }
    },
    "nbformat": 4,
    "nbformat_minor": 5
}
