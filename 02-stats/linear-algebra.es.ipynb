{
    "cells": [
        {
            "attachments": {},
            "cell_type": "markdown",
            "id": "52d41e2c",
            "metadata": {},
            "source": [
                "# Álgebra Lineal"
            ]
        },
        {
            "attachments": {},
            "cell_type": "markdown",
            "id": "c6736e5d",
            "metadata": {},
            "source": [
                "El álgebra lineal es la rama de la matemática sobre ecuaciones lineales que utiliza espacio vectorial y matrices.\n",
                "\n",
                "Las dos entidades matemáticas primarias que son de interés en álgebra lineal son el **vector** y la **matriz**. Son ejemplos de una entidad más general conocida como tensor. Los tensores poseen un orden (o rango), que determina el número de dimensiones en una matriz requerida para representarlo.\n",
                "\n",
                "**Vectores**: Conjunto de elementos numéricos de un tamaño concreto y unidimensionales. Por ejemplo:\n",
                "\n",
                "$$\\begin{matrix} 3 \\\\ 4 \\\\ 5 \\end{matrix}$$\n",
                "\n",
                "`numpy` es la librería por excelencia para trabajar con estas estructuras de datos. Algunos ejemplos para generar vectores aleatorios son:"
            ]
        },
        {
            "cell_type": "code",
            "execution_count": null,
            "id": "f13403ab",
            "metadata": {},
            "outputs": [],
            "source": [
                "import numpy as np\n",
                "\n",
                "# Vector de 10 unos\n",
                "a1 = np.ones(10)\n",
                "print(a1)\n",
                "\n",
                "# Vector de 10 números que tienen la misma distancia entre sí, empezando por el 3 y acabando por el 15\n",
                "a2 = np.linspace(3, 15, 10)\n",
                "print(a2)\n",
                "\n",
                "# Vector de 10 números aleatorios entre [0, 1)\n",
                "a3 = np.random.rand(10)\n",
                "print(a3)\n",
                "\n",
                "# Vector de 10 númeos aleatorios entre \n",
                "a4 = np.random.randint(1, 10, size=10)\n",
                "print(a4)"
            ]
        },
        {
            "attachments": {},
            "cell_type": "markdown",
            "id": "bd631630",
            "metadata": {},
            "source": [
                "**Matriz**: Conjunto de vectores que conforman una estructura rectangular con filas y columnas. Por ejemplo:\n",
                "\n",
                "$$\\begin{matrix} 3 & 4 \\\\ 5 & 6 \\end{matrix}$$\n",
                "\n",
                "Con `numpy` también se puede trabajar con esta librería para generar matrices. Algunos ejemplos para generarlas son:"
            ]
        },
        {
            "cell_type": "code",
            "execution_count": null,
            "id": "8948deb3",
            "metadata": {},
            "outputs": [],
            "source": [
                "# Matriz identidad de 5x5 (5 filas, 5 columnas)\n",
                "m1 = np.identity(5)\n",
                "print(m1)\n",
                "\n",
                "# Matriz de 3x2 (3 filas, 2 columnas) con números aleatorios entre [0, 1)\n",
                "m2 = np.random.rand(3, 2)\n",
                "print(m2)\n",
                "\n",
                "# Matriz de 7x5 (7 filas, 5 columnas) con números aleatorios entre 5 y 19\n",
                "m3 = np.random.randint(5, 19, size=(7, 5))\n",
                "print(m3)"
            ]
        },
        {
            "attachments": {},
            "cell_type": "markdown",
            "id": "fe0d8d03",
            "metadata": {},
            "source": [
                "\n",
                "\n",
                "**Tensores**: Los tensores son una matriz de números o funciones que se transmutan con ciertas reglas cuando cambian las coordenadas. Normalmente el trabajo con tensores es más avanzado y requiere de librerías más orientadas al Machine Learning y a los modelos como `TensorFlow` o `PyTorch`.\n",
                "\n",
                "El ***Machine Learning*** es el punto de contacto para Ciencias Informáticas y Estadística.\n",
                "\n",
                "### Vectores\n",
                "\n",
                "Dado que los escalares existen para representar valores, ¿por qué son necesarios los vectores? Uno de los principales casos de uso de los vectores es representar cantidades físicas que tienen tanto una magnitud como una dirección. Los escalares solo son capaces de representar magnitudes.\n",
                "\n",
                "Por ejemplo, los escalares y los vectores codifican la diferencia entre la rapidez de un automóvil y su velocidad. La velocidad contiene no solo su rapidez, sino que también su dirección de viaje.\n",
                "\n",
                "En Machine Learning los vectores a menudo representan vectores de características, con sus componentes individuales especificando qué tan importante es una característica en particular. Tales características podrían incluir la importancia relativa de las palabras en un documento de texto, la intensidad de un conjunto de píxeles en una imagen bidimensional o valores de precios históricos para una muestra representativa de instrumentos financieros.\n",
                "\n",
                "**Operaciones Escalares**\n",
                "\n",
                "Las operaciones escalares involucran un vector y un número\n"
            ]
        },
        {
            "attachments": {},
            "cell_type": "markdown",
            "id": "ef717237",
            "metadata": {},
            "source": [
                "![linear_algebra_scalar_operations.png](https://github.com/4GeeksAcademy/machine-learning-content/blob/master/assets/linear_algebra_scalar_operations.png?raw=true)"
            ]
        },
        {
            "attachments": {},
            "cell_type": "markdown",
            "id": "ae8ef9bb",
            "metadata": {},
            "source": [
                "**Multiplicación de vectores**\n",
                "\n",
                "Hay dos tipos de multiplicación vectorial: producto punto y producto de Hadamard.\n",
                "\n",
                "El producto punto de dos vectores es un escalar. El producto punto de vectores y matrices (multiplicación de matrices) es una de las operaciones más importantes en el aprendizaje profundo."
            ]
        },
        {
            "attachments": {},
            "cell_type": "markdown",
            "id": "146d59b5",
            "metadata": {},
            "source": [
                "![linear_algebra_dot_product.png](https://github.com/4GeeksAcademy/machine-learning-content/blob/master/assets/linear_algebra_dot_product.png?raw=true)"
            ]
        },
        {
            "attachments": {},
            "cell_type": "markdown",
            "id": "dcd1d399",
            "metadata": {},
            "source": [
                "El producto de Hadamard es una multiplicación por elementos y genera un vector."
            ]
        },
        {
            "attachments": {},
            "cell_type": "markdown",
            "id": "a472d811",
            "metadata": {},
            "source": [
                "![linear_algebra_hadamard_product.png](https://github.com/4GeeksAcademy/machine-learning-content/blob/master/assets/linear_algebra_hadamard_product.png?raw=true)"
            ]
        },
        {
            "attachments": {},
            "cell_type": "markdown",
            "id": "72c4b002",
            "metadata": {},
            "source": [
                "\n",
                "### Matrices\n",
                "\n",
                "Una matriz es una cuadrícula rectangular de números o términos (como una hoja de cálculo de Excel) con reglas especiales para sumar, restar y multiplicar.\n",
                "\n",
                "Dimensiones de la matriz: Describimos las dimensiones de una matriz en términos de filas por columnas.\n",
                "\n",
                "**Operaciones escalares de matrices**\n",
                "\n",
                "Las operaciones escalares con matrices funcionan de la misma manera que con los vectores.\n",
                "\n",
                "Simplemente aplica el escalar a cada elemento de la matriz — suma, resta, divide, multiplica, etc.\n"
            ]
        },
        {
            "attachments": {},
            "cell_type": "markdown",
            "id": "5d17dd5a",
            "metadata": {},
            "source": [
                "![matrix_scalar_operations.png](https://github.com/4GeeksAcademy/machine-learning-content/blob/master/assets/matrix_scalar_operations.png?raw=true)"
            ]
        },
        {
            "attachments": {},
            "cell_type": "markdown",
            "id": "f9058573",
            "metadata": {},
            "source": [
                "**Operaciones con elementos matriciales**\n",
                "\n",
                "Para sumar, restar o dividir dos matrices deben tener las mismas dimensiones. Combinamos los valores correspondientes de forma elemental para producir una nueva matriz."
            ]
        },
        {
            "attachments": {},
            "cell_type": "markdown",
            "id": "f82a710e",
            "metadata": {},
            "source": [
                "![matrix_elementwise_operations.png](https://github.com/4GeeksAcademy/machine-learning-content/blob/master/assets/matrix_elementwise_operations.png?raw=true)"
            ]
        },
        {
            "attachments": {},
            "cell_type": "markdown",
            "id": "51e19bb2",
            "metadata": {},
            "source": [
                "**Multiplicación de matrices**\n",
                "\n",
                "El producto de Hadamard de matrices es una operación elemental.\n",
                "Los valores que corresponden posicionalmente se multiplican para producir una nueva matriz."
            ]
        },
        {
            "attachments": {},
            "cell_type": "markdown",
            "id": "6424f65e",
            "metadata": {},
            "source": [
                "![matrix_hadamard_operations.png](https://github.com/4GeeksAcademy/machine-learning-content/blob/master/assets/matrix_hadamard_operations.png?raw=true)"
            ]
        },
        {
            "attachments": {},
            "cell_type": "markdown",
            "id": "2800ccac",
            "metadata": {},
            "source": [
                "*Normas*\n",
                "\n",
                "El número de columnas de la primera matriz debe ser igual al número de filas de la segunda.\n",
                "El producto de una matriz M x N y una matriz N x K es una matriz M x K.\n",
                "La nueva matriz toma las filas de la 1ra y las columnas de la 2da.\n",
                "\n",
                "**Transposición de matriz**\n",
                "\n",
                "La transposición de matriz proporciona una forma de \"rotar\" una de las matrices para que la operación cumpla con los requisitos de multiplicación y pueda continuar.\n",
                "\n",
                "Hay dos pasos para transponer una matriz:\n",
                "\n",
                "1. Rotar la matriz 90° a la derecha\n",
                "2. Invierte el orden de los elementos en cada fila (por ejemplo, $[a b c]$ se convierte en $[c b a]$)\n",
                "\n",
                "Numpy usa la función np.dot $(A,B)$ para la multiplicación de vectores y matrices.\n"
            ]
        },
        {
            "attachments": {},
            "cell_type": "markdown",
            "id": "550ba0bb",
            "metadata": {},
            "source": [
                "### Análisis Numérico Básico\n",
                "\n",
                "La biblioteca estándar de Python para álgebra lineal es Numpy. El objeto básico en Numpy es ndarray, una generalización n-dimensional de la lista de Python."
            ]
        },
        {
            "cell_type": "code",
            "execution_count": 2,
            "id": "d26aa454",
            "metadata": {},
            "outputs": [
                {
                    "name": "stdout",
                    "output_type": "stream",
                    "text": [
                        "[1 2 3 4]\n",
                        "shape of a: (4,)\n",
                        "\n",
                        "[[1 2 3 4]]\n",
                        "shape of b: (1, 4)\n",
                        "\n",
                        "[[1]\n",
                        " [2]\n",
                        " [3]\n",
                        " [4]]\n",
                        "shape of c: (4, 1)\n",
                        "\n",
                        "[[1 2]\n",
                        " [3 4]]\n",
                        "shape of d: (2, 2)\n"
                    ]
                }
            ],
            "source": [
                "import numpy as np\n",
                "\n",
                "a = np.array([1, 2, 3, 4])\n",
                "b = np.array([[1, 2, 3, 4]])\n",
                "c = np.array([[1], [2], [3], [4]])\n",
                "d = np.array([[1, 2], [3, 4]])\n",
                "\n",
                "print(a)\n",
                "print('shape of a: {}'.format(a.shape))\n",
                "print()\n",
                "\n",
                "print(b)\n",
                "print('shape of b: {}'.format(b.shape))\n",
                "print()\n",
                "\n",
                "print(c)\n",
                "print('shape of c: {}'.format(c.shape))\n",
                "print()\n",
                "\n",
                "print(d)\n",
                "print('shape of d: {}'.format(d.shape))"
            ]
        },
        {
            "attachments": {},
            "cell_type": "markdown",
            "id": "618588cb",
            "metadata": {},
            "source": [
                "La forma de un ndarray nos da las dimensiones. b es una matriz de 1 por 4, o un vector fila. c es un vector columna. d es una matriz de 2 por 2.\n",
                "\n",
                "Ingresar un vector de columna requiere muchos corchetes, lo que puede ser tedioso. En su lugar, podemos usar **transpose** (transponer)."
            ]
        },
        {
            "cell_type": "code",
            "execution_count": 3,
            "id": "f93647aa",
            "metadata": {},
            "outputs": [
                {
                    "name": "stdout",
                    "output_type": "stream",
                    "text": [
                        "[[1 2 3 4]]\n",
                        "shape of b: (1, 4)\n",
                        "\n",
                        "[[1]\n",
                        " [2]\n",
                        " [3]\n",
                        " [4]]\n",
                        "shape of b.transpose(): (4, 1)\n"
                    ]
                }
            ],
            "source": [
                "print(b)\n",
                "print('shape of b: {}'.format(b.shape))\n",
                "print()\n",
                "\n",
                "print(b.transpose())\n",
                "print('shape of b.transpose(): {}'.format(b.transpose().shape))"
            ]
        },
        {
            "attachments": {},
            "cell_type": "markdown",
            "id": "d157961e",
            "metadata": {},
            "source": [
                "De manera similar, se puede ingresar una matriz escribiendo primero un arreglo unidimensional y luego poniendo el arreglo a través de **reshape** (reformar):"
            ]
        },
        {
            "cell_type": "code",
            "execution_count": 7,
            "id": "61402e85",
            "metadata": {},
            "outputs": [
                {
                    "name": "stdout",
                    "output_type": "stream",
                    "text": [
                        "[[1 2 3 4]]\n",
                        "shape of b: (1, 4)\n",
                        "\n",
                        "[[1 2]\n",
                        " [3 4]]\n",
                        "shape of b.reshape((2,2)): [[1 2]\n",
                        " [3 4]]\n",
                        "\n",
                        "[[1]\n",
                        " [2]\n",
                        " [3]\n",
                        " [4]]\n",
                        "shape of b.reshape((4,1)): [[1]\n",
                        " [2]\n",
                        " [3]\n",
                        " [4]]\n"
                    ]
                }
            ],
            "source": [
                "print(b)\n",
                "print('shape of b: {}'.format(b.shape))\n",
                "print()\n",
                "\n",
                "print(b.reshape((2,2)))\n",
                "print('shape of b.reshape((2,2)): {}'.format(b.transpose().reshape((2,2))))\n",
                "print()\n",
                "\n",
                "print(b.reshape((4,1)))\n",
                "print('shape of b.reshape((4,1)): {}'.format(b.transpose().reshape((4,1))))\n"
            ]
        },
        {
            "attachments": {},
            "cell_type": "markdown",
            "id": "b4b82066",
            "metadata": {},
            "source": [
                "Hay una serie de funciones preconstruidas para tipos especiales de vectores y matrices."
            ]
        },
        {
            "cell_type": "code",
            "execution_count": 8,
            "id": "7e3897e2",
            "metadata": {},
            "outputs": [
                {
                    "name": "stdout",
                    "output_type": "stream",
                    "text": [
                        "[0 1 2 3 4]\n",
                        "\n",
                        "[2 3 4 5 6 7]\n",
                        "\n",
                        "[ 2  5  8 11 14]\n",
                        "\n",
                        "[[1.]]\n",
                        "\n",
                        "[[1. 0.]\n",
                        " [0. 1.]]\n",
                        "\n",
                        "[[1. 0. 0.]\n",
                        " [0. 1. 0.]\n",
                        " [0. 0. 1.]]\n",
                        "\n",
                        "[0.]\n",
                        "\n",
                        "[0. 0.]\n",
                        "\n",
                        "[0. 0. 0.]\n",
                        "\n"
                    ]
                }
            ],
            "source": [
                "print(np.arange(5))\n",
                "print()\n",
                "\n",
                "print(np.arange(2, 8))\n",
                "print()\n",
                "\n",
                "print(np.arange(2, 15, 3))\n",
                "print()\n",
                "\n",
                "print(np.eye(1))\n",
                "print()\n",
                "\n",
                "print(np.eye(2))\n",
                "print()\n",
                "\n",
                "print(np.eye(3))\n",
                "print()\n",
                "\n",
                "print(np.zeros(1))\n",
                "print()\n",
                "\n",
                "print(np.zeros(2))\n",
                "print()\n",
                "\n",
                "print(np.zeros(3))\n",
                "print()"
            ]
        },
        {
            "attachments": {},
            "cell_type": "markdown",
            "id": "30f34a8a",
            "metadata": {},
            "source": [
                "Las multiplicaciones de matrices se realizan mediante **dot** (punto):"
            ]
        },
        {
            "cell_type": "code",
            "execution_count": 9,
            "id": "17f2cca9",
            "metadata": {},
            "outputs": [
                {
                    "name": "stdout",
                    "output_type": "stream",
                    "text": [
                        "[[-1  1]\n",
                        " [-2  2]]\n",
                        "\n",
                        "[[-1  1]\n",
                        " [-2  2]]\n"
                    ]
                }
            ],
            "source": [
                "x = np.array([[2, 3], [5, 7]])\n",
                "y = np.array([[1, -1], [-1, 1]])\n",
                "\n",
                "print(np.dot(x,y))\n",
                "print()\n",
                "print(x.dot(y))"
            ]
        },
        {
            "attachments": {},
            "cell_type": "markdown",
            "id": "1923fd09",
            "metadata": {},
            "source": [
                "Ndarray admite operaciones coordinadas. Observa en particular, que * no da como resultado una multiplicación de matrices."
            ]
        },
        {
            "cell_type": "code",
            "execution_count": 10,
            "id": "860d37d4",
            "metadata": {},
            "outputs": [
                {
                    "name": "stdout",
                    "output_type": "stream",
                    "text": [
                        "[4 6 8]\n",
                        "\n",
                        "[[3 2]\n",
                        " [1 0]]\n",
                        "\n",
                        "[[ 1  4  3]\n",
                        " [12 -5 -6]]\n",
                        "\n",
                        "[[0.5]\n",
                        " [1.5]]\n"
                    ]
                }
            ],
            "source": [
                "print(np.array([1, 2, 3]) + np.array([3,4,5]))\n",
                "print()\n",
                "\n",
                "print(np.array([[4,3],[2,1]]) - np.array([[1,1],[1,1]]))\n",
                "print()\n",
                "\n",
                "print(np.array([[1, 2, 3], [4, 5, 6]]) * np.array([[1, 2, 1], [3, -1, -1]]))\n",
                "print()\n",
                "\n",
                "print(np.array([[1], [3]]) / np.array([[2], [2]]))"
            ]
        },
        {
            "attachments": {},
            "cell_type": "markdown",
            "id": "8c63e817",
            "metadata": {},
            "source": [
                "Las operaciones con dimensiones que no coinciden a veces dan como resultado una operación legítima. Por ejemplo, la multiplicación escalar funciona bien:"
            ]
        },
        {
            "cell_type": "code",
            "execution_count": 11,
            "id": "de421e33",
            "metadata": {},
            "outputs": [
                {
                    "data": {
                        "text/plain": [
                            "array([[ 6, 12,  9],\n",
                            "       [ 3,  6, 15],\n",
                            "       [-3, -3, -3]])"
                        ]
                    },
                    "execution_count": 11,
                    "metadata": {},
                    "output_type": "execute_result"
                }
            ],
            "source": [
                "3 * np.array([[2,4,3], [1,2,5], [-1, -1, -1]])"
            ]
        },
        {
            "attachments": {},
            "cell_type": "markdown",
            "id": "47dcaf04",
            "metadata": {},
            "source": [
                "Las operaciones por filas y las operaciones por columnas también son posibles:"
            ]
        },
        {
            "cell_type": "code",
            "execution_count": 12,
            "id": "5984b4ad",
            "metadata": {},
            "outputs": [
                {
                    "name": "stdout",
                    "output_type": "stream",
                    "text": [
                        "[[0 1 2]\n",
                        " [3 4 5]\n",
                        " [6 7 8]]\n",
                        "\n",
                        "[[ 5  6  7]\n",
                        " [ 2  3  4]\n",
                        " [ 9 10 11]]\n",
                        "\n",
                        "[[ 5  0  5]\n",
                        " [ 8  3  8]\n",
                        " [11  6 11]]\n"
                    ]
                }
            ],
            "source": [
                "x = np.array([5, -1, 3])\n",
                "y = np.arange(9).reshape((3, 3))\n",
                "\n",
                "print(y)\n",
                "print()\n",
                "\n",
                "print(x.reshape((3, 1)) + y)\n",
                "print()\n",
                "\n",
                "print(x.reshape((1, 3)) + y)"
            ]
        },
        {
            "attachments": {},
            "cell_type": "markdown",
            "id": "51b654e8",
            "metadata": {},
            "source": [
                "### Aplicaciones del Álgebra Lineal en el proceso de Machine Learning.\n",
                "\n",
                "El Álgebra Lineal es aplicable en predicciones, análisis de señales, reconocimiento facial, etc.\n",
                "\n",
                "Algunas aplicaciones:\n",
                "\n",
                "-\tLos datos en un Dataset (conjunto de datos) están vectorizados. Las filas se insertan en un modelo una a la vez para realizar cálculos más fáciles y auténticos.\n",
                "\n",
                "-\tTodas las imágenes tienen una estructura tabular. Forma una matriz en Álgebra Lineal. Las técnicas de edición de imágenes, como recortar y escalar, utilizan operaciones algebraicas.\n",
                "\n",
                "-\tLa regularización es un método que minimiza el tamaño de los coeficientes mientras los inserta en los datos.\n",
                "\n",
                "-\tEl aprendizaje profundo funciona con vectores, matrices e incluso tensores, ya que requiere estructuras de datos lineales agregadas y multiplicadas.\n",
                "\n",
                "-\tEl método 'One hot encoding' codifica categorías para facilitar las operaciones de álgebra.\n",
                "\n",
                "-\tEn la regresión lineal, se utiliza el álgebra lineal para describir la relación entre las variables.\n",
                "\n",
                "-\tCuando encontramos datos irrelevantes, normalmente eliminamos las columnas redundantes, por lo que PCA actúa con la factorización de matrices.\n",
                "\n",
                "-\tCon la ayuda del álgebra lineal, los sistemas de recomendación pueden tener datos más depurados."
            ]
        },
        {
            "attachments": {},
            "cell_type": "markdown",
            "id": "a1288572",
            "metadata": {},
            "source": [
                "Fuente:\n",
                "\n",
                "https://www.educba.com/linear-algebra-in-machine-learning/\n",
                "\n",
                "https://en.wikipedia.org/wiki/Linear_algebra\n",
                "\n",
                "https://www.quantstart.com/articles/scalars-vectors-matrices-and-tensors-linear-algebra-for-deep-learning-part-1/#:~:text=Vectors%20and%20Matrices%20The%20two%20primary%20mathematical%20entities,a%20more%20general%20entity%20known%20as%20a%20tensor.\n",
                "\n",
                "https://github.com/markkm/math-for-ml\n",
                "\n",
                "https://towardsdatascience.com/linear-algebra-cheat-sheet-for-deep-learning-cd67aba4526c\n"
            ]
        }
    ],
    "metadata": {
        "interpreter": {
            "hash": "9248718ffe6ce6938b217e69dbcc175ea21f4c6b28a317e96c05334edae734bb"
        },
        "kernelspec": {
            "display_name": "Python 3.9.12 ('ML-BOOTCAMP')",
            "language": "python",
            "name": "python3"
        },
        "language_info": {
            "codemirror_mode": {
                "name": "ipython",
                "version": 3
            },
            "file_extension": ".py",
            "mimetype": "text/x-python",
            "name": "python",
            "nbconvert_exporter": "python",
            "pygments_lexer": "ipython3",
            "version": "3.9.12"
        }
    },
    "nbformat": 4,
    "nbformat_minor": 5
}
