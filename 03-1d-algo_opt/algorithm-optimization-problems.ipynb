{
 "cells": [
  {
   "cell_type": "markdown",
   "id": "27b09e13",
   "metadata": {},
   "source": [
    "# Algorithm Optimization problems"
   ]
  },
  {
   "cell_type": "markdown",
   "id": "ef0e0346",
   "metadata": {},
   "source": [
    "### Exercise 1\n",
    "\n",
    "Write a function rotate(ar[], d, n) that rotates arr[] of size n by d elements. \n",
    "We will use two differetn methods:\n",
    "\n",
    "Method 1: Use a temporal array\n",
    "\n",
    "```py\n",
    "Input arr[] = [1, 2, 3, 4, 5, 6, 7], d = 2, n =7\n",
    "1) Store the first d elements in a temp array\n",
    "   temp[] = [1, 2]\n",
    "2) Shift rest of the arr[]\n",
    "   arr[] = [3, 4, 5, 6, 7, 6, 7]\n",
    "3) Store back the d elements\n",
    "   arr[] = [3, 4, 5, 6, 7, 1, 2]\n",
    "```\n"
   ]
  },
  {
   "cell_type": "code",
   "execution_count": 1,
   "id": "08dea980",
   "metadata": {},
   "outputs": [
    {
     "name": "stdout",
     "output_type": "stream",
     "text": [
      "[3, 4, 5, 6, 7, 1, 2]\n"
     ]
    }
   ],
   "source": [
    "def rotate(L,d,n):\n",
    "    k=L.index(d)\n",
    "    new_lis=[]\n",
    "    new_lis=L[k+1:]+L[0:k+1]\n",
    "    return new_lis\n",
    "   \n",
    "d = 2\n",
    "n = 7\n",
    "print(rotate([1,2,3,4,5,6,7],d,n))"
   ]
  },
  {
   "cell_type": "markdown",
   "id": "757bdfe1",
   "metadata": {},
   "source": [
    "Method 2: Rotate one by one\n",
    "\n",
    "```py\n",
    "leftRotate(arr[], d, n)\n",
    "start\n",
    "  For i = 0 to i < d\n",
    "    Left rotate all elements of arr[] by one\n",
    "end\n",
    "```"
   ]
  },
  {
   "cell_type": "markdown",
   "id": "ed05e9bf",
   "metadata": {},
   "source": [
    "### Exercise 2\n",
    "\n",
    "Efficiently compute sums of diagonals of a matrix.\n",
    "\n",
    "For example:\n",
    "\n",
    "```py\n",
    "Input : \n",
    "\n",
    "4\n",
    "1 2 3 4\n",
    "4 3 2 1\n",
    "7 8 9 6\n",
    "6 5 4 3\n",
    "\n",
    "Output :\n",
    "\n",
    "Principal Diagonal: 16\n",
    "Secondary Diagonal: 20\n",
    "```\n",
    "\n",
    "The primary diagonal is formed by the elements 1,3,9,3. \n",
    " \n",
    "\n",
    "Condition for Principal Diagonal: The row-column condition is row = column. \n",
    "\n",
    "The secondary diagonal is formed by the elements 4,2,8,6.\n",
    "\n",
    "Condition for Secondary Diagonal: The row-column condition is row = numberOfRows – column -1."
   ]
  },
  {
   "cell_type": "markdown",
   "id": "8f18cb2f",
   "metadata": {},
   "source": [
    "Method 1 (O(n ^ 2) :\n",
    "\n",
    "In this method, we use two loops i.e. a loop for columns and a loop for rows and in the inner loop we check for the condition stated above"
   ]
  },
  {
   "cell_type": "code",
   "execution_count": null,
   "id": "c592f03c",
   "metadata": {},
   "outputs": [],
   "source": [
    "# A simple Python program to\n",
    "# find sum of diagonals\n",
    "MAX = 100\n",
    " \n",
    "def printDiagonalSums(mat, n):\n",
    " \n",
    "    principal = 0\n",
    "    secondary = 0;\n",
    "    for i in range(0, n):\n",
    "        for j in range(0, n):\n",
    " \n",
    "            # Condition for principal diagonal\n",
    "            if (i == j):\n",
    "                principal += mat[i][j]\n",
    " \n",
    "            # Condition for secondary diagonal\n",
    "            if ((i + j) == (n - 1)):\n",
    "                secondary += mat[i][j]\n",
    "                \n",
    "    print(\"Principal Diagonal:\", principal)\n",
    "    print(\"Secondary Diagonal:\", secondary)\n",
    " \n",
    "# Driver code\n",
    "a = [[ 1, 2, 3, 4 ],\n",
    "     [ 5, 6, 7, 8 ],\n",
    "     [ 1, 2, 3, 4 ],\n",
    "      [ 5, 6, 7, 8 ]]\n",
    "printDiagonalSums(a, 4)\n",
    " \n",
    "# This code is contributed\n",
    "# by ihritik"
   ]
  },
  {
   "cell_type": "markdown",
   "id": "4f0567be",
   "metadata": {},
   "source": [
    "Method 2 (O(n) :\n",
    "\n",
    "In this method we use one loop i.e. a loop for calculating sum of both the principal and secondary diagonals: "
   ]
  },
  {
   "cell_type": "code",
   "execution_count": null,
   "id": "0ca5e0a5",
   "metadata": {},
   "outputs": [],
   "source": [
    "# A simple Python3 program to find\n",
    "# sum of diagonals\n",
    "MAX = 100\n",
    " \n",
    "def printDiagonalSums(mat, n):\n",
    " \n",
    "    principal = 0\n",
    "    secondary = 0\n",
    "    for i in range(0, n):\n",
    "        principal += mat[i][i]\n",
    "        secondary += mat[i][n - i - 1]\n",
    "         \n",
    "    print(\"Principal Diagonal:\", principal)\n",
    "    print(\"Secondary Diagonal:\", secondary)\n",
    " \n",
    "# Driver code\n",
    "a = [[ 1, 2, 3, 4 ],\n",
    "     [ 5, 6, 7, 8 ],\n",
    "     [ 1, 2, 3, 4 ],\n",
    "     [ 5, 6, 7, 8 ]]\n",
    "printDiagonalSums(a, 4)\n",
    " \n",
    "# This code is contributed\n",
    "# by ihritik"
   ]
  }
 ],
 "metadata": {
  "interpreter": {
   "hash": "0f2f6c680cf484319d387fabac80ca4ff4fc33965036e02100b3fe02600f1423"
  },
  "kernelspec": {
   "display_name": "Python 3.10.1 64-bit",
   "language": "python",
   "name": "python3"
  },
  "language_info": {
   "codemirror_mode": {
    "name": "ipython",
    "version": 3
   },
   "file_extension": ".py",
   "mimetype": "text/x-python",
   "name": "python",
   "nbconvert_exporter": "python",
   "pygments_lexer": "ipython3",
   "version": "3.10.1"
  }
 },
 "nbformat": 4,
 "nbformat_minor": 5
}
