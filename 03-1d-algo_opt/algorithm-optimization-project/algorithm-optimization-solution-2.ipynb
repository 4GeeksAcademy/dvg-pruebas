{
 "cells": [
  {
   "cell_type": "markdown",
   "id": "27b09e13",
   "metadata": {},
   "source": [
    "# Algorithm Optimization problems"
   ]
  },
  {
   "cell_type": "markdown",
   "id": "425bc2b8",
   "metadata": {},
   "source": [
    "## Exercise 2 : QuickSort algorithm\n",
    "\n",
    "Quicksort is a naturally recursive algorithm - divide the input array into smaller arrays, move the elements to the proper side of the pivot, and repeat. \n",
    "\n",
    "When we first call the algorithm, we consider all of the elements - from indexes **0** to **n-1** where **n** is the number of elements in our array. If our pivot ended up in position **k**, we'd then repeat the process for elements from **0 to k-1** and from **k+1** to **n-1**.\n",
    "\n",
    "This time we are going to order an array by using two functions - partition() and quick_sort(). The quick_sort() function will first partition() the collection and then recursively call itself on the divided parts.\n",
    "\n",
    "The code for the partition() function has been provided to you in the following cell. Use this partition() function to implement the quick_sort() function in order to sort the following array:\n",
    "\n",
    "array = [29,99,23,41,66,28,44,78,87,19,31,76,58,88,82,97,12,21,44]"
   ]
  },
  {
   "cell_type": "code",
   "execution_count": null,
   "id": "e32eceef",
   "metadata": {},
   "outputs": [],
   "source": [
    "def partition(array, start, end):\n",
    "    pivot = array[start]\n",
    "    low = start + 1\n",
    "    high = end\n",
    "\n",
    "    while True:\n",
    "        # If the current value we're looking at is larger than the pivot\n",
    "        # it's in the right place (right side of pivot) and we can move left,\n",
    "        # to the next element.\n",
    "        # We also need to make sure we haven't surpassed the low pointer, since that\n",
    "        # indicates we have already moved all the elements to their correct side of the pivot\n",
    "        while low <= high and array[high] >= pivot:\n",
    "            high = high - 1\n",
    "\n",
    "        # Opposite process of the one above\n",
    "        while low <= high and array[low] <= pivot:\n",
    "            low = low + 1\n",
    "\n",
    "        # We either found a value for both high and low that is out of order\n",
    "        # or low is higher than high, in which case we exit the loop\n",
    "        if low <= high:\n",
    "            array[low], array[high] = array[high], array[low]\n",
    "            # The loop continues\n",
    "        else:\n",
    "            # We exit out of the loop\n",
    "            break\n",
    "\n",
    "    array[start], array[high] = array[high], array[start]\n",
    "\n",
    "    return high"
   ]
  },
  {
   "cell_type": "code",
   "execution_count": null,
   "id": "c0c22449",
   "metadata": {},
   "outputs": [],
   "source": [
    "def quick_sort(array, start, end):\n",
    "    #COMPLETE HERE THE CODE OF THE quick_sort() ARRAY\n",
    "    if start >= end:\n",
    "        return\n",
    "\n",
    "    p = partition(array, start, end)\n",
    "    quick_sort(array, start, p-1)\n",
    "    quick_sort(array, p+1, end)"
   ]
  },
  {
   "cell_type": "code",
   "execution_count": null,
   "id": "e6cd4c0e",
   "metadata": {},
   "outputs": [],
   "source": [
    "#RUN YOUR quick_sort() FUNCTION ON THE GIVEN ARRAY AND PRINT THE RESULT (SORTED ARRAY).\n",
    "\n",
    "array = [29,99,23,41,66,28,44,78,87,19,31,76,58,88,82,97,12,21,44]\n",
    "\n",
    "quick_sort(array, 0, len(array) - 1)\n",
    "print(array)"
   ]
  },
  {
   "cell_type": "markdown",
   "id": "b281af6e",
   "metadata": {},
   "source": [
    "Source:\n",
    "\n",
    "https://www.geeksforgeeks.org/\n",
    "\n",
    "https://stackabuse.com/big-o-notation-and-algorithm-analysis-with-python-examples/\n",
    "\n",
    "https://stackabuse.com/quicksort-in-python/\n",
    "\n",
    "https://stackabuse.com/k-nearest-neighbors-algorithm-in-python-and-scikit-learn/"
   ]
  }
 ],
 "metadata": {
  "interpreter": {
   "hash": "9248718ffe6ce6938b217e69dbcc175ea21f4c6b28a317e96c05334edae734bb"
  },
  "kernelspec": {
   "display_name": "Python 3.9.12 ('ML-BOOTCAMP')",
   "language": "python",
   "name": "python3"
  },
  "language_info": {
   "codemirror_mode": {
    "name": "ipython",
    "version": 3
   },
   "file_extension": ".py",
   "mimetype": "text/x-python",
   "name": "python",
   "nbconvert_exporter": "python",
   "pygments_lexer": "ipython3",
   "version": "3.9.12"
  }
 },
 "nbformat": 4,
 "nbformat_minor": 5
}
