{
 "cells": [
  {
   "cell_type": "markdown",
   "id": "27b09e13",
   "metadata": {},
   "source": [
    "# Algorithm Optimization problems"
   ]
  },
  {
   "cell_type": "markdown",
   "id": "6cb6a105",
   "metadata": {},
   "source": [
    "## Exercise 3: Implementing a KNN Algorithm with Scikit-learn\n",
    "\n",
    "We will see how Python's Scikit-Learn library can be used to implement the KNN algorithm in less than 20 lines of code. Then the task will be to try to optimize the parameter of this algorithm.\n",
    "\n",
    "**The dataset**\n",
    "\n",
    "We are going to use the famous iris data set for our KNN example. The dataset consists of four attributes: sepal-width, sepal-length, petal-width and petal-length. These are the attributes of specific types of iris plant. The goal is to predict the class to which these plants belong. There are three classes in the dataset: Iris-setosa, Iris-versicolor and Iris-virginica.\n",
    "\n",
    "\n",
    "**Library installation**\n",
    "\n",
    "\n",
    "First let's install the Scikit-learn library by entering the following command in the terminal:\n",
    "\n",
    "```py\n",
    "pip install -U scikit-learn\n",
    "```\n",
    "\n",
    "Now let's see how to implement the KNN algorithm:\n",
    "\n",
    "**Importing libraries**"
   ]
  },
  {
   "cell_type": "code",
   "execution_count": 6,
   "id": "9d0f17f0",
   "metadata": {},
   "outputs": [],
   "source": [
    "import numpy as np\n",
    "import matplotlib.pyplot as plt\n",
    "import pandas as pd"
   ]
  },
  {
   "cell_type": "markdown",
   "id": "d3e87b86",
   "metadata": {},
   "source": [
    "**Importing and loading the dataset**"
   ]
  },
  {
   "cell_type": "code",
   "execution_count": 7,
   "id": "ca2f71e1",
   "metadata": {},
   "outputs": [],
   "source": [
    "url = \"https://archive.ics.uci.edu/ml/machine-learning-databases/iris/iris.data\"\n",
    "\n",
    "# Assign colum names to the dataset\n",
    "names = ['sepal-length', 'sepal-width', 'petal-length', 'petal-width', 'Class']\n",
    "\n",
    "# Read dataset to pandas dataframe\n",
    "dataset = pd.read_csv(url, names=names)"
   ]
  },
  {
   "cell_type": "markdown",
   "id": "9fd366f8",
   "metadata": {},
   "source": [
    "**Looking at the first rows of the data**"
   ]
  },
  {
   "cell_type": "code",
   "execution_count": 8,
   "id": "058c3171",
   "metadata": {},
   "outputs": [
    {
     "data": {
      "text/html": [
       "<div>\n",
       "<style scoped>\n",
       "    .dataframe tbody tr th:only-of-type {\n",
       "        vertical-align: middle;\n",
       "    }\n",
       "\n",
       "    .dataframe tbody tr th {\n",
       "        vertical-align: top;\n",
       "    }\n",
       "\n",
       "    .dataframe thead th {\n",
       "        text-align: right;\n",
       "    }\n",
       "</style>\n",
       "<table border=\"1\" class=\"dataframe\">\n",
       "  <thead>\n",
       "    <tr style=\"text-align: right;\">\n",
       "      <th></th>\n",
       "      <th>sepal-length</th>\n",
       "      <th>sepal-width</th>\n",
       "      <th>petal-length</th>\n",
       "      <th>petal-width</th>\n",
       "      <th>Class</th>\n",
       "    </tr>\n",
       "  </thead>\n",
       "  <tbody>\n",
       "    <tr>\n",
       "      <th>0</th>\n",
       "      <td>5.1</td>\n",
       "      <td>3.5</td>\n",
       "      <td>1.4</td>\n",
       "      <td>0.2</td>\n",
       "      <td>Iris-setosa</td>\n",
       "    </tr>\n",
       "    <tr>\n",
       "      <th>1</th>\n",
       "      <td>4.9</td>\n",
       "      <td>3.0</td>\n",
       "      <td>1.4</td>\n",
       "      <td>0.2</td>\n",
       "      <td>Iris-setosa</td>\n",
       "    </tr>\n",
       "    <tr>\n",
       "      <th>2</th>\n",
       "      <td>4.7</td>\n",
       "      <td>3.2</td>\n",
       "      <td>1.3</td>\n",
       "      <td>0.2</td>\n",
       "      <td>Iris-setosa</td>\n",
       "    </tr>\n",
       "    <tr>\n",
       "      <th>3</th>\n",
       "      <td>4.6</td>\n",
       "      <td>3.1</td>\n",
       "      <td>1.5</td>\n",
       "      <td>0.2</td>\n",
       "      <td>Iris-setosa</td>\n",
       "    </tr>\n",
       "    <tr>\n",
       "      <th>4</th>\n",
       "      <td>5.0</td>\n",
       "      <td>3.6</td>\n",
       "      <td>1.4</td>\n",
       "      <td>0.2</td>\n",
       "      <td>Iris-setosa</td>\n",
       "    </tr>\n",
       "  </tbody>\n",
       "</table>\n",
       "</div>"
      ],
      "text/plain": [
       "   sepal-length  sepal-width  petal-length  petal-width        Class\n",
       "0           5.1          3.5           1.4          0.2  Iris-setosa\n",
       "1           4.9          3.0           1.4          0.2  Iris-setosa\n",
       "2           4.7          3.2           1.3          0.2  Iris-setosa\n",
       "3           4.6          3.1           1.5          0.2  Iris-setosa\n",
       "4           5.0          3.6           1.4          0.2  Iris-setosa"
      ]
     },
     "execution_count": 8,
     "metadata": {},
     "output_type": "execute_result"
    }
   ],
   "source": [
    "dataset.head()"
   ]
  },
  {
   "cell_type": "markdown",
   "id": "e3dae7c8",
   "metadata": {},
   "source": [
    "**Pre-processing**\n",
    "\n",
    "Split dataset into attributes and labels"
   ]
  },
  {
   "cell_type": "code",
   "execution_count": 9,
   "id": "ce94dbb1",
   "metadata": {},
   "outputs": [],
   "source": [
    "X = dataset.iloc[:, :-1].values\n",
    "y = dataset.iloc[:, 4].values"
   ]
  },
  {
   "cell_type": "markdown",
   "id": "d8b9dbed",
   "metadata": {},
   "source": [
    "**Train Test split**\n",
    "\n",
    "To avoid over-fitting, we will divide our dataset into training and test splits. This way our algorithm is tested on un-seen data to evaluate the performance of our algorithm. We will divide it into 80% training data and 20% for testing."
   ]
  },
  {
   "cell_type": "code",
   "execution_count": 10,
   "id": "8ccaf14e",
   "metadata": {},
   "outputs": [],
   "source": [
    "from sklearn.model_selection import train_test_split\n",
    "\n",
    "X_train, X_test, y_train, y_test = train_test_split(X, y, test_size=0.20)"
   ]
  },
  {
   "cell_type": "markdown",
   "id": "21b18743",
   "metadata": {},
   "source": [
    "**Feature Scaling**\n",
    "\n",
    "The majority of classifiers calculate the distance between two points by the Euclidean distance. If one of the features has a broad range of values, the distance will be governed by this particular feature. Therefore, the range of all features should be normalized so that each feature contributes approximately proportionately to the final distance.\n",
    "\n",
    "It is a good practice to scale the features so that all of them can be uniformly evaluated."
   ]
  },
  {
   "cell_type": "code",
   "execution_count": 11,
   "id": "9904f4a0",
   "metadata": {},
   "outputs": [],
   "source": [
    "from sklearn.preprocessing import StandardScaler\n",
    "scaler = StandardScaler()\n",
    "scaler.fit(X_train)\n",
    "\n",
    "X_train = scaler.transform(X_train)\n",
    "X_test = scaler.transform(X_test)"
   ]
  },
  {
   "cell_type": "markdown",
   "id": "6c368418",
   "metadata": {},
   "source": [
    "**Train the KNN algorithm**\n",
    "\n",
    "We will initialize it with one parameter: n_neigbours. This is basically the value for 'K'. After making the predictions we will try to otpimize this K value."
   ]
  },
  {
   "cell_type": "code",
   "execution_count": 13,
   "id": "fa6cda99",
   "metadata": {},
   "outputs": [
    {
     "data": {
      "text/plain": [
       "KNeighborsClassifier()"
      ]
     },
     "execution_count": 13,
     "metadata": {},
     "output_type": "execute_result"
    }
   ],
   "source": [
    "from sklearn.neighbors import KNeighborsClassifier\n",
    "classifier = KNeighborsClassifier(n_neighbors=5)\n",
    "classifier.fit(X_train, y_train)"
   ]
  },
  {
   "cell_type": "markdown",
   "id": "14b37ff9",
   "metadata": {},
   "source": [
    "**Make predictions on our test data**"
   ]
  },
  {
   "cell_type": "code",
   "execution_count": 14,
   "id": "2dab6f34",
   "metadata": {},
   "outputs": [],
   "source": [
    "y_pred = classifier.predict(X_test)"
   ]
  },
  {
   "cell_type": "markdown",
   "id": "5ebcc483",
   "metadata": {},
   "source": [
    "**Evaluate the algorithm**\n",
    "\n",
    "Confusion matrix, precision, recall and f1 score are the most commonly used metrics for classification problems.\n",
    "The confusion_matrix and classification_report methods of the sklearn.metrics can be used to calculate these metrics."
   ]
  },
  {
   "cell_type": "code",
   "execution_count": 15,
   "id": "7eaac127",
   "metadata": {},
   "outputs": [
    {
     "name": "stdout",
     "output_type": "stream",
     "text": [
      "[[ 9  0  0]\n",
      " [ 0  7  0]\n",
      " [ 0  0 14]]\n",
      "                 precision    recall  f1-score   support\n",
      "\n",
      "    Iris-setosa       1.00      1.00      1.00         9\n",
      "Iris-versicolor       1.00      1.00      1.00         7\n",
      " Iris-virginica       1.00      1.00      1.00        14\n",
      "\n",
      "       accuracy                           1.00        30\n",
      "      macro avg       1.00      1.00      1.00        30\n",
      "   weighted avg       1.00      1.00      1.00        30\n",
      "\n"
     ]
    }
   ],
   "source": [
    "from sklearn.metrics import classification_report, confusion_matrix\n",
    "print(confusion_matrix(y_test, y_pred))\n",
    "print(classification_report(y_test, y_pred))"
   ]
  },
  {
   "cell_type": "markdown",
   "id": "0365c265",
   "metadata": {},
   "source": [
    "**Optimizing our KNN algorithm**\n",
    "\n",
    "There is no way to know beforehand which value of K yields the best results since the beginning. We randomly chose 5 as the K value.\n",
    "\n",
    "To help find the best value of K:\n",
    "\n",
    "1. First create a function that calculates the mean of error for all the predicted values where K ranges from 1 and 40. \n",
    "2. Plot the error values against K values.\n",
    "3. Vary the test and training size along with the K value to see how your results differ and how can you improve the accuracy of your algorithm. "
   ]
  },
  {
   "cell_type": "code",
   "execution_count": null,
   "id": "6418e5e4",
   "metadata": {},
   "outputs": [],
   "source": [
    "# Create an empty error list.\n",
    "error = []\n",
    "\n",
    "# Execute a loop from 1 to 40. In each iteration calculate the mean error for predicted values of test set\n",
    "for i in range(1, 40):\n",
    "    #initialize the KNN algorithm\n",
    "    knn = KNeighborsClassifier(n_neighbors=i)\n",
    "    #fit the train data\n",
    "    knn.fit(X_train, y_train)\n",
    "    #make predictions\n",
    "    pred_i = knn.predict(X_test) \n",
    "    #append the result to the error list.\n",
    "    error.append(np.mean(pred_i != y_test)) "
   ]
  },
  {
   "cell_type": "code",
   "execution_count": null,
   "id": "9483300a",
   "metadata": {},
   "outputs": [],
   "source": [
    "# plot the error values against K values\n",
    "\n",
    "plt.figure(figsize=(12, 6))\n",
    "plt.plot(range(1, 40), error, color='red', linestyle='dashed', marker='o',\n",
    "         markerfacecolor='blue', markersize=10)\n",
    "plt.title('Error Rate K Value')\n",
    "plt.xlabel('K Value')\n",
    "plt.ylabel('Mean Error')"
   ]
  },
  {
   "cell_type": "code",
   "execution_count": null,
   "id": "62d73b8c",
   "metadata": {},
   "outputs": [],
   "source": [
    "from sklearn.neighbors import KNeighborsClassifier\n",
    "classifier25 = KNeighborsClassifier(n_neighbors=25)\n",
    "classifier25.fit(X_train, y_train)"
   ]
  },
  {
   "cell_type": "code",
   "execution_count": null,
   "id": "c3fa5f42",
   "metadata": {},
   "outputs": [],
   "source": [
    "y_pred25 = classifier25.predict(X_test)"
   ]
  },
  {
   "cell_type": "code",
   "execution_count": null,
   "id": "7ac5ea12",
   "metadata": {},
   "outputs": [],
   "source": [
    "from sklearn.metrics import classification_report, confusion_matrix\n",
    "print(confusion_matrix(y_test, y_pred25))\n",
    "print(classification_report(y_test, y_pred25))"
   ]
  },
  {
   "cell_type": "markdown",
   "id": "b281af6e",
   "metadata": {},
   "source": [
    "Source:\n",
    "\n",
    "https://www.geeksforgeeks.org/\n",
    "\n",
    "https://stackabuse.com/big-o-notation-and-algorithm-analysis-with-python-examples/\n",
    "\n",
    "https://stackabuse.com/quicksort-in-python/\n",
    "\n",
    "https://stackabuse.com/k-nearest-neighbors-algorithm-in-python-and-scikit-learn/"
   ]
  }
 ],
 "metadata": {
  "interpreter": {
   "hash": "9248718ffe6ce6938b217e69dbcc175ea21f4c6b28a317e96c05334edae734bb"
  },
  "kernelspec": {
   "display_name": "Python 3.9.12 ('ML-BOOTCAMP')",
   "language": "python",
   "name": "python3"
  },
  "language_info": {
   "codemirror_mode": {
    "name": "ipython",
    "version": 3
   },
   "file_extension": ".py",
   "mimetype": "text/x-python",
   "name": "python",
   "nbconvert_exporter": "python",
   "pygments_lexer": "ipython3",
   "version": "3.9.12"
  }
 },
 "nbformat": 4,
 "nbformat_minor": 5
}
