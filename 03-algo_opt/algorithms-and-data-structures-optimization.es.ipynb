{
    "cells": [
        {
            "cell_type": "markdown",
            "id": "e8e2bc52",
            "metadata": {},
            "source": [
                "## ¿Qué es un algoritmo?\n",
                "\n",
                "Los algoritmos son más simples de lo que pensamos. Desde que somos niños nos enseñan cómo completar las tareas del día a día. Un algoritmo es un conjunto de instrucciones que se siguen para lograr un objetivo o producir un resultado, por ejemplo, aprender a caminar, atarse los zapatos o preparar un pastel. Todos estos procesos se nos enseñan mediante un procedimiento paso a paso.\n",
                "\n",
                "Veamos un ejemplo de un algoritmo muy sencillo, los pasos para preparar unos brownies:\n",
                "\n",
                "```py\n",
                "function PrepareBrownies(flavor){\n",
                "\n",
                " 1. Heat Oven to 350 F\n",
                " 2. Mix flour, baking powder, salt in a bowl\n",
                " 3. Mix melted butter with \"+ flavor +\" chips in another bowl\n",
                " 4. Mix eggs with sugar in a different bowl\n",
                " 5. First combine the butter bowl with the eggs bowl.\n",
                " 6. Add the flour bowl to the previous mix.\n",
                " 7  Mix. \n",
                " 8. Put in pan\n",
                " 9. Bake for 30 minutes\n",
                "\n",
                "}\n",
                "\n",
                "PrepareBrownies('chocolate')\n",
                "```"
            ]
        },
        {
            "cell_type": "markdown",
            "id": "7f241897",
            "metadata": {},
            "source": [
                "## Estructuras de datos\n",
                "\n",
                "La mayoría de los problemas en informática tienen algún tipo de datos asociados, que tenemos que usar para resolver el problema y llegar a una conclusión. Entonces, una estructura de datos es una forma de organizar y administrar esos datos a nivel de memoria de manera que podamos operar efectiva y eficientemente con esos datos.\n",
                "\n",
                "Para tener una diferencia clara entre algoritmos y estructuras de datos, podemos decir que los algoritmos actuarían como los verbos y las estructuras de datos serían los sustantivos."
            ]
        },
        {
            "cell_type": "markdown",
            "id": "b7401991",
            "metadata": {},
            "source": [
                "## ¿Qué es la complejidad del tiempo?\n",
                "\n",
                "Un problema simple se puede resolver usando muchos algoritmos diferentes. Algunas soluciones simplemente toman menos tiempo y espacio que otras.\n",
                "\n",
                "Pero, ¿cómo sabemos qué soluciones son más eficientes?\n",
                "\n",
                "La complejidad del tiempo en la programación se usa más comúnmente en el diseño de algoritmos. Significa cuánto tiempo tardará un algoritmo con un número dado de entradas (n) en completar su tarea. Por lo general, se define utilizando la notación Big-O. Analiza la complejidad del tiempo todas las veces que intentes resolver un problema. Te hará un mejor desarrollador.\n",
                "\n",
                "Veamos algunas complejidades del tiempo y sus definiciones:\n",
                "\n",
                "**O(1) - Tiempo constante:** Dada una entrada de tamaño n, el algoritmo solo necesita un paso para realizar la tarea.\n",
                "\n",
                "**O(log n) - Tiempo logarítmico:** dada una entrada de tamaño n, la cantidad de pasos necesarios para realizar la tarea se reduce en algún factor con cada paso.\n",
                "\n",
                "**O(n) - Tiempo lineal:** Dada una entrada de tamaño n, el número de pasos necesarios está directamente relacionado (1 a 1).\n",
                "\n",
                "**O(n^2) - Tiempo cuadrático:** Dada una entrada de tamaño n, la cantidad de pasos necesarios para realizar una tarea es el cuadrado de n.\n",
                "\n",
                "**O(C^n) - Tiempo exponencial:** Dada una entrada de tamaño n, la cantidad de pasos necesarios para realizar una tarea es una constante elevada a la potencia n (una cantidad bastante grande).\n",
                "\n",
                "Usemos n=16 para entender la complejidad del tiempo con un ejemplo."
            ]
        },
        {
            "cell_type": "code",
            "execution_count": null,
            "id": "74b7e6ff",
            "metadata": {},
            "outputs": [],
            "source": [
                "let n = 16:\n",
                "    \n",
                "    \n",
                "O(1) = 1 step\n",
                "\n",
                "O(log n) = 4 steps -- assuming base 2\n",
                "\n",
                "O(n) = 16 steps\n",
                "\n",
                "O(n^2) = 256 steps\n",
                "\n",
                "O(2^n) = 65,356 steps"
            ]
        },
        {
            "attachments": {},
            "cell_type": "markdown",
            "id": "4c12232b",
            "metadata": {},
            "source": [
                "![big-o_complexity.png](https://github.com/4GeeksAcademy/machine-learning-content/blob/master/assets/big-o_complexity.jpg?raw=true)"
            ]
        },
        {
            "cell_type": "markdown",
            "id": "12eeeb71",
            "metadata": {},
            "source": [
                "## Comprensión de algoritmos y estructuras de datos."
            ]
        },
        {
            "cell_type": "markdown",
            "id": "f631eb58",
            "metadata": {},
            "source": [
                "### 1. Primer algoritmo: Búsqueda Binaria\n",
                "\n",
                "Supongamos que estás buscando una palabra en un diccionario y comienza con K. Podrías comenzar desde el principio y seguir pasando las páginas hasta llegar a las K. Pero es más probable que comience en una página en el medio, porque sabe que las K estarán cerca del medio del diccionario. Este es un problema de búsqueda. Todos estos casos utilizan el mismo algoritmo para resolver el problema: la búsqueda binaria.\n",
                "\n",
                "Para cualquier lista de n, la búsqueda binaria tomará pasos log2n para ejecutarse en el peor de los casos.\n",
                "\n",
                "Volviendo a nuestro ejemplo inicial podemos decir que:\n",
                "\n",
                "Para buscar en un diccionario de 240.000 palabras con búsqueda binaria, reduce el número de palabras a la mitad hasta que te quedes con una palabra. El resultado en el peor de los casos sería de 18 pasos, mientras que una búsqueda simple habría tomado 240.000 pasos.\n",
                "\n",
                "**Complejidad del tiempo:** \n",
                "\n",
                "- Una búsqueda normal se ejecuta en un tiempo lineal O(n).\n",
                "\n",
                "- Una búsqueda binaria se ejecuta en tiempo logarítmico (tiempo logarítmico) O(log n).\n",
                "\n",
                "- La constante casi nunca importa para la búsqueda simple frente a la búsqueda binaria, porque O (logn) es mucho más rápido que O (n) cuando su lista crece."
            ]
        },
        {
            "cell_type": "markdown",
            "id": "3bc66da1",
            "metadata": {},
            "source": [
                "### 2. Segundo Algoritmo: Clasificación de Selección"
            ]
        },
        {
            "cell_type": "markdown",
            "id": "92a1f010",
            "metadata": {},
            "source": [
                "#### Arrays vs LinkedList (estructuras de datos)"
            ]
        },
        {
            "cell_type": "markdown",
            "id": "57a5f6c9",
            "metadata": {},
            "source": [
                "A veces es necesario almacenar una lista de elementos en la memoria. Supongamos que tienes una lista de tareas para hacer hoy. Primero almacenémoslo en un array (arreglo). Eso significa que todas sus tareas se almacenarán una al lado de la otra en la memoria.\n",
                "\n",
                "10 está en el índice 2"
            ]
        },
        {
            "attachments": {},
            "cell_type": "markdown",
            "id": "5cc9e350",
            "metadata": {},
            "source": [
                "![arrays.jpg](https://github.com/4GeeksAcademy/machine-learning-content/blob/master/assets/arrays.jpg?raw=true)  "
            ]
        },
        {
            "cell_type": "markdown",
            "id": "e09e61f6",
            "metadata": {},
            "source": [
                "Ahora supongamos que después de agregar las primeras cuatro tareas, deseas agregar una quinta pero el siguiente espacio está ocupado. Con las listas vinculadas, tus tareas pueden estar en cualquier lugar de la memoria.\n",
                "\n",
                "Los elementos no están uno al lado del otro, por lo que no puede calcular instantáneamente la posición, debe ir al primer elemento para obtener la dirección del segundo elemento. Luego ve al segundo elemento para obtener la dirección del tercer elemento. Los cuadrados azules son memoria en uso por otra persona, no puedes agregar datos allí porque ya está ocupado."
            ]
        },
        {
            "attachments": {},
            "cell_type": "markdown",
            "id": "323d78f2",
            "metadata": {},
            "source": [
                "![linkedlist.jpg](https://github.com/4GeeksAcademy/machine-learning-content/blob/master/assets/linkedlist.jpg?raw=true)"
            ]
        },
        {
            "attachments": {},
            "cell_type": "markdown",
            "id": "6fc30964",
            "metadata": {},
            "source": [
                "\n",
                "\n",
                "Supongamos que haces tu lista de gastos del mes. Al final del mes, verificas cuánto gastaste.\n",
                "\n",
                "Eso significa que estás teniendo muchas inserciones y algunas lecturas. ¿Deberías usar un array o una lista?\n",
                "\n",
                "- Los arrays tienen lecturas rápidas e inserciones lentas.\n",
                "\n",
                "- Las listas enlazadas tienen lecturas lentas e inserciones rápidas.\n",
                "\n",
                "Tendría más sentido usar una lista enlazada porque insertarás más a menudo de lo que leerás tu lista de gastos. Además, solo tienen lecturas lentas si estás accediendo a elementos aleatorios de la lista, pero estás accediendo a todos. Otro dato importante es que para agregar un elemento en medio de una lista ordenada, también las listas enlazadas serán mejores porque solo tienes que cambiar a lo que apunta el elemento anterior.\n",
                "\n",
                "¿Qué pasa si quiero eliminar un elemento de la lista?\n",
                "\n",
                "Nuevamente, las listas son mejores porque solo necesitas cambiar lo que apunta el elemento anterior.\n",
                "\n",
                "¿Cuáles se usan más? ¡Depende del caso!\n",
                "\n",
                "- Los arrays se usan más porque permiten el acceso aleatorio.\n",
                "\n",
                "- La lista vinculada solo puede hacer acceso secuencial (leer elementos uno por uno), pero son buenos para inserciones/eliminaciones.\n",
                "\n",
                "Cuando desees almacenar varios elementos, ¿deberías usar un array o una lista?\n",
                "\n",
                "- En un array, los elementos se almacenarían uno al lado del otro. Permite lecturas rápidas. *Todos los elementos del array deben ser del mismo tipo.*\n",
                "\n",
                "- En una lista, los elementos se almacenan por todas partes, un elemento almacena la dirección del siguiente. Permite insertar y eliminar rápidamente.\n",
                "\n"
            ]
        },
        {
            "cell_type": "markdown",
            "id": "988746a8",
            "metadata": {},
            "source": [
                "**Complejidad de tiempo:**\n",
                "\n",
                "**Práctica recomendada: haz un seguimiento del primer y el último elemento de una lista vinculada para que solo tome O(1)**"
            ]
        },
        {
            "attachments": {},
            "cell_type": "markdown",
            "id": "8f59228b",
            "metadata": {},
            "source": [
                "![arrays_and_linkedlist_time_complexity.jpg](https://github.com/4GeeksAcademy/machine-learning-content/blob/master/assets/arrays_and_linkedlist_time_complexity.jpg?raw=true)"
            ]
        },
        {
            "cell_type": "markdown",
            "id": "1fbb635e",
            "metadata": {},
            "source": [
                "#### Algoritmo de clasificación de selección\n",
                "\n",
                "Recuerda que el tiempo O(n) significa que toca todos los elementos de una lista una vez.\n",
                "\n",
                "Ejemplo: \n",
                "\n",
                "Tienes una lista de canciones con el recuento de veces que las has reproducido. Para ordenar la lista de canciones y ver cuál es su favorita, debe verificar cada elemento de la lista para encontrar el que tiene el mayor número de reproducciones.\n",
                "\n",
                "Esto lleva O(n) tiempo y tienes que hacerlo n veces."
            ]
        },
        {
            "cell_type": "code",
            "execution_count": null,
            "id": "256a9a1f",
            "metadata": {},
            "outputs": [],
            "source": [
                "#Encuentra el elemento más pequeño en un array y utilízalo para escribir la ordenación por selección\n",
                "\n",
                "def findsmallest(arr):\n",
                "    smallest = arr[0] ----> stores smallest value\n",
                "    smallest_index = 0 -----> stores index of the smallest value\n",
                "    for i in range(1, len(arr)):\n",
                "        if arr[i] < smallest:\n",
                "            smallest = arr[i]\n",
                "            smallest_index = i\n",
                "    return smallest_index\n",
                "\n",
                "#Ahora escribamos el Ordenamiento por selección:\n",
                "\n",
                "def SelectionSort(arr):   ------> sorts an array\n",
                "    newArr = []\n",
                "    for i in range(len(arr)):\n",
                "        smallest = findSmallest(arr)   ----->finds the smallest and adds it to the new array.\n",
                "        newArr.append(arr.pop(smallest))\n",
                "    return newArr"
            ]
        },
        {
            "cell_type": "markdown",
            "id": "7e25cf9f",
            "metadata": {},
            "source": [
                "### 3. Recursividad"
            ]
        },
        {
            "cell_type": "markdown",
            "id": "267788bd",
            "metadata": {},
            "source": [
                "Recursividad significa dividir un problema en un caso base y un caso recursivo.\n",
                "\n",
                "La recursividad es donde una función se llama a sí misma. Debido a que una función recursiva se llama a sí misma, es fácil escribir una función incorrectamente que termine en un bucle infinito.\n",
                "\n",
                "Si eso sucede, debe presionar **CTRL + C** para eliminar su secuencia de comandos.\n",
                "\n",
                "Es por eso que cada función recursiva tiene 2 partes:\n",
                "\n",
                "1. Caso base (cuando no se vuelve a llamar a sí mismo).\n",
                "\n",
                "2. Caso recursivo (cuando se llama a sí mismo).\n",
                "\n",
                "No hay ningún beneficio de rendimiento en el uso de la recursividad, de hecho, a veces los bucles son mejores.\n",
                "\n",
                "\"Los bucles pueden lograr una ganancia de rendimiento para su programa. La recursividad puede lograr una ganancia de rendimiento para el programador\""
            ]
        },
        {
            "attachments": {},
            "cell_type": "markdown",
            "id": "31df6528",
            "metadata": {},
            "source": [
                "![recursion.jpg](https://github.com/4GeeksAcademy/machine-learning-content/blob/master/assets/recursion.jpg?raw=true)"
            ]
        },
        {
            "attachments": {},
            "cell_type": "markdown",
            "id": "991c4cad",
            "metadata": {},
            "source": [
                "¡Recuerda! La recursividad realiza un seguimiento del estado. CONSEJO: Cuando se trata de una función recursiva que involucra un array, el caso base suele ser un array vacío o un array con un elemento.\n",
                "Si estamos atascados, deberíamos intentar eso primero.\n",
                "\n",
                "¿Por qué no usar un bucle?\n",
                "\n",
                "Porque este es un adelanto de la programación funcional. Los lenguajes de programación funcional como Haskell no tienen bucles.\n",
                "\n",
                "sum[ ] = 0   --->  caso base\n",
                "\n",
                "sum(x; xs) = x + sum(xs)  --->  caso recursivo\n",
                "\n",
                "Veamos un ejemplo:"
            ]
        },
        {
            "cell_type": "code",
            "execution_count": 1,
            "id": "8e01e0aa",
            "metadata": {},
            "outputs": [],
            "source": [
                "# 1. Función de suma anterior\n",
                "\n",
                "def sum(list):\n",
                "    if list == []:\n",
                "        return 0\n",
                "    return list[0] + sum(list[1:])\n",
                "\n",
                "# 2. Función recursiva para contar el número de elementos en una lista:\n",
                "\n",
                "def count(list):\n",
                "    if list == []:\n",
                "        return 0\n",
                "    return 1 + count(list[1:])\n",
                "\n",
                "# 3. Encuentra el número máximo en una lista\n",
                "\n",
                "def max(list):\n",
                "    if len(list) == 2:\n",
                "        return list[0] if list[0] > list[1] else list[1]\n",
                "    submax = max(list[1:])\n",
                "    return list[0] if list[0] > submax else submax"
            ]
        },
        {
            "attachments": {},
            "cell_type": "markdown",
            "id": "3710af95",
            "metadata": {},
            "source": [
                "#### La pila (estructura de datos)\n",
                "\n",
                "\n",
                "¿Recuerdas cuando hablamos de arreglos y listas? Teníamos una lista de tareas. Podríamos agregar elementos de tareas en cualquier lugar de la lista o eliminar elementos aleatorios. Ahora, imaginemos que tenemos esa misma lista de tareas pero ahora en forma de una pila de notas adhesivas. Esto es mucho más simple porque cuando insertamos un elemento, se agrega a la parte superior de la lista. Ahora nuestra lista de tareas solo tiene dos acciones:\n",
                "\n",
                "1. Empujar (insertar, agregar un nuevo elemento en la parte superior).\n",
                "2. Pop (eliminar el elemento superior y leerlo).\n",
                "\n",
                "En nuestra computadora, todas las llamadas a funciones van a la pila de llamadas.\n",
                "La pila de llamadas puede volverse muy grande, lo que ocupa mucha memoria."
            ]
        },
        {
            "cell_type": "markdown",
            "id": "da5b03cd",
            "metadata": {},
            "source": [
                "### 4. Tercer algoritmo: QuickSort\n",
                "\n",
                "Divide y vencerás, una técnica recursiva bien conocida para resolver problemas y un buen ejemplo de código elegante.\n",
                "\n",
                "¿Recuerdas la recursividad? En el caso de QuickSort, elegimos un pivote (1 elemento de la matriz)\n",
                "\n",
                "Encontremos los elementos más pequeños que el pivote y los elementos más grandes que el pivote. Esto se llama partición."
            ]
        },
        {
            "attachments": {},
            "cell_type": "markdown",
            "id": "70abb56b",
            "metadata": {},
            "source": [
                "![quicksort.jpg](https://github.com/4GeeksAcademy/machine-learning-content/blob/master/assets/quicksort.jpg?raw=true)"
            ]
        },
        {
            "cell_type": "markdown",
            "id": "1601a197",
            "metadata": {},
            "source": [
                "¡Acabas de ver un adelanto de que tu algoritmo funciona!\n",
                "\n",
                "Veamos un ejemplo de código para QuickSort:"
            ]
        },
        {
            "cell_type": "code",
            "execution_count": 2,
            "id": "b32d7eee",
            "metadata": {},
            "outputs": [],
            "source": [
                "def quicksort(array):\n",
                "    if len(array) < 2:\n",
                "        return array    #---> caso base: los arrays con 0 o 1 elemento ya están ordenados\n",
                "    else:\n",
                "        pivot = array[0]  #---> caso recursivo\n",
                "        less = [ i for i in array[1: ] if i <= pivot]   #----> subarreglo de elementos menos que pivote\n",
                "        greater = [ i for i in array[1: ] if i > pivot]   #---> subarreglo de elementos mayor que el pivote\n",
                "        return quicksort(less) + [pivot] + quicksort(greater)\n",
                "    \n",
                "    print(quicksort([10,5,2,3]))"
            ]
        },
        {
            "attachments": {},
            "cell_type": "markdown",
            "id": "72cdb8f8",
            "metadata": {},
            "source": [
                "- Dividir y conquistar funciona rompiendo un problema en pedazos cada vez más pequeños.\n",
                "\n",
                "- Si usas QuickSort, elije un elemento aleatorio como pivote.\n",
                "\n",
                "- El tiempo de ejecución promedio de QuickSort es 0 (nlogn).\n",
                "\n",
                "- La constante en la notación Big O puede ser importante a veces, es por eso que la ordenación rápida es más rápida que la ordenación combinada."
            ]
        },
        {
            "attachments": {},
            "cell_type": "markdown",
            "id": "5f8b081f",
            "metadata": {},
            "source": [
                "### 5. Tablas hash (estructura de datos)\n",
                "\n",
                "Una función hash es donde pones un string (cadena) y obtienes un número. Son geniales cuando quieres crear un mapeo de una cosa a otra o cuando quieres buscar algo.\n",
                "\n",
                "En Python llamamos tablas hash: diccionarios\n",
                "\n",
                "dict() ---> atajo en Python = { }\n",
                "\n",
                "La función 'get' devuelve el valor si, por ejemplo, 'Maria' está en la tabla hash.\n",
                "\n",
                "Veamos un ejemplo para ver si una persona ya ha recogido su premio en efectivo:"
            ]
        },
        {
            "cell_type": "code",
            "execution_count": 4,
            "id": "25a6dba2",
            "metadata": {},
            "outputs": [],
            "source": [
                "picked = {}\n",
                "\n",
                "def check_picked_prize(name):\n",
                "    if picked.get(name):\n",
                "        print('Kick them out')\n",
                "    else:\n",
                "        picked[name] = True\n",
                "        print('Let them pick up their cash prize')"
            ]
        },
        {
            "attachments": {},
            "cell_type": "markdown",
            "id": "517d32ed",
            "metadata": {},
            "source": [
                "Si esto fuera una lista, esta función eventualmente se volvería muy lenta, pero debido a que los estamos almacenando en una tabla hash, instantáneamente nos dice si el nombre está en la tabla hash o no. Aquí, verificar si hay duplicados es muy rápido.\n",
                "\n",
                "Veamos un poco de código para el almacenamiento en caché:"
            ]
        },
        {
            "cell_type": "code",
            "execution_count": 5,
            "id": "e68f23b3",
            "metadata": {},
            "outputs": [],
            "source": [
                "cache = {}\n",
                "\n",
                "def get_page(url):\n",
                "    if cache.get(url):\n",
                "        return cache[url]\n",
                "    else:\n",
                "        data = get_data_from_server(url)\n",
                "        cache[url] = data \n",
                "        return data  "
            ]
        },
        {
            "cell_type": "markdown",
            "id": "057ebb8b",
            "metadata": {},
            "source": [
                "Los hashes son buenos para modelar relaciones de una cosa a otra, para filtrar duplicados, para almacenar en caché/memorizar datos en lugar de hacer que nuestro servidor haga el trabajo.\n",
                "\n",
                "**Colisiones:** Ocurren cuando dos llaves han sido asignadas a la misma ranura.\n",
                "\n",
                "Las tablas hash funcionan con tiempo constante O (1) (no significa tiempo instantáneo)"
            ]
        },
        {
            "attachments": {},
            "cell_type": "markdown",
            "id": "96d13d2f",
            "metadata": {},
            "source": [
                "![hash_tables_big_o_notation.jpg](https://github.com/4GeeksAcademy/machine-learning-content/blob/master/assets/hash_tables_big_o_notation.jpg?raw=true)"
            ]
        },
        {
            "cell_type": "markdown",
            "id": "6ef05f51",
            "metadata": {},
            "source": [
                "Tratemos de no alcanzar el peor de los casos con tablas hash. Para hacer eso, necesitamos evitar colisiones. ¿Como hacemos eso? Usando un factor de carga bajo y una buena función hash.\n",
                "\n",
                "**¿Cuál es el factor de carga de una tabla hash?**\n",
                "\n",
                "Es el número de elementos en la tabla hash dividido por el número total de ranuras."
            ]
        },
        {
            "attachments": {},
            "cell_type": "markdown",
            "id": "83a63639",
            "metadata": {},
            "source": [
                "![load_factor.jpg](https://github.com/4GeeksAcademy/machine-learning-content/blob/master/assets/load_factor.jpg?raw=true)"
            ]
        },
        {
            "cell_type": "markdown",
            "id": "debac949",
            "metadata": {},
            "source": [
                "Cuando el factor de carga comienza a crecer > 1, es hora de cambiar el tamaño. Cuando nos estamos quedando sin espacio, creamos un nuevo array que es más grande.\n",
                "\n",
                "**Regla:** Haz un array que tenga el doble de tamaño.\n",
                "\n",
                "También deberíamos cambiar el tamaño cuando nuestro factor de carga sea superior a 0,7, porque el cambio de tamaño es costoso y no queremos cambiar el tamaño con demasiada frecuencia."
            ]
        },
        {
            "attachments": {},
            "cell_type": "markdown",
            "id": "5a829b51",
            "metadata": {},
            "source": [
                "![good_vs_bad_hash_function.jpg](https://github.com/4GeeksAcademy/machine-learning-content/blob/master/assets/good_vs_bad_hash_function.jpg?raw=true)"
            ]
        },
        {
            "attachments": {},
            "cell_type": "markdown",
            "id": "42ac35c1",
            "metadata": {},
            "source": [
                "**Datos importantes:**\n",
                "\n",
                "- Casi nunca tendremos que implementar una tabla hash nosotros mismos, porque el lenguaje de programación debería tener una y podemos suponer que obtendremos el rendimiento promedio del caso: tiempo constante.\n",
                "\n",
                "- Podemos hacer una tabla hash combinando una función hash con un array.\n",
                "\n",
                "- Las colisiones son malas, por lo que debemos minimizarlas.\n"
            ]
        },
        {
            "attachments": {},
            "cell_type": "markdown",
            "id": "cf64a1d6",
            "metadata": {},
            "source": [
                "### 6. Breadth-First Search (Búsqueda en anchura)\n",
                "\n",
                "breadth-first search nos dice si hay un camino de A a B, y si hay un camino, breadth-first va a encontrar el camino más corto.\n",
                "\n",
                "Si encontramos un problema como 'Encontrar el camino más corto', deberíamos intentar modelar nuestro problema como un gráfico y usar Breadth-first para resolverlo.\n",
                "\n",
                "**Datos importantes sobre Breadth-first search:**\n",
                "\n",
                "- Un gráfico dirigido tiene flechas y la relación sigue la dirección de la flecha.\n",
                "\n",
                "- Los gráficos no dirigidos no tienen flechas y la relación va en ambos sentidos.\n",
                "\n",
                "- Las colas de espera son FIFO (primero en entrar, primero en salir).\n",
                "\n",
                "- Las acciones son LIFO (último en entrar, primero en salir)\n",
                "\n",
                "- Necesitamos verificar los elementos en el orden en que se agregaron a la lista de búsqueda, por lo que la lista de búsqueda debe ser una cola. De lo contrario, no obtendremos el camino más corto. Una vez que verificamos algún elemento, debemos asegurarnos de no volver a verificarlo. De lo contrario, podríamos terminar en un bucle infinito."
            ]
        },
        {
            "cell_type": "markdown",
            "id": "613cd359",
            "metadata": {},
            "source": [
                "### 7. Algoritmo de Dijkstra\n",
                "\n",
                "Mientras que Breadth-first se usa para calcular la ruta más corta para un gráfico no ponderado, el algoritmo de Dijkstra se usa para calcular la ruta más corta para un gráfico ponderado.\n",
                "\n",
                "Los bordes de peso negativo rompen el algoritmo, por lo que no podemos usar bordes de peso negativo con el algoritmo de Dijkstra. En ese caso, hay un algoritmo para eso llamado algoritmo de Bellman Ford."
            ]
        },
        {
            "attachments": {},
            "cell_type": "markdown",
            "id": "6a8e70b2",
            "metadata": {},
            "source": [
                "### 8. Algoritmo Greedy (codicioso)\n",
                "\n",
                "Cómo abordar lo imposible: problemas que no tienen solución algorítmica rápida (problemas NP-completos). \n",
                "\n",
                "¿Cómo identificar tales problemas?\n",
                "\n",
                "Sería mejor si los identificamos cuando los vemos, así no perdemos tiempo tratando de encontrar un algoritmo rápido para ellos. Existen algoritmos de aproximación, y son útiles para encontrar rápidamente una solución aproximada a un problema NP-completo.\n",
                "\n",
                "Estos algoritmos se juzgan por lo rápidos que son y que tan cerca están de la solución óptima.\n",
                "\n",
                "**Estrategia Greedy:** Una estrategia muy simple para resolver problemas.\n",
                "\n",
                "Un algoritmo greedy es simple. En cada paso, elije el movimiento óptimo. Son fáciles de escribir y rápidos de ejecutar, por lo que constituyen un buen algoritmo de aproximación. Optimizan localmente, con la esperanza de terminar con un óptimo global.\n",
                "\n",
                "No hay una manera fácil de saber si el problema en el que estamos trabajando es NP-completo. Aquí hay algunos obsequios:\n",
                "\n",
                "- Nuestro algoritmo se ejecuta rápidamente con un puñado de elementos, pero realmente se ralentiza con más elementos.\n",
                "\n",
                "- Todas las combinaciones de X generalmente apuntan a un problema NP-completo.\n",
                "\n",
                "- ¿Necesitamos calcular 'todas las versiones posibles de X' porque no podemos dividirlo en subproblemas más pequeños? Entonces podría ser NP-completo.\n",
                "\n",
                "- Si nuestro problema involucra un conjunto o si involucra una secuencia y es difícil de resolver, podría ser NP-completo.\n",
                "\n",
                "- Los problemas NP-completos no tienen una solución rápida conocida."
            ]
        },
        {
            "attachments": {},
            "cell_type": "markdown",
            "id": "d6ad9278",
            "metadata": {},
            "source": [
                "### 9. Programación Dinámica\n",
                "\n",
                "Es útil cuando intenta optimizar algo dada una restricción. Puedes usar la programación dinámica cuando el problema se puede dividir en subproblemas discretos y no dependen unos de otros.\n",
                "\n",
                "**Tips Generales:**\n",
                "\n",
                "- Cada solución de programación dinámica implica una cuadrícula.\n",
                "\n",
                "- Los valores en la celda suelen ser los que estamos tratando de optimizar.\n",
                "\n",
                "- Cada celda es un subproblema, así que pensemos cómo podemos dividir nuestro problema en subproblemas. Eso nos ayudará a descubrir cuáles son los ejes.\n",
                "\n",
                "**Ejemplos de uso de Programación Dinámica:**\n",
                "\n",
                "- Los biólogos usan la subsecuencia común más larga para encontrar similitudes en las hebras de ADN, para decir qué tan similares son dos animales o dos enfermedades. Se está utilizando para encontrar una cura para la esclerosis múltiple.\n",
                "\n",
                "- Cuando usamos Git diff para distinguir la diferencia entre dos archivos, ¡es programación dinámica!\n"
            ]
        },
        {
            "cell_type": "markdown",
            "id": "7f13c697",
            "metadata": {},
            "source": [
                "### 10. K-Vecinos más cercanos (KNN)\n",
                "\n",
                "Es simple pero útil. Si estás tratando de clasificar algo, es posible que quieras probar KNN primero.\n",
                "\n",
                "**Construyendo un sistema de recomendación**\n",
                "\n",
                "Supongamos que somos Netflix. Los usuarios se grafican por similitud. Si queremos recomendar películas para María, podemos encontrar a los cinco usuarios más cercanos a ella. Entonces, independientemente de las películas que les gusten, a María probablemente también les gustarán.\n",
                "\n",
                "---> Pero, ¿cómo averiguamos qué tan similares son dos usuarios?\n",
                "\n",
                "**Extracción de características**\n",
                "\n",
                "La extracción de características significa convertir un elemento (como un usuario) en una lista de números que se pueden comparar. Si tenemos cinco funciones para cada usuario en Netflix, por ejemplo, romance, comedia, terror, ciencia ficción, religión. Para hallar la distancia entre dos puntos usamos la fórmula de Pitágoras:"
            ]
        },
        {
            "attachments": {},
            "cell_type": "markdown",
            "id": "43fdc201",
            "metadata": {},
            "source": [
                "![knn1.jpg](https://github.com/4GeeksAcademy/machine-learning-content/blob/master/assets/knn1.jpg?raw=true)"
            ]
        },
        {
            "cell_type": "markdown",
            "id": "71261546",
            "metadata": {},
            "source": [
                "Un matemático diría que ahora estamos calculando la distancia en cinco dimensiones, pero la fórmula de la distancia sigue siendo la misma:"
            ]
        },
        {
            "attachments": {},
            "cell_type": "markdown",
            "id": "d09422c5",
            "metadata": {},
            "source": [
                "![knn2.jpg](https://github.com/4GeeksAcademy/machine-learning-content/blob/master/assets/knn2.jpg?raw=true)"
            ]
        },
        {
            "attachments": {},
            "cell_type": "markdown",
            "id": "b3cf8fd6",
            "metadata": {},
            "source": [
                "Entonces, por ejemplo, si John y Maria tienen 18 años de diferencia, y Lucas y Maria tienen 3 años de diferencia, entonces si a Lucas le gusta una película, se la recomendaremos a María. ¡Acabamos de construir un sistema de recomendaciones!\n",
                "\n",
                "Pero no todos los usuarios califican las películas de la misma manera. Dos usuarios pueden tener el mismo gusto por las películas, pero uno de ellos puede ser más conservador al momento de clasificar una película. Están bien emparejados, pero de acuerdo con el algoritmo de distancia, no serían vecinos. ¿Cómo resolver esto?\n",
                "\n",
                "¡Normalización! ----> Observamos la calificación promedio de cada usuario y la usamos para escalar sus calificaciones, y luego podemos comparar sus calificaciones en la misma escala.\n",
                "\n",
                "¿Cómo sabemos si el número de vecinos que estamos utilizando es el correcto?\n",
                "\n",
                "Una buena regla general es: si tiene N usuarios, mire sqrt (N).\n",
                "\n",
                "KNN se puede usar para la clasificación para categorizar en un grupo y la regresión para predecir una respuesta como un número.\n",
                "\n",
                "Cuando trabajamos con KNN, es muy importante elegir las características correctas:\n",
                "\n",
                "- Características que se correlacionan directamente con lo que intenta recomendar.\n",
                "\n",
                "- Funciones que no tienen sesgo (por ejemplo, si solo pedimos a los usuarios que califiquen películas románticas)\n",
                "\n",
                "No hay una respuesta correcta cuando se trata de elegir buenas características. Tenemos que pensar en todas las cosas diferentes que debemos considerar."
            ]
        },
        {
            "cell_type": "markdown",
            "id": "2ece4c95",
            "metadata": {},
            "source": [
                "Fuente:\n",
                "    \n",
                "https://www.freecodecamp.org/news/time-is-complex-but-priceless-f0abd015063c/\n",
                "\n",
                "https://www.bigocheatsheet.com/\n",
                "\n",
                "Libro: \n",
                "\n",
                "Grooking Algorithms - Aditya Y. Bhargava\n",
                "(free download: https://github.com/cjbt/Free-Algorithm-Books/blob/master/book/Grokking%20Algorithms%20-%20An%20illustrated%20guide%20for%20programmers%20and%20other%20curious%20people.pdf)"
            ]
        }
    ],
    "metadata": {
        "kernelspec": {
            "display_name": "Python 3 (ipykernel)",
            "language": "python",
            "name": "python3"
        },
        "language_info": {
            "codemirror_mode": {
                "name": "ipython",
                "version": 3
            },
            "file_extension": ".py",
            "mimetype": "text/x-python",
            "name": "python",
            "nbconvert_exporter": "python",
            "pygments_lexer": "ipython3",
            "version": "3.10.1"
        }
    },
    "nbformat": 4,
    "nbformat_minor": 5
}
