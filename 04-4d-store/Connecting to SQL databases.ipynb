{
 "cells": [
  {
   "cell_type": "markdown",
   "id": "e9ebad92",
   "metadata": {},
   "source": [
    "# How to connect to a SQL database using Python in Jupyter"
   ]
  },
  {
   "cell_type": "code",
   "execution_count": null,
   "id": "9b5ecec7",
   "metadata": {},
   "outputs": [],
   "source": [
    "from dbmodule import connect \n",
    "\n",
    "#Create a connection object\n",
    "\n",
    "CONNECTION = CONNECT('databse name', 'username','password')\n",
    "\n",
    "#Create a cursor object\n",
    "\n",
    "CURSOR = CONNECTION.CURSOR()\n",
    "\n",
    "#Run queries\n",
    "\n",
    "CURSOR.EXECUTE('select * from mytable')\n",
    "RESULTS = CURSOR.FETCHALL()\n",
    "\n",
    "#Free resources\n",
    "CURSOR.CLOSE()"
   ]
  },
  {
   "cell_type": "markdown",
   "id": "b32a462c",
   "metadata": {},
   "source": [
    "# CONNECTING TO A DB2 DATABASE"
   ]
  },
  {
   "cell_type": "code",
   "execution_count": null,
   "id": "4e5aa286",
   "metadata": {},
   "outputs": [],
   "source": []
  }
 ],
 "metadata": {
  "kernelspec": {
   "display_name": "Python 3 (ipykernel)",
   "language": "python",
   "name": "python3"
  },
  "language_info": {
   "codemirror_mode": {
    "name": "ipython",
    "version": 3
   },
   "file_extension": ".py",
   "mimetype": "text/x-python",
   "name": "python",
   "nbconvert_exporter": "python",
   "pygments_lexer": "ipython3",
   "version": "3.9.7"
  }
 },
 "nbformat": 4,
 "nbformat_minor": 5
}
