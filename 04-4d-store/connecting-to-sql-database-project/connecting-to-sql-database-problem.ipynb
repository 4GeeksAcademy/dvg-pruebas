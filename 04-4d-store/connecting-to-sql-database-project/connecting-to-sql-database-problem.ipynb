{
 "cells": [
  {
   "cell_type": "markdown",
   "metadata": {},
   "source": [
    "# Connecting to a DB2 database from Python"
   ]
  },
  {
   "cell_type": "markdown",
   "metadata": {},
   "source": [
    "### Part 1: Creating a cloud DB2 database "
   ]
  },
  {
   "cell_type": "markdown",
   "metadata": {},
   "source": [
    "In order to use the IBM DB2 databases, you have to create an IBM cloud account. There is an IBM DB2 Lite plan that is free to use.\n",
    "Go to this link : https://cloud.ibm.com/registration to create your IBM cloud account. \n",
    "\n",
    "Once logged in, you will notice a catalog option on the top left of the search bar. After going in the catalog make sure you choose DB2 and nothing else such as DB2 Warehouse, DB2 Hosted or SQL Query. Do not choose them. Only choose DB2."
   ]
  },
  {
   "cell_type": "markdown",
   "metadata": {},
   "source": []
  },
  {
   "cell_type": "markdown",
   "metadata": {},
   "source": [
    "In the Pricing Plans make sure to select the Lite plan as it is a free plan. Then click on CREATE at the bottom right of the page.\n",
    "\n",
    "Open your dashboard and you will see a Resource List option. After going in the Resource List, locate and expand the Services and click on your instance of DB2 database."
   ]
  },
  {
   "cell_type": "markdown",
   "metadata": {},
   "source": []
  },
  {
   "cell_type": "markdown",
   "metadata": {},
   "source": [
    "Click on the open console button. This will open a new tab on your web browser and then choose the 3rd option from the top left drop down menu.\n",
    "If you want to run SQL queries, you can do it from here."
   ]
  },
  {
   "cell_type": "markdown",
   "metadata": {},
   "source": []
  },
  {
   "cell_type": "markdown",
   "metadata": {},
   "source": []
  },
  {
   "cell_type": "markdown",
   "metadata": {},
   "source": [
    "You will need to have your Service Credentials in order to access this database from Python. So, go back to the page where there was an OPEN CONSOLE button, and on the left, you will be able to see the Service Credentials option.\n",
    "\n",
    "Click on it and then select the New Credentials button to generate Service Credentials for your IBM DB2 Database."
   ]
  },
  {
   "cell_type": "markdown",
   "metadata": {},
   "source": [
    "### Part 2: Connecting to your database from Python"
   ]
  },
  {
   "cell_type": "markdown",
   "metadata": {},
   "source": [
    "Your DB2 database has been created, but there are not tables yet. You are going to connect to your empty DB2 database and create some tables from Python. \n",
    "\n",
    "Tasks: \n",
    "\n",
    "1. Create a new project folder and install the python library ibm_db. In the terminal write 'pip install ibm_db'. For further installation instructions or requirements on ibm_db library, see here : https://pypi.org/project/ibm-db/\n",
    "\n",
    "2. Once installed, in your notebook import your ibm_db library.\n",
    "\n",
    "3. Create a connection to your DB2 database.\n",
    "\n",
    "4. We have uploaded a file called create.sql with all the tables you need to create. Hands on creating those tables.\n",
    "\n",
    "5. We have uploaded a file called values.sql with all the table values to be introduced into each table.\n",
    "\n",
    "6. Fetch data from the authors table to confirm that it has uploaded successfully."
   ]
  },
  {
   "cell_type": "markdown",
   "metadata": {},
   "source": [
    "Now, the best thing about accessing databases through python is that you can load the database into Pandas data frame and you can use all the data science tools on the database using all the Python data science libraries.\n",
    "\n",
    "```py\n",
    "import pandas as pd\n",
    "import ibm_db_dbi\n",
    "```\n",
    "\n",
    "Now we have to establish a connection for pandas.\n",
    "```py\n",
    "pd_conn = ibm_db_dbi.Connection(conn)\n",
    "```\n",
    "After establishing the connection, now we can load the database into the pandas data frame.\n",
    "\n",
    "```py\n",
    "selectQuery = \"select * from books\"\n",
    "\n",
    "dataframe = pd.read_sql(selectQuery, pd_conn)\n",
    "\n",
    "dataframe\n",
    "```"
   ]
  },
  {
   "cell_type": "markdown",
   "metadata": {},
   "source": [
    "7. Don't forget to close the connection. You have to free up all the resources by closing the connection. Remember that it is very important to close the connection so that we can avoid unused connections taking up resources."
   ]
  },
  {
   "cell_type": "markdown",
   "metadata": {},
   "source": [
    "Source:\n",
    "\n",
    "https://www.db2tutorial.com/getting-started/create-db2-sample-database/\n",
    "\n",
    "https://pypi.org/project/ibm-db/\n",
    "\n",
    "https://medium.com/mozilla-firefox-club/accessing-ibm-db2-database-using-python-c356a4a76bf3"
   ]
  }
 ],
 "metadata": {
  "language_info": {
   "name": "python"
  },
  "orig_nbformat": 4
 },
 "nbformat": 4,
 "nbformat_minor": 2
}
