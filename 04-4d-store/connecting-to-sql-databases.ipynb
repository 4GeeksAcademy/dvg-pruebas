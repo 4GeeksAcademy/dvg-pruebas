{
 "cells": [
  {
   "cell_type": "markdown",
   "id": "e9ebad92",
   "metadata": {},
   "source": [
    "# How to connect to a SQL database using Python in Jupyter"
   ]
  },
  {
   "cell_type": "code",
   "execution_count": null,
   "id": "9b5ecec7",
   "metadata": {},
   "outputs": [],
   "source": [
    "from dbmodule import connect \n",
    "\n",
    "#Create a connection object\n",
    "\n",
    "CONNECTION = CONNECT('databse name', 'username','password')\n",
    "\n",
    "#Create a cursor object\n",
    "\n",
    "CURSOR = CONNECTION.CURSOR()\n",
    "\n",
    "#Run queries\n",
    "\n",
    "CURSOR.EXECUTE('select * from mytable')\n",
    "RESULTS = CURSOR.FETCHALL()\n",
    "\n",
    "#Free resources\n",
    "CURSOR.CLOSE()"
   ]
  },
  {
   "cell_type": "markdown",
   "id": "7329110a",
   "metadata": {},
   "source": [
    "# Connecting to a SQLite database"
   ]
  },
  {
   "cell_type": "code",
   "execution_count": null,
   "id": "6ad391f5",
   "metadata": {},
   "outputs": [],
   "source": [
    "\n",
    "from sqlalchemy import create_engine\n",
    "import pandas as pd\n",
    " \n",
    "# Create engine: engine\n",
    "engine = create_engine('sqlite:///databse_name.sqlite')\n",
    " \n",
    "# Save the table names to a list: table_names\n",
    "table_names = engine.table_names()\n",
    " \n",
    "# Print the table names to the shell\n",
    "print(table_names)\n",
    " \n",
    "# Open engine connection: con,  and select specified columns and number of rows\n",
    "\n",
    "with engine.connect() as con:\n",
    "    ab = con.execute(\"SELECT ID, Date, Name FROM Clients\")\n",
    "    df = pd.DataFrame(ab.fetchmany(size=5))\n",
    "    df.columns = ab.keys()\n",
    "\n",
    "# Close connection\n",
    "con.close()\n",
    " \n",
    "# Print first rows of dataframe\n",
    "print(df.head())"
   ]
  },
  {
   "cell_type": "markdown",
   "id": "b32a462c",
   "metadata": {},
   "source": [
    "# Connecting to a DB2 Database"
   ]
  },
  {
   "cell_type": "markdown",
   "id": "e912c9d4",
   "metadata": {},
   "source": [
    "To connect to a DB2, it requires the following information:\n",
    "\n",
    "- controler name\n",
    "- database name\n",
    "- DNS host name or IP\n",
    "- Host port\n",
    "- Connection protocole\n",
    "- User id\n",
    "- Password\n",
    "\n",
    "Example to create a databse connection:"
   ]
  },
  {
   "cell_type": "code",
   "execution_count": null,
   "id": "0cad22e2",
   "metadata": {},
   "outputs": [],
   "source": [
    "#Create database connection\n",
    "\n",
    "dsn = (\n",
    "    \"Driver = { {IBM DB2 ODBC DRIVER}};\"\n",
    "    \"Database = {0};\"\n",
    "    \"HOSTNAME = {1};\"\n",
    "    \"PORT = {2};\"\n",
    "    \"PROTOCOL = TCPIP;\"\n",
    "    \"UID = {3};\"\n",
    "    \"PWD = {4};\").format(dsn_database, dsn_hostname, dsn_port, dsn_uid, dsn_pwd)\n",
    "\n",
    "try: \n",
    "    conn = ibm_db.connect(dsn, \" \", \" \")\n",
    "    print(\"Connected!\")\n",
    "    \n",
    "except:\n",
    "    print(\"Unable to connect to database\")\n",
    "    \n",
    "#Close the database connection\n",
    "\n",
    "ibm_db.close(conn)\n",
    "\n",
    "#Note: It is always important to close the connections to avoid non used connectors taking resources."
   ]
  },
  {
   "cell_type": "markdown",
   "id": "fd3733d2",
   "metadata": {},
   "source": [
    "# How to create a table from python"
   ]
  },
  {
   "cell_type": "markdown",
   "id": "0691d4ef",
   "metadata": {},
   "source": [
    "ibm_db.exec_inmediate()  --> function of the ibm_db API\n",
    "\n",
    "Parameters for the function:\n",
    "\n",
    "- connection\n",
    "- statement\n",
    "- options\n",
    "\n",
    "Example: Creating a table called CARS in Python"
   ]
  },
  {
   "cell_type": "code",
   "execution_count": null,
   "id": "2e4db6ee",
   "metadata": {},
   "outputs": [],
   "source": [
    "#CREATE TABLE\n",
    "\n",
    "stmt = ibm_db.exec_inmediate(conn, \"CREATE TABLE Cars(\n",
    "    serial_no VARCHAR(20) PRIMARY KEY NOT NULL,\n",
    "    make varchar(20) NOT NULL,\n",
    "    model VARCHAR(20) NOT NULL,\n",
    "    car_class VARCHAR(20) NOT NULL)\"\n",
    "    )\n",
    "\n",
    "#LOAD DATA IN TABLE\n",
    "\n",
    "stmt = ibm_db.exec_inmediate(conn, \"INSERT INTO Cars(\n",
    "    serial_no, make, model, car_class)\n",
    "    VALUES('A2345453','Ford','Mustang','class3');\")\n",
    "\n",
    "#FETCH DATA FROM CARS TABLE\n",
    "\n",
    "stmt = ibm_db.exec_inmediate(conn, \"SELECT * FROM Cars\")\n",
    "\n",
    "ibm_db.fetch_both(stmt)\n",
    "\n"
   ]
  },
  {
   "cell_type": "markdown",
   "id": "8aef772d",
   "metadata": {},
   "source": [
    "# Using pandas to retrieve data from the tables\n"
   ]
  },
  {
   "cell_type": "code",
   "execution_count": null,
   "id": "7a5d9473",
   "metadata": {},
   "outputs": [],
   "source": [
    "import pandas\n",
    "import ibm_db_dbi\n",
    "pconn = ibm_db_dbi.connection(conn)\n",
    "\n",
    "df = pandas.read_sql('SELECT * FROM Cars', pconn)\n",
    "df\n",
    "\n",
    "#Example of a plot\n",
    "\n",
    "import matplotlib.pyplot as plt\n",
    "%matplotlib inline\n",
    "import seaborn as sns \n",
    "\n",
    "#categorical scatterplot\n",
    "\n",
    "plot = sns.swarmplot(x=\"Category\", y=\"Calcium\", data=df)\n",
    "plt.setp(plot.get_xticklabels(), rotation=70)\n",
    "plt.title('Calcium content')\n",
    "plt.show()\n",
    "\n",
    "#Making a boxplot\n",
    "#A boxplot is a graph that indicates the distribution of 1 or more variables. The box captures the median 50% of the data.\n",
    "# The line and dots indicate possible outliers and not normal values.\n",
    "\n",
    "plot = sns.set_style('Whitegrid')\n",
    "ax = sns.boxplot(x=df['glucose level'])\n",
    "plt.show()"
   ]
  },
  {
   "cell_type": "markdown",
   "id": "1e36ab48",
   "metadata": {},
   "source": [
    "# Getting the properties\n",
    "\n",
    "DB2 --->  syscat.tables                                 \n",
    "\n",
    " SQL Server --->  information=schema.tables   \n",
    " \n",
    "Oracle --->  all_tables or user_tables\n"
   ]
  },
  {
   "cell_type": "code",
   "execution_count": null,
   "id": "5bcde35b",
   "metadata": {},
   "outputs": [],
   "source": [
    "#Getting table properties from DB2\n",
    "\n",
    "SELECT * FROM syscat.tables\n",
    "#(this will show too many tables)\n",
    "\n",
    "SELECT tabschema, tabname, create_time\n",
    "FROM syscat.tables\n",
    "WHERE tabschema = 'ABC12345' #---> replace with your own DB2 username\n",
    "\n",
    "#Getting a list of columns in database\n",
    "\n",
    "SELECT * FROM syscat.columns\n",
    "WHERE tabname = 'Cats'\n",
    "\n",
    "#To obtain specific column properties:\n",
    "\n",
    "%sql SELECT DISTINCT(name), coltype, length\n",
    "    FROM sysibm.syscolumns\n",
    "    WHERE tbname = 'Cats'\n",
    "    \n",
    "%sql SELECT DISTINCT(name), coltype, length\n",
    "    FROM sysibm.syscolumns \n",
    "    WHERE tbname = 'Miami_crime_data'"
   ]
  }
 ],
 "metadata": {
  "kernelspec": {
   "display_name": "Python 3 (ipykernel)",
   "language": "python",
   "name": "python3"
  },
  "language_info": {
   "codemirror_mode": {
    "name": "ipython",
    "version": 3
   },
   "file_extension": ".py",
   "mimetype": "text/x-python",
   "name": "python",
   "nbconvert_exporter": "python",
   "pygments_lexer": "ipython3",
   "version": "3.9.7"
  }
 },
 "nbformat": 4,
 "nbformat_minor": 5
}
