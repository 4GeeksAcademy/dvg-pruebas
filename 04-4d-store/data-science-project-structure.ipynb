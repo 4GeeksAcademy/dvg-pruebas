{
 "cells": [
  {
   "cell_type": "markdown",
   "id": "61daee49",
   "metadata": {},
   "source": [
    "# Data Science Project Structure"
   ]
  },
  {
   "cell_type": "markdown",
   "id": "6d9094ce",
   "metadata": {},
   "source": [
    "Has it happened to you that every time you want to create a new project you copy the entire folder of a previous project with the same set of code and then start replacing variables, renaming folders and manually changing their code inputs, hoping to not forget anything on the way. This is a pretty tedious and repetitive task. Not to mention that it’s prone to errors. That is why we want to introduce to you an awesome tool: Cookiecutter!"
   ]
  },
  {
   "cell_type": "markdown",
   "id": "cccc258d",
   "metadata": {},
   "source": [
    "### Cookiecutter"
   ]
  },
  {
   "cell_type": "markdown",
   "id": "a455ced3",
   "metadata": {},
   "source": [
    "Cookiecutter is a powerful tool! This is an incredible way to create a project template for a type of analysis that you know you will need to repeat a number of times, while inputting the necessary data and/or parameters just once.\n",
    "\n",
    "What is cookiecutter?\n",
    "\n",
    "Projects can be python packages, web applications, machine learning apps with complex workflows or anything you can think of\n",
    "Templates are what cookiecutter uses to create projects. What cookiecutter does is quite simple: it clones a directory and put it inside your new project. It then replaces all the names that are between {{ and }} (Jinja2 syntax) with names that it finds in the cookiecutter.json file. The best part is that it also has a specific template for data science and machine learning projects. (We’ll see an example of how to build a cookiecutter template)\n",
    "\n",
    "Cookiecutter must be part of your environment if you want to use it. \n",
    "\n",
    "You can install it with pip:\n",
    "\n",
    "```py\n",
    "pip install cookiecutter\n",
    "```\n",
    "\n",
    "or if you are using Anaconda:\n",
    "\n",
    "```py\n",
    "conda config --add channels conda-forge\n",
    "conda install cookiecutter\n",
    "```\n",
    "\n",
    "Already installed! Now you can use cookiecutter to create new templates for projects and papers!\n",
    "\n"
   ]
  },
  {
   "cell_type": "markdown",
   "id": "eac48662",
   "metadata": {},
   "source": [
    "### Gitpod\n",
    "\n",
    "Now that you have a very well structured project, you probably have already uploaded to your GitHub account. \n",
    "\n",
    "The best way to configure Gitpod is by using Gitpod. In a browser, navigate to your project’s GitHub, GitLab or Bitbucket page.\n",
    "\n",
    "In the browser’s address bar, prefix the entire URL with gitpod.io/# and press Enter.\n",
    "\n",
    "For example, gitpod.io/#https://github.com/gitpod-io/website\n",
    "\n",
    "We recommend you install the Gitpod browser extension to make this a one-click operation.\n",
    "\n",
    "**Open in Gitpod button**\n",
    "\n",
    "To make it easy for anyone to start a Gitpod workspace based on your project, we recommend you add an “Open in Gitpod” button to your README.md.\n",
    "\n",
    "[![Open in Gitpod](https://gitpod.io/button/open-in-gitpod.svg)](https://gitpod.io/#<your-project-url>)\n",
    "\n",
    "**Add your .gitpod.yml file to an existing Github repo**\n",
    "\n",
    "For any web app you’re going to most likely have some kind of install and run commands which then servers to a port. For example, this is the contents of a .gitpod.yml file for a Nuxt app using yarn:\n",
    "```py\n",
    "tasks:\n",
    "  - init: yarn install\n",
    "    command: yarn dev\n",
    "ports:\n",
    "  - port: 3000\n",
    "    onOpen: open-preview\n",
    "```\n",
    "\n",
    "When the container spins up it will install dependencies and then serve to port 3000. It will also open a preview of the app when the app is ready.\n",
    "\n",
    "**Add your .gitpod.Dockerfile (optional)**\n",
    "\n",
    "By default it Gitpod uses a generalized Dockerfile, but you can specify your own by creating this file and customize it to your liking.\n",
    "\n",
    "Go to your Github repo url and prefix with #gitpod.io\n",
    "\n",
    "That’s it!!\n",
    "\n",
    "**Some additional benefits from using Gitpod:**\n",
    "\n",
    "-Forget Expensive Laptops and Operating Systems\n",
    "\n",
    "Eliminate the need to buy an expensive laptop with a bunch of computing power and who cares what OS you have. You could have a $200 Chromebook, or use a public computer at the local library, and do the same development you would on a MacBook Pro. As long as it can run a browser, you’re good.\n",
    "\n",
    "Machine Learning people already know this. They run Jupyter notebooks in the cloud on GPUs, instead of spending thousands and all the headaches of doing it themselves.\n",
    "\n",
    "-Eliminate Onboarding Headaches\n",
    "\n",
    "*If you want to know more on how to supercharge the experience with Gitpod for your project, you can go to the following guide: https://www.gitpod.io/docs/getting-started*"
   ]
  },
  {
   "cell_type": "markdown",
   "id": "2ed9041b",
   "metadata": {},
   "source": [
    "### Create a cookiecutter template to kickstart a Streamlit project"
   ]
  },
  {
   "cell_type": "markdown",
   "id": "b71541a7",
   "metadata": {},
   "source": [
    "Streamlit is a Python library designed to build web applications. It’s very simple to use and provides a lot of functionalities that let you share experiments and results with your team and prototype machine learning apps.\n",
    "\n",
    "Let's look at this Streamlit common project structure from a machine learning engineer:\n",
    "\n",
    "- src folder that contains\n",
    "\n",
    "    - the main script of the app(app.py) \n",
    "    \n",
    "    - utils module that contains two scripts: \n",
    "\n",
    "        - ui.py to put the layout functions\n",
    "\n",
    "        - common.py to hold other utility functions for data processing or remote database connections (among other things)\n",
    "\n",
    "- .gitignore file to prevent git from versioning unnecessary files (such as .env files, or .pyc files)\n",
    "\n",
    "- Procfile and setup.sh : to handle the deployment on Heroku\n",
    "\n",
    "- requirements.txt : to list the project dependencies\n",
    "\n",
    "- .env file to store the environment variables of the project\n",
    "\n",
    "- README.md to share details about the project\n",
    "\n",
    "We are going to create a cookiecutter template to match the target structure.\n",
    "\n",
    "To create a cookiecutter template that generates this structure, let’s start by creating a folder for this template."
   ]
  },
  {
   "cell_type": "markdown",
   "id": "8e3dae88",
   "metadata": {},
   "source": [
    "Source: \n",
    "\n",
    "https://www.gitpod.io/docs/getting-started\n",
    "\n",
    "https://medium.com/@lukaskf/why-you-should-consider-using-cloud-development-environments-a79c062a2798\n",
    "\n",
    "https://cookiecutter-data-science-vc.readthedocs.io/en/latest/getting_started/INSTALL.html\n",
    "\n",
    "https://github.com/drivendata/cookiecutter-data-science/issues/17\n",
    "\n",
    "https://towardsdatascience.com/automate-the-structure-of-your-data-science-projects-with-cookiecutter-937b244114d8\n",
    "\n",
    "https://drivendata.github.io/cookiecutter-data-science/\n",
    "\n",
    "https://github.com/drivendata/cookiecutter-data-science"
   ]
  }
 ],
 "metadata": {
  "kernelspec": {
   "display_name": "Python 3 (ipykernel)",
   "language": "python",
   "name": "python3"
  },
  "language_info": {
   "codemirror_mode": {
    "name": "ipython",
    "version": 3
   },
   "file_extension": ".py",
   "mimetype": "text/x-python",
   "name": "python",
   "nbconvert_exporter": "python",
   "pygments_lexer": "ipython3",
   "version": "3.9.7"
  }
 },
 "nbformat": 4,
 "nbformat_minor": 5
}
