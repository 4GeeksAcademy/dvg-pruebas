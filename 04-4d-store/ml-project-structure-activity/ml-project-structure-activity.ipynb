{
 "cells": [
  {
   "cell_type": "markdown",
   "metadata": {},
   "source": [
    "# ML Project structure Activity"
   ]
  },
  {
   "cell_type": "markdown",
   "metadata": {},
   "source": [
    "We have seen how to work with cookicutter on a common streamlit project. But Cookiecutter has a lot of templates for different project types, so as you can imagine, Data Science is not the exception.\n",
    "\n",
    "Use the Cookiecutter Data Science open-source template to kickstart data science projects that follow the best standards in the industry.\n",
    "\n",
    "To start a new data science new project, you can open the terminal in your project folder and type:\n",
    "\n",
    "```py\n",
    "cookiecutter https://github.com/drivendata/cookiecutter-data-science\n",
    "```\n",
    "\n",
    "That's it!! Now you can see an entire structure of very organized, readable and reusable structure. Take some time to explore how is it structured.\n",
    "\n",
    "**Build from the environment up**\n",
    "\n",
    "The first step in reproducing an analysis is always reproducing the computational environment it was run in. You need the same tools, the same libraries, and the same versions to make everything play nicely together.\n",
    "\n",
    "One effective approach to this is use virtualenv. By listing all of your requirements in the repository (a requirements.txt file is included) you can easily track the packages needed to recreate the analysis. Here is a good workflow:\n",
    "\n",
    "1. Run mkvirtualenv when creating a new project\n",
    "\n",
    "2. pip install the packages that your analysis needs\n",
    "\n",
    "3. Run pip freeze > requirements.txt to pin the exact package versions used to recreate the analysis\n",
    "\n",
    "4. If you find you need to install another package, run pip freeze > requirements.txt again and commit the changes to version control.\n",
    " \n",
    "Any person wanting to use your project will just need to write the following command in order to have your same dependencies:\n",
    "\n",
    "```py\n",
    "pip install -r requirements.txt\n",
    "```\n",
    "It is a good practice to execute the previous command every time you are about to start editing a project.\n",
    "\n",
    "*For reference, we'll leave the documentation for cookiecutter-data-science in the following link:*\n",
    "\n",
    "https://drivendata.github.io/cookiecutter-data-science/\n",
    "\n",
    "### Getting ready!\n",
    "\n",
    "\n",
    "Let's get ready for the next module where we will start exploring and cleaning a dataset. \n",
    "\n",
    "1. Create a folder named 'predicting-titanic-survival' for your template.\n",
    "\n",
    "2. Install cookicutter and clone the cookiecutter data science template.\n",
    "\n",
    "3. Make sure your project is also in your Github account (try using the same project name).\n",
    "\n",
    "4. Look for the Titanic dataset (train and test datasets) in the following url: https://www.kaggle.com/competitions/titanic/data and make sure to put it in your 'raw data folder'.\n",
    "\n",
    "5. In the .gitignore file write data/ to include the data folder so we avoid uploading the big datasets every time we commit to Github.\n",
    "In your Readme file write the following: 'Titanic dataset can be found in the following url: https://www.kaggle.com/competitions/titanic/data '.\n",
    "\n",
    "6. Share the link of your new Github project in Slack."
   ]
  }
 ],
 "metadata": {
  "language_info": {
   "name": "python"
  },
  "orig_nbformat": 4
 },
 "nbformat": 4,
 "nbformat_minor": 2
}
