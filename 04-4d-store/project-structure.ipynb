{
 "cells": [
  {
   "cell_type": "markdown",
   "metadata": {},
   "source": [
    "# Project Structure"
   ]
  },
  {
   "cell_type": "markdown",
   "metadata": {},
   "source": [
    "## The README file"
   ]
  },
  {
   "cell_type": "markdown",
   "metadata": {},
   "source": [
    "**What is it?**\n",
    "\n",
    "A README is a text file that introduces and explains a project. It contains information that is commonly required to understand what the project is about.\n",
    "\n",
    "**Why should I make it?**\n",
    "\n",
    "It's an easy way to answer questions that your audience will likely have regarding how to install and use your project and also how to collaborate with you.\n",
    "\n",
    "**Who should make it?**\n",
    "\n",
    "Anyone who is working on a programming project, especially if you want others to use it or contribute.\n",
    "\n",
    "**When should I make it?**\n",
    "\n",
    "Definitely before you show a project to other people or make it public. You might want to get into the habit of making it the first file you create in a new project.\n",
    "\n",
    "**Where should I put it?**\n",
    "\n",
    "In the top level directory of the project. This is where someone who is new to your project will start out. Code hosting services such as GitHub, Bitbucket, and GitLab will also look for your README and display it along with the list of files and directories in your project.\n",
    "\n",
    "**How should I make it?**\n",
    "\n",
    "While READMEs can be written in any text file format, the most common one that is used nowadays is Markdown. It allows you to add some lightweight formatting. You can learn more about it at the CommonMark website, which also has a helpful reference guide and an interactive tutorial.\n",
    "\n",
    "Some other formats that you might see are plain text, reStructuredText (common in Python projects), and Textile.\n",
    "\n",
    "You can use any text editor. There are plugins for many editors (e.g. Atom, Emacs, Sublime Text, Vim, and Visual Studio Code) that allow you to preview Markdown while you are editing it.\n",
    "\n",
    "You can also use a dedicated Markdown editor like Typora or an online one like StackEdit or Dillinger. You can even use the editable template below."
   ]
  },
  {
   "cell_type": "markdown",
   "metadata": {},
   "source": [
    "## The requirements.txt file"
   ]
  },
  {
   "cell_type": "markdown",
   "metadata": {},
   "source": [
    "**What are dependencies?**\n",
    "\n",
    "Dependencies are external Python packages that your own project relies onto, in order to do the job is intended to. Let’s consider a Python project that makes use of pandas DataFrames. In this case, this project has a dependency on pandas package since it cannot work properly without pre-installing pandas. Every dependency may also have other dependencies. Therefore, dependency management can sometimes get quite tricky or challenging and needs to be handled properly. Our Python project, may have a dependency on a specific version of a third-party package, and we may also end up with dependency conflicts because a dependency needed a specific version of a package.\n",
    "\n",
    "The most common way for handling dependencies and instructing package management tools about what specific versions we need in our own project is through a requirements text file.\n",
    "\n",
    "The requirements.txt is a file listing all the dependencies for a specific Python project. It may also contain dependencies of dependencies, as discussed previously. The listed entries can be pinned or non-pinned. If a pin is used, then you can specify a specific package version (using ==), an upper or lower bound or even both.\n",
    "\n",
    "```bash\n",
    "matplotlib>=2.2\n",
    "numpy>=1.15.0, <1.21.0\n",
    "pandas\n",
    "pytest==4.0.1\n",
    "```\n",
    "\n",
    "Finally, you could install these dependencies (normally in a virtual environment) through pip using the following command:\n",
    "\n",
    "```bash\n",
    "pip install -r requirements.txt\n",
    "```\n",
    "\n",
    "Once you install all the dependencies, you can see the precise version of each dependency installed in the virtual environment by running pip freeze. This command will list all the packages along with their specific pins (i.e. ==)."
   ]
  },
  {
   "cell_type": "markdown",
   "metadata": {},
   "source": [
    "### The .gitignore file"
   ]
  },
  {
   "cell_type": "markdown",
   "metadata": {},
   "source": [
    "You can configure Git to ignore files you don't want to check in to GitHub. You can create a .gitignore file in your repository's root directory to tell Git which files and directories to ignore when you make a commit. To share the ignore rules with other users who clone the repository, commit the .gitignore file in to your repository.\n",
    "\n",
    "For more information about the .gitignore file read here: https://docs.github.com/en/get-started/getting-started-with-git/ignoring-files"
   ]
  },
  {
   "cell_type": "markdown",
   "metadata": {},
   "source": [
    "### The .env file"
   ]
  },
  {
   "cell_type": "markdown",
   "metadata": {},
   "source": [
    "In our day to day work, we have all come across the need to hide specific things from our app before sharing them on a public version control system, like Git.\n",
    "\n",
    "You could be dealing with your SQL database names and URLs, their passwords, some secret keys associated with AWS or Google Cloud Platform user groups, API secrets, the list goes on.\n",
    "\n",
    "For this, we are going to learn the concept of Environment variables.\n",
    "\n",
    "A preferred way to use environment variables in data science projects is using a .env file, which can be stored within your app. \n",
    "Make a new .env file and set all your variables within once, and save.\n",
    "\n",
    "Example: \n",
    "\n",
    "```py\n",
    "DB_USER = 'xxxxxxxxxxxxx'\n",
    "DB_PASSWORD = 'xxxxxxxxxxxxxxx'\n",
    "DB_PORT = 3306\n",
    "DB_HOST = 'xxxxxxxxxxxxxxxxxxxxxxxxxxxxxxxxxxxxxxx'\n",
    "DB_NAME = 'xxxxxxxxxxxxx'\n",
    "```\n",
    "\n",
    ">Don’t forget to add this filename in your .gitignore file, in order to protect it from your all-knowing version control systems.\n",
    "\n",
    "**How do I access them?**\n",
    "\n",
    "If you have created the .env file we can access our environment variables stored there by using the dotenv package.\n",
    "\n",
    "Run the following command inside your virtual environment to install the package:\n",
    "\n",
    "```bash\n",
    "pip install python-dotenv\n",
    "```\n",
    "\n",
    "Next, you can access the variables from your .env file  with:\n",
    "\n",
    "```py\n",
    "from dotenv import load_dotenv\n",
    "\n",
    "load_dotenv()  # it reads the environment variables from .env file\n",
    "```\n",
    "\n",
    "Next, you can easily use the os.environ.get() function to get the variables back through their names."
   ]
  },
  {
   "cell_type": "markdown",
   "metadata": {},
   "source": [
    "### The DATA folder"
   ]
  },
  {
   "cell_type": "markdown",
   "metadata": {},
   "source": [
    "**RAW** : The original, immutable data."
   ]
  },
  {
   "cell_type": "markdown",
   "metadata": {},
   "source": [
    "**INTERIM**: Intermediate data that has been transformed."
   ]
  },
  {
   "cell_type": "markdown",
   "metadata": {},
   "source": [
    "**PROCESSED**: The final, canonical data sets for modeling."
   ]
  },
  {
   "cell_type": "markdown",
   "metadata": {},
   "source": [
    "### The SRC folder"
   ]
  },
  {
   "cell_type": "markdown",
   "metadata": {},
   "source": [
    "**The Utils.py file**: Utils is a collection of small Python functions and classes which make common patterns shorter and easier."
   ]
  },
  {
   "cell_type": "markdown",
   "metadata": {},
   "source": [
    "**The exploration notebook (explore.ipynb)**"
   ]
  },
  {
   "cell_type": "markdown",
   "metadata": {},
   "source": [
    "This is a jupyter notebook meant for data exploration. If you are using VSCode, you need to install the Jupyter extension, in order to create notebook.ipynb files.\n",
    "\n",
    "Notebooks are useful because they allow all sorts of data science tasks including data cleaning and transformation, numerical simulation, exploratory data analysis, data visualization, statistical modeling, machine learning, deep learning, and much more.\n",
    "\n",
    "Jupyter Notebooks allows for cell by cell execution of code blocks which is advantageous because it allows for convenient testing of blocks of code, especially when we don't know the data yet and we need to try different methods to improve results."
   ]
  },
  {
   "cell_type": "markdown",
   "metadata": {},
   "source": [
    "**The Python script file (app.py)**"
   ]
  },
  {
   "cell_type": "markdown",
   "metadata": {},
   "source": [
    "Notebooks are great for exploration, however we need to become engineers, and be able to build software, so once we have a better understanding of our data and have decided between different ways of cleaning it, we can create our data preprocessing pipeline in our app.py file. The same happens with the modeling process. After having experiment with different machine learning algorithms and parameters, we can code our final training model in our app.py file.\n",
    "\n",
    "This will make it much easier for real time models, and for shoing results to stakeholders."
   ]
  },
  {
   "cell_type": "markdown",
   "metadata": {},
   "source": [
    "Source:\n",
    "\n",
    "https://towardsdatascience.com/introducing-jupytext-9234fdff6c57\n",
    "\n",
    "https://towardsdatascience.com/why-synchronize-your-jupyter-notebook-with-a-python-py-file-bbf35baf02ee\n",
    "\n",
    "https://www.makeareadme.com/\n",
    "\n",
    "https://towardsdatascience.com/requirements-vs-setuptools-python-ae3ee66e28af#:~:text=txt%20file-,The%20requirements.,be%20pinned%20or%20non%2Dpinned.\n",
    "\n",
    "https://drivendata.github.io/cookiecutter-data-science/\n",
    "\n"
   ]
  }
 ],
 "metadata": {
  "language_info": {
   "name": "python"
  },
  "orig_nbformat": 4
 },
 "nbformat": 4,
 "nbformat_minor": 2
}
