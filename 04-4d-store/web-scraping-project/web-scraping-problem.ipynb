{
 "cells": [
  {
   "cell_type": "markdown",
   "id": "84b8065b",
   "metadata": {},
   "source": [
    "# Web scraping problem\n",
    "\n",
    "### Exercise 1\n",
    "\n",
    "In this project, we are going to scrape the stock values of Twitter,Inc company from yahoo finance, that is present in the tabular form, creating a database in SQLite3, and storing the scraped data in it. \n",
    "\n",
    "**Step 1:** Make sure you have sqlite3 and pandas installed. In case they are not installed, you can use the following command in the terminal:\n",
    "\n",
    "```py\n",
    "pip install pandas\n",
    "```\n",
    "\n",
    "and \n",
    "\n",
    "```py\n",
    "pip install sqlite3\n",
    "```\n",
    "\n",
    "**Step 2:** Import pandas  and sqlite3\n",
    "\n",
    "If you are using a notebook, run the cell. If you are using a text editor make sure to use print to execute the code."
   ]
  },
  {
   "cell_type": "code",
   "execution_count": 1,
   "id": "7867da22",
   "metadata": {},
   "outputs": [],
   "source": [
    "# import packages\n",
    "\n",
    "import pandas as pd\n",
    "import sqlite3"
   ]
  },
  {
   "cell_type": "markdown",
   "id": "024527cc",
   "metadata": {},
   "source": [
    "**Step 3:** Scraping the Yahoo finance website"
   ]
  },
  {
   "cell_type": "code",
   "execution_count": 4,
   "id": "f4c3e481",
   "metadata": {},
   "outputs": [
    {
     "ename": "HTTPError",
     "evalue": "HTTP Error 404: Not Found",
     "output_type": "error",
     "traceback": [
      "\u001b[1;31m---------------------------------------------------------------------------\u001b[0m",
      "\u001b[1;31mHTTPError\u001b[0m                                 Traceback (most recent call last)",
      "\u001b[1;32md:\\DANIELA\\4Geeks\\machine-learning-content\\04-4d-store\\web-scraping-project\\web-scraping-problem.ipynb Cell 4'\u001b[0m in \u001b[0;36m<cell line: 3>\u001b[1;34m()\u001b[0m\n\u001b[0;32m      <a href='vscode-notebook-cell:/d%3A/DANIELA/4Geeks/machine-learning-content/04-4d-store/web-scraping-project/web-scraping-problem.ipynb#ch0000014?line=0'>1</a>\u001b[0m url \u001b[39m=\u001b[39m \u001b[39m'\u001b[39m\u001b[39mhttps://finance.yahoo.com/quote/TSLA/history?p=TSLA\u001b[39m\u001b[39m'\u001b[39m\n\u001b[1;32m----> <a href='vscode-notebook-cell:/d%3A/DANIELA/4Geeks/machine-learning-content/04-4d-store/web-scraping-project/web-scraping-problem.ipynb#ch0000014?line=2'>3</a>\u001b[0m data \u001b[39m=\u001b[39m pd\u001b[39m.\u001b[39;49mread_html(url, match \u001b[39m=\u001b[39;49m \u001b[39m'\u001b[39;49m\u001b[39mDate\u001b[39;49m\u001b[39m'\u001b[39;49m)\n\u001b[0;32m      <a href='vscode-notebook-cell:/d%3A/DANIELA/4Geeks/machine-learning-content/04-4d-store/web-scraping-project/web-scraping-problem.ipynb#ch0000014?line=4'>5</a>\u001b[0m data\n",
      "File \u001b[1;32mc:\\Users\\danie\\anaconda3\\envs\\ML-BOOTCAMP\\lib\\site-packages\\pandas\\util\\_decorators.py:311\u001b[0m, in \u001b[0;36mdeprecate_nonkeyword_arguments.<locals>.decorate.<locals>.wrapper\u001b[1;34m(*args, **kwargs)\u001b[0m\n\u001b[0;32m    <a href='file:///c%3A/Users/danie/anaconda3/envs/ML-BOOTCAMP/lib/site-packages/pandas/util/_decorators.py?line=304'>305</a>\u001b[0m \u001b[39mif\u001b[39;00m \u001b[39mlen\u001b[39m(args) \u001b[39m>\u001b[39m num_allow_args:\n\u001b[0;32m    <a href='file:///c%3A/Users/danie/anaconda3/envs/ML-BOOTCAMP/lib/site-packages/pandas/util/_decorators.py?line=305'>306</a>\u001b[0m     warnings\u001b[39m.\u001b[39mwarn(\n\u001b[0;32m    <a href='file:///c%3A/Users/danie/anaconda3/envs/ML-BOOTCAMP/lib/site-packages/pandas/util/_decorators.py?line=306'>307</a>\u001b[0m         msg\u001b[39m.\u001b[39mformat(arguments\u001b[39m=\u001b[39marguments),\n\u001b[0;32m    <a href='file:///c%3A/Users/danie/anaconda3/envs/ML-BOOTCAMP/lib/site-packages/pandas/util/_decorators.py?line=307'>308</a>\u001b[0m         \u001b[39mFutureWarning\u001b[39;00m,\n\u001b[0;32m    <a href='file:///c%3A/Users/danie/anaconda3/envs/ML-BOOTCAMP/lib/site-packages/pandas/util/_decorators.py?line=308'>309</a>\u001b[0m         stacklevel\u001b[39m=\u001b[39mstacklevel,\n\u001b[0;32m    <a href='file:///c%3A/Users/danie/anaconda3/envs/ML-BOOTCAMP/lib/site-packages/pandas/util/_decorators.py?line=309'>310</a>\u001b[0m     )\n\u001b[1;32m--> <a href='file:///c%3A/Users/danie/anaconda3/envs/ML-BOOTCAMP/lib/site-packages/pandas/util/_decorators.py?line=310'>311</a>\u001b[0m \u001b[39mreturn\u001b[39;00m func(\u001b[39m*\u001b[39margs, \u001b[39m*\u001b[39m\u001b[39m*\u001b[39mkwargs)\n",
      "File \u001b[1;32mc:\\Users\\danie\\anaconda3\\envs\\ML-BOOTCAMP\\lib\\site-packages\\pandas\\io\\html.py:1113\u001b[0m, in \u001b[0;36mread_html\u001b[1;34m(io, match, flavor, header, index_col, skiprows, attrs, parse_dates, thousands, encoding, decimal, converters, na_values, keep_default_na, displayed_only)\u001b[0m\n\u001b[0;32m   <a href='file:///c%3A/Users/danie/anaconda3/envs/ML-BOOTCAMP/lib/site-packages/pandas/io/html.py?line=1108'>1109</a>\u001b[0m validate_header_arg(header)\n\u001b[0;32m   <a href='file:///c%3A/Users/danie/anaconda3/envs/ML-BOOTCAMP/lib/site-packages/pandas/io/html.py?line=1110'>1111</a>\u001b[0m io \u001b[39m=\u001b[39m stringify_path(io)\n\u001b[1;32m-> <a href='file:///c%3A/Users/danie/anaconda3/envs/ML-BOOTCAMP/lib/site-packages/pandas/io/html.py?line=1112'>1113</a>\u001b[0m \u001b[39mreturn\u001b[39;00m _parse(\n\u001b[0;32m   <a href='file:///c%3A/Users/danie/anaconda3/envs/ML-BOOTCAMP/lib/site-packages/pandas/io/html.py?line=1113'>1114</a>\u001b[0m     flavor\u001b[39m=\u001b[39;49mflavor,\n\u001b[0;32m   <a href='file:///c%3A/Users/danie/anaconda3/envs/ML-BOOTCAMP/lib/site-packages/pandas/io/html.py?line=1114'>1115</a>\u001b[0m     io\u001b[39m=\u001b[39;49mio,\n\u001b[0;32m   <a href='file:///c%3A/Users/danie/anaconda3/envs/ML-BOOTCAMP/lib/site-packages/pandas/io/html.py?line=1115'>1116</a>\u001b[0m     match\u001b[39m=\u001b[39;49mmatch,\n\u001b[0;32m   <a href='file:///c%3A/Users/danie/anaconda3/envs/ML-BOOTCAMP/lib/site-packages/pandas/io/html.py?line=1116'>1117</a>\u001b[0m     header\u001b[39m=\u001b[39;49mheader,\n\u001b[0;32m   <a href='file:///c%3A/Users/danie/anaconda3/envs/ML-BOOTCAMP/lib/site-packages/pandas/io/html.py?line=1117'>1118</a>\u001b[0m     index_col\u001b[39m=\u001b[39;49mindex_col,\n\u001b[0;32m   <a href='file:///c%3A/Users/danie/anaconda3/envs/ML-BOOTCAMP/lib/site-packages/pandas/io/html.py?line=1118'>1119</a>\u001b[0m     skiprows\u001b[39m=\u001b[39;49mskiprows,\n\u001b[0;32m   <a href='file:///c%3A/Users/danie/anaconda3/envs/ML-BOOTCAMP/lib/site-packages/pandas/io/html.py?line=1119'>1120</a>\u001b[0m     parse_dates\u001b[39m=\u001b[39;49mparse_dates,\n\u001b[0;32m   <a href='file:///c%3A/Users/danie/anaconda3/envs/ML-BOOTCAMP/lib/site-packages/pandas/io/html.py?line=1120'>1121</a>\u001b[0m     thousands\u001b[39m=\u001b[39;49mthousands,\n\u001b[0;32m   <a href='file:///c%3A/Users/danie/anaconda3/envs/ML-BOOTCAMP/lib/site-packages/pandas/io/html.py?line=1121'>1122</a>\u001b[0m     attrs\u001b[39m=\u001b[39;49mattrs,\n\u001b[0;32m   <a href='file:///c%3A/Users/danie/anaconda3/envs/ML-BOOTCAMP/lib/site-packages/pandas/io/html.py?line=1122'>1123</a>\u001b[0m     encoding\u001b[39m=\u001b[39;49mencoding,\n\u001b[0;32m   <a href='file:///c%3A/Users/danie/anaconda3/envs/ML-BOOTCAMP/lib/site-packages/pandas/io/html.py?line=1123'>1124</a>\u001b[0m     decimal\u001b[39m=\u001b[39;49mdecimal,\n\u001b[0;32m   <a href='file:///c%3A/Users/danie/anaconda3/envs/ML-BOOTCAMP/lib/site-packages/pandas/io/html.py?line=1124'>1125</a>\u001b[0m     converters\u001b[39m=\u001b[39;49mconverters,\n\u001b[0;32m   <a href='file:///c%3A/Users/danie/anaconda3/envs/ML-BOOTCAMP/lib/site-packages/pandas/io/html.py?line=1125'>1126</a>\u001b[0m     na_values\u001b[39m=\u001b[39;49mna_values,\n\u001b[0;32m   <a href='file:///c%3A/Users/danie/anaconda3/envs/ML-BOOTCAMP/lib/site-packages/pandas/io/html.py?line=1126'>1127</a>\u001b[0m     keep_default_na\u001b[39m=\u001b[39;49mkeep_default_na,\n\u001b[0;32m   <a href='file:///c%3A/Users/danie/anaconda3/envs/ML-BOOTCAMP/lib/site-packages/pandas/io/html.py?line=1127'>1128</a>\u001b[0m     displayed_only\u001b[39m=\u001b[39;49mdisplayed_only,\n\u001b[0;32m   <a href='file:///c%3A/Users/danie/anaconda3/envs/ML-BOOTCAMP/lib/site-packages/pandas/io/html.py?line=1128'>1129</a>\u001b[0m )\n",
      "File \u001b[1;32mc:\\Users\\danie\\anaconda3\\envs\\ML-BOOTCAMP\\lib\\site-packages\\pandas\\io\\html.py:919\u001b[0m, in \u001b[0;36m_parse\u001b[1;34m(flavor, io, match, attrs, encoding, displayed_only, **kwargs)\u001b[0m\n\u001b[0;32m    <a href='file:///c%3A/Users/danie/anaconda3/envs/ML-BOOTCAMP/lib/site-packages/pandas/io/html.py?line=915'>916</a>\u001b[0m p \u001b[39m=\u001b[39m parser(io, compiled_match, attrs, encoding, displayed_only)\n\u001b[0;32m    <a href='file:///c%3A/Users/danie/anaconda3/envs/ML-BOOTCAMP/lib/site-packages/pandas/io/html.py?line=917'>918</a>\u001b[0m \u001b[39mtry\u001b[39;00m:\n\u001b[1;32m--> <a href='file:///c%3A/Users/danie/anaconda3/envs/ML-BOOTCAMP/lib/site-packages/pandas/io/html.py?line=918'>919</a>\u001b[0m     tables \u001b[39m=\u001b[39m p\u001b[39m.\u001b[39;49mparse_tables()\n\u001b[0;32m    <a href='file:///c%3A/Users/danie/anaconda3/envs/ML-BOOTCAMP/lib/site-packages/pandas/io/html.py?line=919'>920</a>\u001b[0m \u001b[39mexcept\u001b[39;00m \u001b[39mValueError\u001b[39;00m \u001b[39mas\u001b[39;00m caught:\n\u001b[0;32m    <a href='file:///c%3A/Users/danie/anaconda3/envs/ML-BOOTCAMP/lib/site-packages/pandas/io/html.py?line=920'>921</a>\u001b[0m     \u001b[39m# if `io` is an io-like object, check if it's seekable\u001b[39;00m\n\u001b[0;32m    <a href='file:///c%3A/Users/danie/anaconda3/envs/ML-BOOTCAMP/lib/site-packages/pandas/io/html.py?line=921'>922</a>\u001b[0m     \u001b[39m# and try to rewind it before trying the next parser\u001b[39;00m\n\u001b[0;32m    <a href='file:///c%3A/Users/danie/anaconda3/envs/ML-BOOTCAMP/lib/site-packages/pandas/io/html.py?line=922'>923</a>\u001b[0m     \u001b[39mif\u001b[39;00m \u001b[39mhasattr\u001b[39m(io, \u001b[39m\"\u001b[39m\u001b[39mseekable\u001b[39m\u001b[39m\"\u001b[39m) \u001b[39mand\u001b[39;00m io\u001b[39m.\u001b[39mseekable():\n",
      "File \u001b[1;32mc:\\Users\\danie\\anaconda3\\envs\\ML-BOOTCAMP\\lib\\site-packages\\pandas\\io\\html.py:239\u001b[0m, in \u001b[0;36m_HtmlFrameParser.parse_tables\u001b[1;34m(self)\u001b[0m\n\u001b[0;32m    <a href='file:///c%3A/Users/danie/anaconda3/envs/ML-BOOTCAMP/lib/site-packages/pandas/io/html.py?line=230'>231</a>\u001b[0m \u001b[39mdef\u001b[39;00m \u001b[39mparse_tables\u001b[39m(\u001b[39mself\u001b[39m):\n\u001b[0;32m    <a href='file:///c%3A/Users/danie/anaconda3/envs/ML-BOOTCAMP/lib/site-packages/pandas/io/html.py?line=231'>232</a>\u001b[0m     \u001b[39m\"\"\"\u001b[39;00m\n\u001b[0;32m    <a href='file:///c%3A/Users/danie/anaconda3/envs/ML-BOOTCAMP/lib/site-packages/pandas/io/html.py?line=232'>233</a>\u001b[0m \u001b[39m    Parse and return all tables from the DOM.\u001b[39;00m\n\u001b[0;32m    <a href='file:///c%3A/Users/danie/anaconda3/envs/ML-BOOTCAMP/lib/site-packages/pandas/io/html.py?line=233'>234</a>\u001b[0m \n\u001b[1;32m   (...)\u001b[0m\n\u001b[0;32m    <a href='file:///c%3A/Users/danie/anaconda3/envs/ML-BOOTCAMP/lib/site-packages/pandas/io/html.py?line=236'>237</a>\u001b[0m \u001b[39m    list of parsed (header, body, footer) tuples from tables.\u001b[39;00m\n\u001b[0;32m    <a href='file:///c%3A/Users/danie/anaconda3/envs/ML-BOOTCAMP/lib/site-packages/pandas/io/html.py?line=237'>238</a>\u001b[0m \u001b[39m    \"\"\"\u001b[39;00m\n\u001b[1;32m--> <a href='file:///c%3A/Users/danie/anaconda3/envs/ML-BOOTCAMP/lib/site-packages/pandas/io/html.py?line=238'>239</a>\u001b[0m     tables \u001b[39m=\u001b[39m \u001b[39mself\u001b[39m\u001b[39m.\u001b[39m_parse_tables(\u001b[39mself\u001b[39;49m\u001b[39m.\u001b[39;49m_build_doc(), \u001b[39mself\u001b[39m\u001b[39m.\u001b[39mmatch, \u001b[39mself\u001b[39m\u001b[39m.\u001b[39mattrs)\n\u001b[0;32m    <a href='file:///c%3A/Users/danie/anaconda3/envs/ML-BOOTCAMP/lib/site-packages/pandas/io/html.py?line=239'>240</a>\u001b[0m     \u001b[39mreturn\u001b[39;00m (\u001b[39mself\u001b[39m\u001b[39m.\u001b[39m_parse_thead_tbody_tfoot(table) \u001b[39mfor\u001b[39;00m table \u001b[39min\u001b[39;00m tables)\n",
      "File \u001b[1;32mc:\\Users\\danie\\anaconda3\\envs\\ML-BOOTCAMP\\lib\\site-packages\\pandas\\io\\html.py:758\u001b[0m, in \u001b[0;36m_LxmlFrameParser._build_doc\u001b[1;34m(self)\u001b[0m\n\u001b[0;32m    <a href='file:///c%3A/Users/danie/anaconda3/envs/ML-BOOTCAMP/lib/site-packages/pandas/io/html.py?line=755'>756</a>\u001b[0m             \u001b[39mpass\u001b[39;00m\n\u001b[0;32m    <a href='file:///c%3A/Users/danie/anaconda3/envs/ML-BOOTCAMP/lib/site-packages/pandas/io/html.py?line=756'>757</a>\u001b[0m     \u001b[39melse\u001b[39;00m:\n\u001b[1;32m--> <a href='file:///c%3A/Users/danie/anaconda3/envs/ML-BOOTCAMP/lib/site-packages/pandas/io/html.py?line=757'>758</a>\u001b[0m         \u001b[39mraise\u001b[39;00m e\n\u001b[0;32m    <a href='file:///c%3A/Users/danie/anaconda3/envs/ML-BOOTCAMP/lib/site-packages/pandas/io/html.py?line=758'>759</a>\u001b[0m \u001b[39melse\u001b[39;00m:\n\u001b[0;32m    <a href='file:///c%3A/Users/danie/anaconda3/envs/ML-BOOTCAMP/lib/site-packages/pandas/io/html.py?line=759'>760</a>\u001b[0m     \u001b[39mif\u001b[39;00m \u001b[39mnot\u001b[39;00m \u001b[39mhasattr\u001b[39m(r, \u001b[39m\"\u001b[39m\u001b[39mtext_content\u001b[39m\u001b[39m\"\u001b[39m):\n",
      "File \u001b[1;32mc:\\Users\\danie\\anaconda3\\envs\\ML-BOOTCAMP\\lib\\site-packages\\pandas\\io\\html.py:739\u001b[0m, in \u001b[0;36m_LxmlFrameParser._build_doc\u001b[1;34m(self)\u001b[0m\n\u001b[0;32m    <a href='file:///c%3A/Users/danie/anaconda3/envs/ML-BOOTCAMP/lib/site-packages/pandas/io/html.py?line=736'>737</a>\u001b[0m \u001b[39mtry\u001b[39;00m:\n\u001b[0;32m    <a href='file:///c%3A/Users/danie/anaconda3/envs/ML-BOOTCAMP/lib/site-packages/pandas/io/html.py?line=737'>738</a>\u001b[0m     \u001b[39mif\u001b[39;00m is_url(\u001b[39mself\u001b[39m\u001b[39m.\u001b[39mio):\n\u001b[1;32m--> <a href='file:///c%3A/Users/danie/anaconda3/envs/ML-BOOTCAMP/lib/site-packages/pandas/io/html.py?line=738'>739</a>\u001b[0m         \u001b[39mwith\u001b[39;00m urlopen(\u001b[39mself\u001b[39;49m\u001b[39m.\u001b[39;49mio) \u001b[39mas\u001b[39;00m f:\n\u001b[0;32m    <a href='file:///c%3A/Users/danie/anaconda3/envs/ML-BOOTCAMP/lib/site-packages/pandas/io/html.py?line=739'>740</a>\u001b[0m             r \u001b[39m=\u001b[39m parse(f, parser\u001b[39m=\u001b[39mparser)\n\u001b[0;32m    <a href='file:///c%3A/Users/danie/anaconda3/envs/ML-BOOTCAMP/lib/site-packages/pandas/io/html.py?line=740'>741</a>\u001b[0m     \u001b[39melse\u001b[39;00m:\n\u001b[0;32m    <a href='file:///c%3A/Users/danie/anaconda3/envs/ML-BOOTCAMP/lib/site-packages/pandas/io/html.py?line=741'>742</a>\u001b[0m         \u001b[39m# try to parse the input in the simplest way\u001b[39;00m\n",
      "File \u001b[1;32mc:\\Users\\danie\\anaconda3\\envs\\ML-BOOTCAMP\\lib\\site-packages\\pandas\\io\\common.py:239\u001b[0m, in \u001b[0;36murlopen\u001b[1;34m(*args, **kwargs)\u001b[0m\n\u001b[0;32m    <a href='file:///c%3A/Users/danie/anaconda3/envs/ML-BOOTCAMP/lib/site-packages/pandas/io/common.py?line=232'>233</a>\u001b[0m \u001b[39m\"\"\"\u001b[39;00m\n\u001b[0;32m    <a href='file:///c%3A/Users/danie/anaconda3/envs/ML-BOOTCAMP/lib/site-packages/pandas/io/common.py?line=233'>234</a>\u001b[0m \u001b[39mLazy-import wrapper for stdlib urlopen, as that imports a big chunk of\u001b[39;00m\n\u001b[0;32m    <a href='file:///c%3A/Users/danie/anaconda3/envs/ML-BOOTCAMP/lib/site-packages/pandas/io/common.py?line=234'>235</a>\u001b[0m \u001b[39mthe stdlib.\u001b[39;00m\n\u001b[0;32m    <a href='file:///c%3A/Users/danie/anaconda3/envs/ML-BOOTCAMP/lib/site-packages/pandas/io/common.py?line=235'>236</a>\u001b[0m \u001b[39m\"\"\"\u001b[39;00m\n\u001b[0;32m    <a href='file:///c%3A/Users/danie/anaconda3/envs/ML-BOOTCAMP/lib/site-packages/pandas/io/common.py?line=236'>237</a>\u001b[0m \u001b[39mimport\u001b[39;00m \u001b[39murllib\u001b[39;00m\u001b[39m.\u001b[39;00m\u001b[39mrequest\u001b[39;00m\n\u001b[1;32m--> <a href='file:///c%3A/Users/danie/anaconda3/envs/ML-BOOTCAMP/lib/site-packages/pandas/io/common.py?line=238'>239</a>\u001b[0m \u001b[39mreturn\u001b[39;00m urllib\u001b[39m.\u001b[39mrequest\u001b[39m.\u001b[39murlopen(\u001b[39m*\u001b[39margs, \u001b[39m*\u001b[39m\u001b[39m*\u001b[39mkwargs)\n",
      "File \u001b[1;32mc:\\Users\\danie\\anaconda3\\envs\\ML-BOOTCAMP\\lib\\urllib\\request.py:214\u001b[0m, in \u001b[0;36murlopen\u001b[1;34m(url, data, timeout, cafile, capath, cadefault, context)\u001b[0m\n\u001b[0;32m    <a href='file:///c%3A/Users/danie/anaconda3/envs/ML-BOOTCAMP/lib/urllib/request.py?line=211'>212</a>\u001b[0m \u001b[39melse\u001b[39;00m:\n\u001b[0;32m    <a href='file:///c%3A/Users/danie/anaconda3/envs/ML-BOOTCAMP/lib/urllib/request.py?line=212'>213</a>\u001b[0m     opener \u001b[39m=\u001b[39m _opener\n\u001b[1;32m--> <a href='file:///c%3A/Users/danie/anaconda3/envs/ML-BOOTCAMP/lib/urllib/request.py?line=213'>214</a>\u001b[0m \u001b[39mreturn\u001b[39;00m opener\u001b[39m.\u001b[39;49mopen(url, data, timeout)\n",
      "File \u001b[1;32mc:\\Users\\danie\\anaconda3\\envs\\ML-BOOTCAMP\\lib\\urllib\\request.py:523\u001b[0m, in \u001b[0;36mOpenerDirector.open\u001b[1;34m(self, fullurl, data, timeout)\u001b[0m\n\u001b[0;32m    <a href='file:///c%3A/Users/danie/anaconda3/envs/ML-BOOTCAMP/lib/urllib/request.py?line=520'>521</a>\u001b[0m \u001b[39mfor\u001b[39;00m processor \u001b[39min\u001b[39;00m \u001b[39mself\u001b[39m\u001b[39m.\u001b[39mprocess_response\u001b[39m.\u001b[39mget(protocol, []):\n\u001b[0;32m    <a href='file:///c%3A/Users/danie/anaconda3/envs/ML-BOOTCAMP/lib/urllib/request.py?line=521'>522</a>\u001b[0m     meth \u001b[39m=\u001b[39m \u001b[39mgetattr\u001b[39m(processor, meth_name)\n\u001b[1;32m--> <a href='file:///c%3A/Users/danie/anaconda3/envs/ML-BOOTCAMP/lib/urllib/request.py?line=522'>523</a>\u001b[0m     response \u001b[39m=\u001b[39m meth(req, response)\n\u001b[0;32m    <a href='file:///c%3A/Users/danie/anaconda3/envs/ML-BOOTCAMP/lib/urllib/request.py?line=524'>525</a>\u001b[0m \u001b[39mreturn\u001b[39;00m response\n",
      "File \u001b[1;32mc:\\Users\\danie\\anaconda3\\envs\\ML-BOOTCAMP\\lib\\urllib\\request.py:632\u001b[0m, in \u001b[0;36mHTTPErrorProcessor.http_response\u001b[1;34m(self, request, response)\u001b[0m\n\u001b[0;32m    <a href='file:///c%3A/Users/danie/anaconda3/envs/ML-BOOTCAMP/lib/urllib/request.py?line=628'>629</a>\u001b[0m \u001b[39m# According to RFC 2616, \"2xx\" code indicates that the client's\u001b[39;00m\n\u001b[0;32m    <a href='file:///c%3A/Users/danie/anaconda3/envs/ML-BOOTCAMP/lib/urllib/request.py?line=629'>630</a>\u001b[0m \u001b[39m# request was successfully received, understood, and accepted.\u001b[39;00m\n\u001b[0;32m    <a href='file:///c%3A/Users/danie/anaconda3/envs/ML-BOOTCAMP/lib/urllib/request.py?line=630'>631</a>\u001b[0m \u001b[39mif\u001b[39;00m \u001b[39mnot\u001b[39;00m (\u001b[39m200\u001b[39m \u001b[39m<\u001b[39m\u001b[39m=\u001b[39m code \u001b[39m<\u001b[39m \u001b[39m300\u001b[39m):\n\u001b[1;32m--> <a href='file:///c%3A/Users/danie/anaconda3/envs/ML-BOOTCAMP/lib/urllib/request.py?line=631'>632</a>\u001b[0m     response \u001b[39m=\u001b[39m \u001b[39mself\u001b[39;49m\u001b[39m.\u001b[39;49mparent\u001b[39m.\u001b[39;49merror(\n\u001b[0;32m    <a href='file:///c%3A/Users/danie/anaconda3/envs/ML-BOOTCAMP/lib/urllib/request.py?line=632'>633</a>\u001b[0m         \u001b[39m'\u001b[39;49m\u001b[39mhttp\u001b[39;49m\u001b[39m'\u001b[39;49m, request, response, code, msg, hdrs)\n\u001b[0;32m    <a href='file:///c%3A/Users/danie/anaconda3/envs/ML-BOOTCAMP/lib/urllib/request.py?line=634'>635</a>\u001b[0m \u001b[39mreturn\u001b[39;00m response\n",
      "File \u001b[1;32mc:\\Users\\danie\\anaconda3\\envs\\ML-BOOTCAMP\\lib\\urllib\\request.py:561\u001b[0m, in \u001b[0;36mOpenerDirector.error\u001b[1;34m(self, proto, *args)\u001b[0m\n\u001b[0;32m    <a href='file:///c%3A/Users/danie/anaconda3/envs/ML-BOOTCAMP/lib/urllib/request.py?line=558'>559</a>\u001b[0m \u001b[39mif\u001b[39;00m http_err:\n\u001b[0;32m    <a href='file:///c%3A/Users/danie/anaconda3/envs/ML-BOOTCAMP/lib/urllib/request.py?line=559'>560</a>\u001b[0m     args \u001b[39m=\u001b[39m (\u001b[39mdict\u001b[39m, \u001b[39m'\u001b[39m\u001b[39mdefault\u001b[39m\u001b[39m'\u001b[39m, \u001b[39m'\u001b[39m\u001b[39mhttp_error_default\u001b[39m\u001b[39m'\u001b[39m) \u001b[39m+\u001b[39m orig_args\n\u001b[1;32m--> <a href='file:///c%3A/Users/danie/anaconda3/envs/ML-BOOTCAMP/lib/urllib/request.py?line=560'>561</a>\u001b[0m     \u001b[39mreturn\u001b[39;00m \u001b[39mself\u001b[39;49m\u001b[39m.\u001b[39;49m_call_chain(\u001b[39m*\u001b[39;49margs)\n",
      "File \u001b[1;32mc:\\Users\\danie\\anaconda3\\envs\\ML-BOOTCAMP\\lib\\urllib\\request.py:494\u001b[0m, in \u001b[0;36mOpenerDirector._call_chain\u001b[1;34m(self, chain, kind, meth_name, *args)\u001b[0m\n\u001b[0;32m    <a href='file:///c%3A/Users/danie/anaconda3/envs/ML-BOOTCAMP/lib/urllib/request.py?line=491'>492</a>\u001b[0m \u001b[39mfor\u001b[39;00m handler \u001b[39min\u001b[39;00m handlers:\n\u001b[0;32m    <a href='file:///c%3A/Users/danie/anaconda3/envs/ML-BOOTCAMP/lib/urllib/request.py?line=492'>493</a>\u001b[0m     func \u001b[39m=\u001b[39m \u001b[39mgetattr\u001b[39m(handler, meth_name)\n\u001b[1;32m--> <a href='file:///c%3A/Users/danie/anaconda3/envs/ML-BOOTCAMP/lib/urllib/request.py?line=493'>494</a>\u001b[0m     result \u001b[39m=\u001b[39m func(\u001b[39m*\u001b[39;49margs)\n\u001b[0;32m    <a href='file:///c%3A/Users/danie/anaconda3/envs/ML-BOOTCAMP/lib/urllib/request.py?line=494'>495</a>\u001b[0m     \u001b[39mif\u001b[39;00m result \u001b[39mis\u001b[39;00m \u001b[39mnot\u001b[39;00m \u001b[39mNone\u001b[39;00m:\n\u001b[0;32m    <a href='file:///c%3A/Users/danie/anaconda3/envs/ML-BOOTCAMP/lib/urllib/request.py?line=495'>496</a>\u001b[0m         \u001b[39mreturn\u001b[39;00m result\n",
      "File \u001b[1;32mc:\\Users\\danie\\anaconda3\\envs\\ML-BOOTCAMP\\lib\\urllib\\request.py:641\u001b[0m, in \u001b[0;36mHTTPDefaultErrorHandler.http_error_default\u001b[1;34m(self, req, fp, code, msg, hdrs)\u001b[0m\n\u001b[0;32m    <a href='file:///c%3A/Users/danie/anaconda3/envs/ML-BOOTCAMP/lib/urllib/request.py?line=639'>640</a>\u001b[0m \u001b[39mdef\u001b[39;00m \u001b[39mhttp_error_default\u001b[39m(\u001b[39mself\u001b[39m, req, fp, code, msg, hdrs):\n\u001b[1;32m--> <a href='file:///c%3A/Users/danie/anaconda3/envs/ML-BOOTCAMP/lib/urllib/request.py?line=640'>641</a>\u001b[0m     \u001b[39mraise\u001b[39;00m HTTPError(req\u001b[39m.\u001b[39mfull_url, code, msg, hdrs, fp)\n",
      "\u001b[1;31mHTTPError\u001b[0m: HTTP Error 404: Not Found"
     ]
    }
   ],
   "source": [
    "url = 'https://finance.yahoo.com/quote/TWTR/history?p=TWTR'\n",
    "\n",
    "data = pd.read_html(url, match = 'Date')\n",
    "\n",
    "data"
   ]
  },
  {
   "cell_type": "markdown",
   "id": "dea9eefb",
   "metadata": {},
   "source": [
    "It is not in a tabular way so we will do a small data cleaning operation:"
   ]
  },
  {
   "cell_type": "code",
   "execution_count": null,
   "id": "a070850e",
   "metadata": {},
   "outputs": [],
   "source": [
    "# small data cleaning\n",
    "df = data[0].iloc[:100,:]\n",
    "df"
   ]
  },
  {
   "cell_type": "code",
   "execution_count": null,
   "id": "7d922132",
   "metadata": {},
   "outputs": [],
   "source": [
    "# Let's make sure is a dataframe\n",
    "type(df)"
   ]
  },
  {
   "cell_type": "code",
   "execution_count": null,
   "id": "f28efffe",
   "metadata": {},
   "outputs": [],
   "source": [
    "# to insert the data into sqlite3 we will convert the dataframe into a list of tuples\n",
    "\n",
    "records = df.to_records(index=False)\n",
    "list_of_tuples = list(records)\n",
    "list_of_tuples"
   ]
  },
  {
   "cell_type": "markdown",
   "id": "b2f46d85",
   "metadata": {},
   "source": [
    "Now let's create our SQLite3 database. The following command is to connect to a Sqlite3 database. In case the databse does not exist, it will create it."
   ]
  },
  {
   "cell_type": "code",
   "execution_count": 2,
   "id": "16153630",
   "metadata": {},
   "outputs": [],
   "source": [
    "# Use the connect() function of sqlite3 to create a database. It will create a connection object.\n",
    "\n",
    "connection = sqlite3.connect('twitter_stocks.db')"
   ]
  },
  {
   "cell_type": "markdown",
   "id": "de4c68a2",
   "metadata": {},
   "source": [
    "Now let's create a table in our database to store our stock values."
   ]
  },
  {
   "cell_type": "code",
   "execution_count": null,
   "id": "784a30a1",
   "metadata": {},
   "outputs": [],
   "source": [
    "c = conn.cursor()\n",
    "\n",
    "# Create table\n",
    "c.execute('''CREATE TABLE stocks\n",
    "             (Date, Open, High, Low, Close, Adjclose, Volume)''')"
   ]
  },
  {
   "cell_type": "code",
   "execution_count": null,
   "id": "c7e17d71",
   "metadata": {},
   "outputs": [],
   "source": [
    "# Insert the values\n",
    "c.executemany('INSERT INTO teslastocks VALUES (?,?,?,?,?,?,?)', list_of_tuples)\n",
    "# Save (commit) the changes\n",
    "conn.commit()"
   ]
  },
  {
   "cell_type": "markdown",
   "id": "ddeb2647",
   "metadata": {},
   "source": [
    "Now retrieve the data from the database"
   ]
  },
  {
   "cell_type": "code",
   "execution_count": null,
   "id": "aeeab28f",
   "metadata": {},
   "outputs": [],
   "source": [
    "for row in c.execute('SELECT * FROM stocks'):\n",
    "    print(row)"
   ]
  },
  {
   "cell_type": "markdown",
   "id": "4b6f12d7",
   "metadata": {},
   "source": [
    "Our database name is “twitter_stocks.db”. We saved the connection to the connection object.\n",
    "\n",
    "Next time we run this file, it just connects to the database, and if the database is not there, it will create one."
   ]
  },
  {
   "cell_type": "markdown",
   "id": "ef196f09",
   "metadata": {},
   "source": [
    "### Exercise 2\n",
    "\n",
    "In this exercise we will create a project structure using the cookiecutter template. Once created, we will look for the Titanic data on the web and put it in our template data folder, considering what we have learned about the template structure.\n",
    "Good job! Now we are ready to explore and clean the data in the next module."
   ]
  },
  {
   "cell_type": "markdown",
   "id": "0631ef1c",
   "metadata": {},
   "source": [
    "Source:\n",
    "\n",
    "https://github.com/bhavyaramgiri/Web-Scraping-and-sqlite3/blob/master/week%209-%20web%20scraping%20sqlite.ipynb\n",
    "\n",
    "https://coderspacket.com/scraping-the-web-page-and-storing-it-in-a-sqlite3-database"
   ]
  }
 ],
 "metadata": {
  "interpreter": {
   "hash": "9248718ffe6ce6938b217e69dbcc175ea21f4c6b28a317e96c05334edae734bb"
  },
  "kernelspec": {
   "display_name": "Python 3.9.12 ('ML-BOOTCAMP')",
   "language": "python",
   "name": "python3"
  },
  "language_info": {
   "codemirror_mode": {
    "name": "ipython",
    "version": 3
   },
   "file_extension": ".py",
   "mimetype": "text/x-python",
   "name": "python",
   "nbconvert_exporter": "python",
   "pygments_lexer": "ipython3",
   "version": "3.9.12"
  }
 },
 "nbformat": 4,
 "nbformat_minor": 5
}
