{
 "cells": [
  {
   "cell_type": "markdown",
   "id": "84b8065b",
   "metadata": {},
   "source": [
    "# Web scraping problem\n",
    "\n",
    "In this project, we are going to scrape the Tesla revenue data and store it in a dataframe, and also in a sqlite database.\n",
    "\n",
    "To know whether a website allows web scraping or not, you can look at the website’s “robots.txt” file. You can find this file by appending “/robots.txt” to the URL that you want to scrape.\n",
    "\n",
    "**Step 1:** Make sure you have sqlite3 and pandas installed. In case they are not installed, you can use the following command in the terminal:\n",
    "\n",
    "```py\n",
    "pip install pandas\n",
    "```\n",
    "\n",
    "and \n",
    "\n",
    "```py\n",
    "pip install sqlite3\n",
    "```\n",
    "\n",
    "**Step 2:** Import necessary libraries"
   ]
  },
  {
   "cell_type": "code",
   "execution_count": 10,
   "id": "7867da22",
   "metadata": {},
   "outputs": [],
   "source": [
    "# import packages\n"
   ]
  },
  {
   "cell_type": "markdown",
   "id": "024527cc",
   "metadata": {},
   "source": [
    "**Step 3:** Use the requests library to download the webpage https://www.macrotrends.net/stocks/charts/TSLA/tesla/revenue. Save the text of the response as a variable named html_data."
   ]
  },
  {
   "cell_type": "code",
   "execution_count": 29,
   "id": "3775a2d9",
   "metadata": {},
   "outputs": [],
   "source": [
    "#your code here\n"
   ]
  },
  {
   "cell_type": "markdown",
   "id": "1b71ca6f",
   "metadata": {},
   "source": [
    "**Step 4:** Parse the html data using beautiful_soup"
   ]
  },
  {
   "cell_type": "code",
   "execution_count": null,
   "id": "20428bbf",
   "metadata": {},
   "outputs": [],
   "source": [
    "#your code here"
   ]
  },
  {
   "cell_type": "markdown",
   "id": "b1081269",
   "metadata": {},
   "source": [
    "**Step 5:** Use beautiful soup or the read_html function to extract the table with Tesla Quarterly Revenue and store it into a dataframe named tesla_revenue. The dataframe should have columns Date and Revenue. Make sure the comma and dollar sign is removed from the Revenue column. Inspect the html code to know what parts of the table should be found."
   ]
  },
  {
   "cell_type": "code",
   "execution_count": null,
   "id": "14f3cb3e",
   "metadata": {},
   "outputs": [],
   "source": [
    "#find all tables\n",
    "\n",
    "\n",
    "#find table with Tesla quarterly revenue\n",
    "\n",
    "\n",
    "\n",
    "\n",
    "#create the dataframe        \n",
    "\n",
    "\n",
    "\n",
    "#iterate over the table rows to get the values and remove the $ and comma \n",
    "\n",
    "\n",
    "\n"
   ]
  },
  {
   "cell_type": "markdown",
   "id": "105e1b2a",
   "metadata": {},
   "source": [
    "**Step 6:** Remove the rows in the dataframe that are empty strings or are NaN in the Revenue column. Print the entire tesla_revenue DataFrame to see if you have any."
   ]
  },
  {
   "cell_type": "code",
   "execution_count": 1,
   "id": "a0867a7c",
   "metadata": {},
   "outputs": [],
   "source": [
    "#your code here\n"
   ]
  },
  {
   "cell_type": "markdown",
   "id": "a1c87351",
   "metadata": {},
   "source": [
    "**Step 7:** Make sure tesla_revenue is still a dataframe"
   ]
  },
  {
   "cell_type": "code",
   "execution_count": 2,
   "id": "7d922132",
   "metadata": {},
   "outputs": [],
   "source": [
    "#your code here"
   ]
  },
  {
   "cell_type": "markdown",
   "id": "762ef0f7",
   "metadata": {},
   "source": [
    "**Step 8:** Insert the data into sqlite3 by converting the dataframe into a list of tuples"
   ]
  },
  {
   "cell_type": "code",
   "execution_count": 3,
   "id": "f28efffe",
   "metadata": {},
   "outputs": [],
   "source": [
    "#your code here\n",
    "\n"
   ]
  },
  {
   "cell_type": "markdown",
   "id": "b2f46d85",
   "metadata": {},
   "source": [
    "**Step 9:** Now let's create a SQLite3 database. Use the connect() function of sqlite3 to create a database. It will create a connection object. In case the databse does not exist, it will create it."
   ]
  },
  {
   "cell_type": "code",
   "execution_count": 33,
   "id": "16153630",
   "metadata": {},
   "outputs": [],
   "source": [
    "# Use the connect() function of sqlite3 to create a database. It will create a connection object.\n"
   ]
  },
  {
   "cell_type": "markdown",
   "id": "de4c68a2",
   "metadata": {},
   "source": [
    "**Step 10:** Let's create a table in our database to store our revenue values."
   ]
  },
  {
   "cell_type": "code",
   "execution_count": 4,
   "id": "784a30a1",
   "metadata": {},
   "outputs": [],
   "source": [
    "#your code here\n",
    "\n",
    "\n",
    "# Create table\n"
   ]
  },
  {
   "cell_type": "code",
   "execution_count": 5,
   "id": "c7e17d71",
   "metadata": {},
   "outputs": [],
   "source": [
    "# Insert the values\n",
    "\n",
    "\n",
    "# Save (commit) the changes\n"
   ]
  },
  {
   "cell_type": "markdown",
   "id": "ddeb2647",
   "metadata": {},
   "source": [
    "**Step 11:** Now retrieve the data from the database"
   ]
  },
  {
   "cell_type": "code",
   "execution_count": 6,
   "id": "aeeab28f",
   "metadata": {},
   "outputs": [],
   "source": [
    "#your code here"
   ]
  },
  {
   "cell_type": "markdown",
   "id": "4b6f12d7",
   "metadata": {},
   "source": [
    "Our database name is “Tesla.db”. We saved the connection to the connection object.\n",
    "\n",
    "Next time we run this file, it just connects to the database, and if the database is not there, it will create one."
   ]
  },
  {
   "cell_type": "markdown",
   "id": "a0a7756e",
   "metadata": {},
   "source": [
    "**Step 12:** Finally create a plot to visualize the data"
   ]
  },
  {
   "cell_type": "code",
   "execution_count": null,
   "id": "dc46c7df",
   "metadata": {},
   "outputs": [],
   "source": [
    "#your code here"
   ]
  },
  {
   "cell_type": "markdown",
   "id": "0631ef1c",
   "metadata": {},
   "source": [
    "Source:\n",
    "\n",
    "https://github.com/bhavyaramgiri/Web-Scraping-and-sqlite3/blob/master/week%209-%20web%20scraping%20sqlite.ipynb\n",
    "\n",
    "https://coderspacket.com/scraping-the-web-page-and-storing-it-in-a-sqlite3-database\n",
    "\n",
    "https://gist.github.com/elifum/09dcaecfbc6c6e047222db3fcfe5f3b8"
   ]
  }
 ],
 "metadata": {
  "kernelspec": {
   "display_name": "Python 3.8.13 64-bit ('3.8.13')",
   "language": "python",
   "name": "python3"
  },
  "language_info": {
   "codemirror_mode": {
    "name": "ipython",
    "version": 3
   },
   "file_extension": ".py",
   "mimetype": "text/x-python",
   "name": "python",
   "nbconvert_exporter": "python",
   "pygments_lexer": "ipython3",
   "version": "3.8.13"
  },
  "vscode": {
   "interpreter": {
    "hash": "110cc1dee26208153f2972f08a2ad52b6a56238dc66d48e87fb757ef2996db56"
   }
  }
 },
 "nbformat": 4,
 "nbformat_minor": 5
}
