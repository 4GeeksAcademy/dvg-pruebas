{
 "cells": [
  {
   "cell_type": "markdown",
   "id": "84b8065b",
   "metadata": {},
   "source": [
    "# Web scraping problem\n",
    "\n",
    "### Exercise 1\n",
    "\n",
    "In this project, we are going to scrape the stock values of Twitter,Inc company from yahoo finance, that is present in the tabular form, creating a database in SQLite3, and storing the scraped data in it. \n",
    "\n",
    "**Step 1:** Make sure you have sqlite3 and pandas installed. In case they are not installed, you can use the following command in the terminal:\n",
    "\n",
    "```py\n",
    "pip install pandas\n",
    "```\n",
    "\n",
    "and \n",
    "\n",
    "```py\n",
    "pip install sqlite3\n",
    "```\n",
    "\n",
    "**Step 2:** Import pandas  and sqlite3\n",
    "\n",
    "If you are using a notebook, run the cell. If you are using a text editor make sure to use print to execute the code."
   ]
  },
  {
   "cell_type": "code",
   "execution_count": 1,
   "id": "7867da22",
   "metadata": {},
   "outputs": [],
   "source": [
    "# import packages\n",
    "\n",
    "import pandas as pd\n",
    "import sqlite3"
   ]
  },
  {
   "cell_type": "markdown",
   "id": "024527cc",
   "metadata": {},
   "source": [
    "**Step 3:** Scraping the Yahoo finance website"
   ]
  },
  {
   "cell_type": "code",
   "execution_count": null,
   "id": "3775a2d9",
   "metadata": {},
   "outputs": [],
   "source": [
    "url = 'https://finance.yahoo.com/quote/TWTR/history?p=TWTR'\n",
    "\n",
    "data = pd.read_html(url, match = 'Date')\n",
    "\n",
    "data"
   ]
  },
  {
   "cell_type": "markdown",
   "id": "dea9eefb",
   "metadata": {},
   "source": [
    "It is not in a tabular way so we will do a small data cleaning operation:"
   ]
  },
  {
   "cell_type": "code",
   "execution_count": null,
   "id": "a070850e",
   "metadata": {},
   "outputs": [],
   "source": [
    "# small data cleaning\n",
    "df = data[0].iloc[:100,:]\n",
    "df"
   ]
  },
  {
   "cell_type": "code",
   "execution_count": null,
   "id": "7d922132",
   "metadata": {},
   "outputs": [],
   "source": [
    "# Let's make sure is a dataframe\n",
    "type(df)"
   ]
  },
  {
   "cell_type": "code",
   "execution_count": null,
   "id": "f28efffe",
   "metadata": {},
   "outputs": [],
   "source": [
    "# to insert the data into sqlite3 we will convert the dataframe into a list of tuples\n",
    "\n",
    "records = df.to_records(index=False)\n",
    "list_of_tuples = list(records)\n",
    "list_of_tuples"
   ]
  },
  {
   "cell_type": "markdown",
   "id": "b2f46d85",
   "metadata": {},
   "source": [
    "Now let's create our SQLite3 database. The following command is to connect to a Sqlite3 database. In case the databse does not exist, it will create it."
   ]
  },
  {
   "cell_type": "code",
   "execution_count": 2,
   "id": "16153630",
   "metadata": {},
   "outputs": [],
   "source": [
    "# Use the connect() function of sqlite3 to create a database. It will create a connection object.\n",
    "\n",
    "connection = sqlite3.connect('twitter_stocks.db')"
   ]
  },
  {
   "cell_type": "markdown",
   "id": "de4c68a2",
   "metadata": {},
   "source": [
    "Now let's create a table in our database to store our stock values."
   ]
  },
  {
   "cell_type": "code",
   "execution_count": null,
   "id": "784a30a1",
   "metadata": {},
   "outputs": [],
   "source": [
    "c = conn.cursor()\n",
    "\n",
    "# Create table\n",
    "c.execute('''CREATE TABLE stocks\n",
    "             (Date, Open, High, Low, Close, Adjclose, Volume)''')"
   ]
  },
  {
   "cell_type": "code",
   "execution_count": null,
   "id": "c7e17d71",
   "metadata": {},
   "outputs": [],
   "source": [
    "# Insert the values\n",
    "c.executemany('INSERT INTO teslastocks VALUES (?,?,?,?,?,?,?)', list_of_tuples)\n",
    "# Save (commit) the changes\n",
    "conn.commit()"
   ]
  },
  {
   "cell_type": "markdown",
   "id": "ddeb2647",
   "metadata": {},
   "source": [
    "Now retrieve the data from the database"
   ]
  },
  {
   "cell_type": "code",
   "execution_count": null,
   "id": "aeeab28f",
   "metadata": {},
   "outputs": [],
   "source": [
    "for row in c.execute('SELECT * FROM stocks'):\n",
    "    print(row)"
   ]
  },
  {
   "cell_type": "markdown",
   "id": "4b6f12d7",
   "metadata": {},
   "source": [
    "Our database name is “twitter_stocks.db”. We saved the connection to the connection object.\n",
    "\n",
    "Next time we run this file, it just connects to the database, and if the database is not there, it will create one."
   ]
  },
  {
   "cell_type": "markdown",
   "id": "0631ef1c",
   "metadata": {},
   "source": [
    "Source:\n",
    "\n",
    "https://github.com/bhavyaramgiri/Web-Scraping-and-sqlite3/blob/master/week%209-%20web%20scraping%20sqlite.ipynb\n",
    "\n",
    "https://coderspacket.com/scraping-the-web-page-and-storing-it-in-a-sqlite3-database"
   ]
  }
 ],
 "metadata": {
  "interpreter": {
   "hash": "9248718ffe6ce6938b217e69dbcc175ea21f4c6b28a317e96c05334edae734bb"
  },
  "kernelspec": {
   "display_name": "Python 3.9.12 ('ML-BOOTCAMP')",
   "language": "python",
   "name": "python3"
  },
  "language_info": {
   "codemirror_mode": {
    "name": "ipython",
    "version": 3
   },
   "file_extension": ".py",
   "mimetype": "text/x-python",
   "name": "python",
   "nbconvert_exporter": "python",
   "pygments_lexer": "ipython3",
   "version": "3.9.12"
  }
 },
 "nbformat": 4,
 "nbformat_minor": 5
}
