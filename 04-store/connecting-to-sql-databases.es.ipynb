{
 "cells": [
  {
   "attachments": {},
   "cell_type": "markdown",
   "id": "e9ebad92",
   "metadata": {},
   "source": [
    "# Conectarse a bases de datos SQL usando Python\n",
    "\n",
    "Como expertos en Machine Learning y dependiendo de cómo esté dispuesta la información, seguramente tengamos que interactuar con bases de datos SQL. Es un flujo muy común el de ingestar datos en Python a través de SQL o bases de datos no relacionales y utilizar Python para analizarlos, graficarlos, definirlos y en última instancia, elaborar un modelo predictivo. \n",
    "\n",
    "Algunas de las bases de datos SQL más utilizadas con SQLite, PostgreSQL y MySQL. SQLite es la mejor alternativa cuando queremos una base de datos portable, sin tener que usar un servidor por separado para ejecutarla. Es idónea para aplicaciones embebidas. Si queremos algo más escalable a futuro y una base de datos en aplicaciones distribuidas, entonces MySQL es una buena opción, mientras que PostgreSQL es una base de datos oportuna para aplicaciones complejas y se usa en la mayoría de soluciones empresariales.\n",
    "\n",
    "![comparative_sql.png](https://github.com/4GeeksAcademy/machine-learning-content/blob/master/assets/comparative_sql.png?raw=true)\n",
    "\n",
    "En esta lección veremos cómo interactúan Python y algunas bases de datos SQL. ¿Por qué deberíamos preocuparnos por conectar Python y una base de datos SQL? Tal vez, como expertos en Machine Learning, necesitemos construir un \"ETL pipeline\" (tubería ETL) automatizado. Conectar Python a una base de datos SQL nos permitirá usar Python para sus capacidades de automatización. También podremos comunicarnos entre diferentes fuentes de datos. No tendremos que cambiar entre diferentes lenguajes de programación, podremos usar nuestras habilidades de Python para manipular datos de una base de datos SQL. No necesitaremos un archivo CSV.\n",
    "\n",
    "### Conexión a SQLite\n",
    "\n",
    "`Python` tiene su propio wrapper para realizar una conexión a una base de datos SQLite. Además este paquete viene instalado en la versión base y no es necesario instalar nada para empezar a usarlo. Debido a que la base de datos es sencilla, su código también:"
   ]
  },
  {
   "cell_type": "code",
   "execution_count": null,
   "id": "2c45ef71",
   "metadata": {},
   "outputs": [],
   "source": [
    "import sqlite3\n",
    "\n",
    "# Se genera una base de datos llamada \"test.db\" en el directorio actual\n",
    "con = sqlite3.connect(\"test.db\")\n",
    "\n",
    "### CREATE: Generar una base de datos vacía con 5 variables: ID, NAME, AGE, ADDRESS y SALARY\n",
    "con.execute(\"\"\"CREATE TABLE COMPANY\n",
    "    (ID INT PRIMARY KEY     NOT NULL,\n",
    "     NAME           TEXT    NOT NULL,\n",
    "     AGE            INT     NOT NULL,\n",
    "     ADDRESS        CHAR(50),\n",
    "     SALARY         REAL)\"\"\")\n",
    "\n",
    "### INSERT: Introducir en la base de datos algún registro\n",
    "con.execute(\"\"\"INSERT INTO COMPANY\n",
    "    VALUES (1, 'Richard', 40, 'Spain', 20000.00)\"\"\")\n",
    "\n",
    "con.execute(\"\"\"INSERT INTO COMPANY\n",
    "    VALUES (2, 'Óscar', 25, 'France', 15000.00)\"\"\")\n",
    "\n",
    "con.commit()\n",
    "\n",
    "### SELECT: Filtrar de entre los valores de la base de datos\n",
    "#  El cursor permite definir un conjunto de resultados\n",
    "cursor = con.execute(\"SELECT * from COMPANY\")\n",
    "for row in cursor: # Itera por todas las filas del filtro resultante\n",
    "    print(f\"ID = {row[0]} NAME = {row[1]} ADDRESS = {row[2]} SALARY = {row[3}]}\")\n",
    "\n",
    "# También se pueden almacenar los resultados en un DataFrame usando Pandas\n",
    "import pandas as pd\n",
    "cursor_df = pd.read_sql_query(\"SELECT * FROM COMPANY\", con)\n",
    "\n",
    "### UPDATE: Actualizar un registro en la base de datos\n",
    "conn.execute(\"UPDATE COMPANY set SALARY = 25000.00 where ID = 1\")\n",
    "\n",
    "conn.commit()\n",
    "\n",
    "### DELETE: Eliminar uno o varios registros de la base de datos\n",
    "conn.execute(\"DELETE from COMPANY where ID = 2\")\n",
    "\n",
    "conn.commit()"
   ]
  },
  {
   "attachments": {},
   "cell_type": "markdown",
   "id": "81d29ded",
   "metadata": {},
   "source": [
    "Como se ha podido ver, este paquete proporciona una interfaz muy amigable para crear una base de datos portable y fácil de usar. Con simplemente dos sentencias, `con.execute()` y `con.commit()` podremos realizar prácticamente todo lo que necesitemos para interactuar con ella. En contraposición a `SQLAlchemy`, aquí es necesario saber la sintaxis de SQL."
   ]
  },
  {
   "attachments": {},
   "cell_type": "markdown",
   "id": "652675e3",
   "metadata": {},
   "source": [
    "### Conexión a MySQL"
   ]
  }
 ],
 "metadata": {
  "kernelspec": {
   "display_name": "Python 3 (ipykernel)",
   "language": "python",
   "name": "python3"
  },
  "language_info": {
   "codemirror_mode": {
    "name": "ipython",
    "version": 3
   },
   "file_extension": ".py",
   "mimetype": "text/x-python",
   "name": "python",
   "nbconvert_exporter": "python",
   "pygments_lexer": "ipython3",
   "version": "3.9.7"
  }
 },
 "nbformat": 4,
 "nbformat_minor": 5
}
