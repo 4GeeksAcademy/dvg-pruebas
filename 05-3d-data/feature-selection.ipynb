{
 "cells": [
  {
   "cell_type": "markdown",
   "id": "c9588406",
   "metadata": {},
   "source": [
    "# Feature Selection"
   ]
  },
  {
   "cell_type": "markdown",
   "id": "9d118afc",
   "metadata": {},
   "source": []
  },
  {
   "cell_type": "markdown",
   "id": "a873c40d",
   "metadata": {},
   "source": [
    "***When should we reduce the number of features used by our model?**\n",
    "\n",
    "Some instances when features selection is necessary:\n",
    "\n",
    "- When there is strong collinearity between features\n",
    "\n",
    "- There are an overwhelming number of features\n",
    "\n",
    "- There is not enough computational power to process all features.\n",
    "\n",
    "- The algorithm forces the model to use all features, even when they are not useful (most often in parametric or linear models)\n",
    "\n",
    "- When we wish to make the model simpler for any reason. For example to make it easier to explain, less computational power needed.\n",
    "\n",
    "**When is feature selection unnecesary?**\n",
    "\n",
    "Some instances when feature selection is not necessary:\n",
    "\n",
    "- There are relatively few features\n",
    "\n",
    "- All features contain useful and important signal\n",
    "\n",
    "- There is no collinearity between features\n",
    "\n",
    "- The model will automatically select the most useful features\n",
    "\n",
    "- The computing resources can handle processing all of the features\n",
    "\n",
    "- Thoroughly explaining the model to a non-technical audience is not critical\n",
    "\n",
    "**What are the three types of feature selection methods?**\n",
    "\n",
    "- Filter Methods - feature selection is done independent of the learning algorithm, before any modelling is done. One example is finding the correlation between every feature and the target and throwing out those that don't meet a threshold. Easy, fast, but naive and not as performant as other methods.\n",
    "\n",
    "- Wrapper Methods - train models on subsets of the features and use the subset that results in the best performance. Examples are Stepwise or Recursive feature selection. Advantages are that it considers each feature in the context of the other features, but can be computationally expensive.\n",
    "\n",
    "- Embedded Methods - learning algorithms have built-in feature selection. For example: L1 regularization."
   ]
  }
 ],
 "metadata": {
  "kernelspec": {
   "display_name": "Python 3 (ipykernel)",
   "language": "python",
   "name": "python3"
  },
  "language_info": {
   "codemirror_mode": {
    "name": "ipython",
    "version": 3
   },
   "file_extension": ".py",
   "mimetype": "text/x-python",
   "name": "python",
   "nbconvert_exporter": "python",
   "pygments_lexer": "ipython3",
   "version": "3.9.7"
  }
 },
 "nbformat": 4,
 "nbformat_minor": 5
}
