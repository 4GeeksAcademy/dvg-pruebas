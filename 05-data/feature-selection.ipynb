{
 "cells": [
  {
   "cell_type": "markdown",
   "id": "c9588406",
   "metadata": {},
   "source": [
    "# Feature Selection"
   ]
  },
  {
   "cell_type": "markdown",
   "id": "a873c40d",
   "metadata": {},
   "source": [
    "**What is feature selection?**\n",
    "\n",
    "The objective of feature selection is to enhance the interpretability of models, speed up the learning process and increase the predictive performance.\n",
    "\n",
    "**When should we reduce the number of features used by our model?**\n",
    "\n",
    "Some instances when features selection is necessary:\n",
    "\n",
    "- When there is strong collinearity between features\n",
    "\n",
    "- There are an overwhelming number of features\n",
    "\n",
    "- There is not enough computational power to process all features.\n",
    "\n",
    "- The algorithm forces the model to use all features, even when they are not useful (most often in parametric or linear models)\n",
    "\n",
    "- When we wish to make the model simpler for any reason. For example to make it easier to explain, less computational power needed.\n",
    "\n",
    "**When is feature selection unnecesary?**\n",
    "\n",
    "Some instances when feature selection is not necessary:\n",
    "\n",
    "- There are relatively few features\n",
    "\n",
    "- All features contain useful and important signal\n",
    "\n",
    "- There is no collinearity between features\n",
    "\n",
    "- The model will automatically select the most useful features\n",
    "\n",
    "- The computing resources can handle processing all of the features\n",
    "\n",
    "- Thoroughly explaining the model to a non-technical audience is not critical\n",
    "\n",
    "**What are the three types of feature selection methods?**\n",
    "\n",
    "- Filter Methods - feature selection is done independent of the learning algorithm, before any modelling is done. One example is finding the correlation between every feature and the target and throwing out those that don't meet a threshold. Easy, fast, but naive and not as performant as other methods.\n",
    "\n",
    "    - Basic method.\n",
    "\n",
    "    - Correlation method.\n",
    "    \n",
    "    - Statistical methods ( Information gain / Chi Square / ANOVA ).  \n",
    "\n",
    "- Wrapper Methods - train models on subsets of the features and use the subset that results in the best performance. Examples are Stepwise or Recursive feature selection. Advantages are that it considers each feature in the context of the other features, but can be computationally expensive.\n",
    "\n",
    "    - Forward selection.\n",
    "\n",
    "    - Backward elimination.\n",
    "\n",
    "    - Exhaustive search.\n",
    "\n",
    "\n",
    "- Embedded Methods - learning algorithms have built-in feature selection. For example: L1 regularization.\n",
    "\n",
    "    - LASSO Regularization.\n",
    "    \n",
    "    - Feature importances.\n"
   ]
  },
  {
   "cell_type": "markdown",
   "id": "4d9fa058",
   "metadata": {},
   "source": [
    "Use the following [notebook](https://github.com/priyamnagar/feature_selection_titanic/blob/master/Titanic.ipynb) to see how to apply each of this methods in a dataset that has already been split into training and validation sets.\n",
    "\n",
    "Consider the folllowing links for statistical methods if you plan to apply feature selection:\n",
    "\n",
    "-[Chi square test](http://scikit-learn.org/stable/modules/generated/sklearn.feature_selection.chi2.html#sklearn.feature_selection.chi2)\n",
    "\n",
    "-[Anova](https://scikit-learn.org/stable/modules/generated/sklearn.feature_selection.f_regression.html#sklearn.feature_selection.f_regression)\n",
    "\n",
    "-[Mutual Information](http://scikit-learn.org/stable/modules/generated/sklearn.feature_selection.mutual_info_classif.html#sklearn.feature_selection.mutual_info_classif)\n",
    "\n"
   ]
  }
 ],
 "metadata": {
  "kernelspec": {
   "display_name": "Python 3 (ipykernel)",
   "language": "python",
   "name": "python3"
  },
  "language_info": {
   "codemirror_mode": {
    "name": "ipython",
    "version": 3
   },
   "file_extension": ".py",
   "mimetype": "text/x-python",
   "name": "python",
   "nbconvert_exporter": "python",
   "pygments_lexer": "ipython3",
   "version": "3.9.7"
  }
 },
 "nbformat": 4,
 "nbformat_minor": 5
}
