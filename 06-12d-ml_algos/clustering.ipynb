{
 "cells": [
  {
   "cell_type": "markdown",
   "id": "ff81b322",
   "metadata": {},
   "source": [
    "# Clustering\n",
    "\n",
    "## K Nearest neighbors\n",
    "\n",
    "KNN makes predictions by averaging the k neighbors nearest to a given data point. For example, if we wanted to predict how much money a potential customer would spend at our store, we could find the 5 customers most similar to her and average their spending to make the prediction.\n",
    "\n",
    "The average could be weighted based on similarity between data points and the similarity distance metric could be defined as well.\n",
    "\n",
    "**Is KNN a parametric or non-parametric algorithm? Is it used as a classifier or regressor?**\n",
    "\n",
    "KNN is non-parametric and can be used either as a classifier or regressor.\n",
    "\n",
    "**How do we select the ideal number of neighbors for KNN?**\n",
    "\n",
    "There is no closed-form solution for calculating k, so various heuristics are often used. It may be easiest to simply do cross validation and test several different values for k and choose the one that produces the smallest error during cross validation.\n",
    "\n",
    "As k increases, bias tends to increase and variance decreases."
   ]
  },
  {
   "cell_type": "markdown",
   "id": "ff5b8b0a",
   "metadata": {},
   "source": [
    "## K-means\n",
    "\n",
    "K-means clustering is an unsupervised clustering algorithm that partitions observations into k clusters. \n",
    "\n",
    "The cluster means are usually randomized at the start (often by choosing random observations from the data) and then updated as more records are observed.\n",
    "\n",
    "At each iterations, a new observation is assigned to a cluster based on which cluster mean it is nearest and then the means are recalculated, or updated , with the new observation information included.\n",
    "\n",
    "**What is one common use case for k-mean clustering?**\n",
    "\n",
    "Customer segmentation is probably the most common use case for k-means clustering (although it has many uses)"
   ]
  }
 ],
 "metadata": {
  "kernelspec": {
   "display_name": "Python 3 (ipykernel)",
   "language": "python",
   "name": "python3"
  },
  "language_info": {
   "codemirror_mode": {
    "name": "ipython",
    "version": 3
   },
   "file_extension": ".py",
   "mimetype": "text/x-python",
   "name": "python",
   "nbconvert_exporter": "python",
   "pygments_lexer": "ipython3",
   "version": "3.9.7"
  }
 },
 "nbformat": 4,
 "nbformat_minor": 5
}
