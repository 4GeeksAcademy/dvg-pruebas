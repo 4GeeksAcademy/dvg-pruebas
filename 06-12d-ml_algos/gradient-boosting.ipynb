{
 "cells": [
  {
   "cell_type": "markdown",
   "id": "c594ead4",
   "metadata": {},
   "source": [
    "# Gradient Boosting\n",
    "\n",
    "**How does gradient boosting machines differ from traditional decision tree algorithms?**\n",
    "\n",
    "Gradient boosting involves using multiple weak predictors (decision trees) to create a strong predictor. Specifically, it includes a loss function that calculates the gradient of the error with regard to each feature and then iteratively creates new decision trees that minimize the current error. More and more trees are added to the current model to continue correcting error until improvements fall below some minimum threshold or a pre-decided number of trees have been created.\n",
    "\n",
    "**What hyperparameters can be tuned in gradient boosting that are in addition to each individual tree's hyperparameters?**\n",
    "\n",
    "The main hyperparameters that can be tuned with GBM models are:\n",
    "\n",
    "- Loss function - loss function to calculate gradient of error\n",
    "\n",
    "- Learning rate - the rate at which new trees correct/modify the existing predictor\n",
    "\n",
    "- Num estimators - the total number of trees to produce for the final predictor\n",
    "\n",
    "Additional hyperparameters specific to the loss function \n",
    "\n",
    "Some specific implementations, for example stochastic gradient boosting, may have additional hyperparameters such as subsample size (subsample size affects the randomization in stochastic variations).\n",
    "\n",
    "**How can we reduce overfitting when doing gradient boosting?**\n",
    "\n",
    "Reducing the learning rate or reducing the maximum number of estimators are the two easiest ways to deal with gradient boosting models that overfit the data.\n",
    "\n",
    "With stochastic gradient boosting, reducing subsample size is an additional way to combat overfitting.\n",
    "\n",
    "Boosting algorithms tend to be vulnerable to overfitting, so knowing how to reduce overfitting is important."
   ]
  }
 ],
 "metadata": {
  "kernelspec": {
   "display_name": "Python 3 (ipykernel)",
   "language": "python",
   "name": "python3"
  },
  "language_info": {
   "codemirror_mode": {
    "name": "ipython",
    "version": 3
   },
   "file_extension": ".py",
   "mimetype": "text/x-python",
   "name": "python",
   "nbconvert_exporter": "python",
   "pygments_lexer": "ipython3",
   "version": "3.9.7"
  }
 },
 "nbformat": 4,
 "nbformat_minor": 5
}
