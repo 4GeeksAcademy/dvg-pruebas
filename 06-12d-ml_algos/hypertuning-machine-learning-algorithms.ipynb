{
 "cells": [
  {
   "cell_type": "markdown",
   "id": "8037a1b6",
   "metadata": {},
   "source": [
    "# Hypertuning Machine Learning Algorithms"
   ]
  },
  {
   "cell_type": "markdown",
   "id": "07b928e8",
   "metadata": {},
   "source": [
    "### What are two common ways to automate hyperparameter tuning?\n",
    "\n",
    "1. Grid Search - test every possible combination of pre-defined hyperparameter values and select the best one.\n",
    "\n",
    "2. Randomized Search - randomly test possible combinations of pre-defined hyperparameter values and select the best tested one.\n",
    "\n",
    "**What are the pros and cons of grid search?**\n",
    "\n",
    "**Pros:**\n",
    "\n",
    "Grid Search is great when we need to fine-tune hyperparameters over a small search space automatically. For example, if we have 100 different datasets that we expect to be similar, like solving the same problem repeatedly with different populations. We can use grid search to automatically fine-tune the hyperparameters for each model.\n",
    "\n",
    "**Cons:** \n",
    "\n",
    "Grid Search is computationally expensive and inefficient, often searching over parameter space that has very little chance of being useful, resulting it being extremely slow. It's especially slow if we need to search a large space since it's complexity increases exponentially as more hyperparameters are optimized.\n",
    "\n",
    "**What are the pros and cons of randomized search?**\n",
    "\n",
    "**Pros:**\n",
    "\n",
    "Randomized search does a good job finding near-optimal hyperparameters over a very large search space relatively quickly and doesn't suffer from the same exponential scaling problem as grid search.\n",
    "\n",
    "**Cons:**\n",
    "\n",
    "Randomized search does not fine-tune the results as much as grid search does since it tipically does not test every possible combination of parameters."
   ]
  }
 ],
 "metadata": {
  "kernelspec": {
   "display_name": "Python 3 (ipykernel)",
   "language": "python",
   "name": "python3"
  },
  "language_info": {
   "codemirror_mode": {
    "name": "ipython",
    "version": 3
   },
   "file_extension": ".py",
   "mimetype": "text/x-python",
   "name": "python",
   "nbconvert_exporter": "python",
   "pygments_lexer": "ipython3",
   "version": "3.9.7"
  }
 },
 "nbformat": 4,
 "nbformat_minor": 5
}
