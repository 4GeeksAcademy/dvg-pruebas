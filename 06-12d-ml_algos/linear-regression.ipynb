{
 "cells": [
  {
   "cell_type": "markdown",
   "id": "c613e8e8",
   "metadata": {},
   "source": [
    "**Regression**\n",
    "\n",
    "\n",
    "In regression, one or more variables (predictors) are used to predict an outcome (criterion). \n",
    "\n",
    "Linear Regression:\n",
    "\n",
    "What are the five linear regression assumptions and how can you check for them?\n",
    "\n",
    "1. Linearity: the target (y) and the features (xi) have a linear relationship. To verify linearity we can plot the errors against the predicted y and look for the values to be symmetrically distributed around a horizontal line with constant variance.\n",
    "\n",
    "2. Independence: the errors are not correlated with one another. To verify independence we can plot errors over time and look for non-random patterns (for time series data).\n",
    "\n",
    "3. Normality: the errors are normally distributed. We can verify normality by ploting the errors with a histogram.\n",
    "\n",
    "4. Homoskedasticity: the variance of the error term is constant across values of the target and features. To verufy it we can plot the errors against the predicted y.\n",
    "\n",
    "5. No multicollinearity: Look for correlations above ~0.8 between features."
   ]
  },
  {
   "cell_type": "code",
   "execution_count": null,
   "id": "d8b77b96",
   "metadata": {},
   "outputs": [],
   "source": [
    "# Linear regression from scratch\n",
    "import random\n",
    "# Create data from regression\n",
    "xs = np.array(range(1,20))\n",
    "ys = [0,8,10,8,15,20,26,29,38,35,40,60,50,61,70,75,80,88,96]\n",
    "\n",
    "# Put data in dictionary\n",
    "data = dict()\n",
    "for i in list(xs):\n",
    "    data.update({xs[i-1] : ys[i-1]})\n",
    "\n",
    "# Slope\n",
    "m = 0\n",
    "# y intercept\n",
    "b = 0\n",
    "# Learning rate\n",
    "lr = 0.0001\n",
    "# Number of epochs\n",
    "epochs = 100000\n",
    "\n",
    "# Formula for linear line\n",
    "def lin(x):\n",
    "    return m * x + b\n",
    "\n",
    "# Linear regression algorithm\n",
    "for i in range(epochs):\n",
    "    # Pick a random point and calculate vertical distance and horizontal distance\n",
    "    rand_point = random.choice(list(data.items()))\n",
    "    vert_dist = abs((m * rand_point[0] + b) - rand_point[1])\n",
    "    hor_dist = rand_point[0]\n",
    "\n",
    "    if (m * rand_point[0] + b) - rand_point[1] < 0:\n",
    "        # Adjust line upwards\n",
    "        m += lr * vert_dist * hor_dist\n",
    "        b += lr * vert_dist   \n",
    "    else:\n",
    "        # Adjust line downwards\n",
    "        m -= lr * vert_dist * hor_dist\n",
    "        b -= lr * vert_dist\n",
    "        \n",
    "# Plot data points and regression line\n",
    "plt.figure(figsize=(15,6))\n",
    "plt.scatter(data.keys(), data.values())\n",
    "plt.plot(xs, lin(xs))\n",
    "plt.title('Linear Regression result')  \n",
    "print('Slope: {}\\nIntercept: {}'.format(m, b))"
   ]
  },
  {
   "cell_type": "markdown",
   "id": "2359fdb4",
   "metadata": {},
   "source": [
    "Source:\n",
    "\n",
    "https://towardsdatascience.com/simple-and-multiple-linear-regression-with-python-c9ab422ec29c"
   ]
  }
 ],
 "metadata": {
  "interpreter": {
   "hash": "0f2f6c680cf484319d387fabac80ca4ff4fc33965036e02100b3fe02600f1423"
  },
  "kernelspec": {
   "display_name": "Python 3.10.1 64-bit",
   "language": "python",
   "name": "python3"
  },
  "language_info": {
   "codemirror_mode": {
    "name": "ipython",
    "version": 3
   },
   "file_extension": ".py",
   "mimetype": "text/x-python",
   "name": "python",
   "nbconvert_exporter": "python",
   "pygments_lexer": "ipython3",
   "version": "3.10.1"
  }
 },
 "nbformat": 4,
 "nbformat_minor": 5
}
