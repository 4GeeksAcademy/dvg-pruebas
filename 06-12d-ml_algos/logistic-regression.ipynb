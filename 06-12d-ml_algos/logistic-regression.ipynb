{
 "cells": [
  {
   "cell_type": "markdown",
   "id": "4befd825",
   "metadata": {},
   "source": [
    "# Logistic Regression\n",
    "\n",
    "**Is logistic regression a regressor or a classifier?**\n",
    "\n",
    "Logistic regression is usually used as a classifier because it predicts discrete classes.\n",
    "Having said that, it technically outputs a continuous value associated with each prediction.\n",
    "\n",
    "So we see that it is actually a regression algorithm, hence the name, that can solve classification problems.\n",
    "\n",
    "It is fair to say that it is a classifier because it is used for classification, although it is technically also a regressor.\n",
    "\n",
    "Logistic regression can produce a probability score along with its classification prediction.\n",
    "\n",
    "## What parameters can be tuned in logistic regression models?\n",
    "\n",
    "\n",
    "\n"
   ]
  },
  {
   "cell_type": "markdown",
   "id": "78dddeab",
   "metadata": {},
   "source": []
  },
  {
   "cell_type": "markdown",
   "id": "a45109a1",
   "metadata": {},
   "source": [
    "## Using logistic regression in Titanic survival prediction"
   ]
  },
  {
   "cell_type": "markdown",
   "id": "d42c0bce",
   "metadata": {},
   "source": []
  },
  {
   "cell_type": "markdown",
   "id": "1e5e27c6",
   "metadata": {},
   "source": [
    "Source: \n",
    "\n",
    "https://towardsdatascience.com/a-handbook-for-logistic-regression-bb2d0dc6d8a8"
   ]
  }
 ],
 "metadata": {
  "kernelspec": {
   "display_name": "Python 3 (ipykernel)",
   "language": "python",
   "name": "python3"
  },
  "language_info": {
   "codemirror_mode": {
    "name": "ipython",
    "version": 3
   },
   "file_extension": ".py",
   "mimetype": "text/x-python",
   "name": "python",
   "nbconvert_exporter": "python",
   "pygments_lexer": "ipython3",
   "version": "3.9.7"
  }
 },
 "nbformat": 4,
 "nbformat_minor": 5
}
