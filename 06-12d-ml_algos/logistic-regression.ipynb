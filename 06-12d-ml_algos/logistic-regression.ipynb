{
 "cells": [
  {
   "cell_type": "markdown",
   "id": "4befd825",
   "metadata": {},
   "source": [
    "# Logistic Regression\n",
    "\n",
    "Logistic Regression is a linear classification algorithm. Classification is a problem in which the task is to assign a category/class to a new instance learning the properties of each class from the existing labeled data, called training set. Examples of classification problems can be classifying emails as spam and non-spam, looking at height, weight, and other attributes to classify a person as fit or unfit, etc.\n",
    "\n",
    "**Why should we learn Logistic Regression?**\n",
    "\n",
    "- It is the first supervised learning algorithm that comes to the mind of data science practitioners to create a strong baseline model to check the uplift.\n",
    "\n",
    "- It is a fundamental, powerful, and easily implementable algorithm. It is also a very intuitive and interpretable model as the final outputs are coefficients depicting the relationship between response variable and features.\n",
    "\n",
    "**Is logistic regression a regressor or a classifier?**\n",
    "\n",
    "Logistic regression is usually used as a classifier because it predicts discrete classes.\n",
    "Having said that, it technically outputs a continuous value associated with each prediction.\n",
    "So we see that it is actually a regression algorithm that can solve classification problems.\n",
    "\n",
    "Logistic regression can produce a probability score along with its classification prediction.\n",
    "It is fair to say that it is a classifier because it is used for classification, although it is technically also a regressor.\n",
    "\n",
    "\n",
    "## What parameters can be tuned in logistic regression models?\n",
    "\n",
    "\n",
    "\n"
   ]
  },
  {
   "cell_type": "markdown",
   "id": "7c6744d4",
   "metadata": {},
   "source": []
  },
  {
   "cell_type": "markdown",
   "id": "a45109a1",
   "metadata": {},
   "source": [
    "## Using logistic regression in Titanic survival prediction"
   ]
  },
  {
   "cell_type": "markdown",
   "id": "d42c0bce",
   "metadata": {},
   "source": []
  },
  {
   "cell_type": "code",
   "execution_count": 1,
   "id": "72bc9351",
   "metadata": {},
   "outputs": [],
   "source": [
    "# import libraries\n",
    "\n",
    "import pandas as pd\n",
    "import numpy as np\n",
    "import seaborn as sns\n",
    "import matplotlib.pyplot as plt"
   ]
  },
  {
   "cell_type": "markdown",
   "id": "ce8ef169",
   "metadata": {},
   "source": [
    "**Loading the final dataframe**\n",
    "\n",
    "In order to start modeling, we will focus on our train data and forget temporarily about the dataset where we need to make predictions.\n",
    "\n",
    "Let's start by loading our clean titanic train data and name it final_df."
   ]
  },
  {
   "cell_type": "code",
   "execution_count": 2,
   "id": "8cc5a262",
   "metadata": {},
   "outputs": [],
   "source": [
    "# loading clean train dataset\n",
    "\n",
    "final_df = pd.read_csv('datasets/clean_titanic_train.csv')\n"
   ]
  },
  {
   "cell_type": "code",
   "execution_count": 3,
   "id": "61fc24cd",
   "metadata": {},
   "outputs": [
    {
     "data": {
      "text/html": [
       "<div>\n",
       "<style scoped>\n",
       "    .dataframe tbody tr th:only-of-type {\n",
       "        vertical-align: middle;\n",
       "    }\n",
       "\n",
       "    .dataframe tbody tr th {\n",
       "        vertical-align: top;\n",
       "    }\n",
       "\n",
       "    .dataframe thead th {\n",
       "        text-align: right;\n",
       "    }\n",
       "</style>\n",
       "<table border=\"1\" class=\"dataframe\">\n",
       "  <thead>\n",
       "    <tr style=\"text-align: right;\">\n",
       "      <th></th>\n",
       "      <th>Unnamed: 0</th>\n",
       "      <th>Embarked_C</th>\n",
       "      <th>Embarked_Q</th>\n",
       "      <th>Embarked_S</th>\n",
       "      <th>Female</th>\n",
       "      <th>Male</th>\n",
       "      <th>Survived</th>\n",
       "      <th>Pclass</th>\n",
       "      <th>Age</th>\n",
       "      <th>SibSp</th>\n",
       "      <th>Parch</th>\n",
       "      <th>Fare</th>\n",
       "      <th>fam_mbrs</th>\n",
       "    </tr>\n",
       "  </thead>\n",
       "  <tbody>\n",
       "    <tr>\n",
       "      <th>0</th>\n",
       "      <td>0</td>\n",
       "      <td>0.0</td>\n",
       "      <td>0.0</td>\n",
       "      <td>1.0</td>\n",
       "      <td>0.0</td>\n",
       "      <td>1.0</td>\n",
       "      <td>0.0</td>\n",
       "      <td>3.0</td>\n",
       "      <td>0.271174</td>\n",
       "      <td>1.0</td>\n",
       "      <td>0.0</td>\n",
       "      <td>0.027567</td>\n",
       "      <td>1.0</td>\n",
       "    </tr>\n",
       "    <tr>\n",
       "      <th>1</th>\n",
       "      <td>1</td>\n",
       "      <td>1.0</td>\n",
       "      <td>0.0</td>\n",
       "      <td>0.0</td>\n",
       "      <td>1.0</td>\n",
       "      <td>0.0</td>\n",
       "      <td>1.0</td>\n",
       "      <td>1.0</td>\n",
       "      <td>0.472229</td>\n",
       "      <td>1.0</td>\n",
       "      <td>0.0</td>\n",
       "      <td>0.271039</td>\n",
       "      <td>1.0</td>\n",
       "    </tr>\n",
       "    <tr>\n",
       "      <th>2</th>\n",
       "      <td>2</td>\n",
       "      <td>0.0</td>\n",
       "      <td>0.0</td>\n",
       "      <td>1.0</td>\n",
       "      <td>1.0</td>\n",
       "      <td>0.0</td>\n",
       "      <td>1.0</td>\n",
       "      <td>3.0</td>\n",
       "      <td>0.321438</td>\n",
       "      <td>0.0</td>\n",
       "      <td>0.0</td>\n",
       "      <td>0.030133</td>\n",
       "      <td>0.0</td>\n",
       "    </tr>\n",
       "    <tr>\n",
       "      <th>3</th>\n",
       "      <td>3</td>\n",
       "      <td>0.0</td>\n",
       "      <td>0.0</td>\n",
       "      <td>1.0</td>\n",
       "      <td>1.0</td>\n",
       "      <td>0.0</td>\n",
       "      <td>1.0</td>\n",
       "      <td>1.0</td>\n",
       "      <td>0.434531</td>\n",
       "      <td>1.0</td>\n",
       "      <td>0.0</td>\n",
       "      <td>0.201901</td>\n",
       "      <td>1.0</td>\n",
       "    </tr>\n",
       "    <tr>\n",
       "      <th>4</th>\n",
       "      <td>4</td>\n",
       "      <td>0.0</td>\n",
       "      <td>0.0</td>\n",
       "      <td>1.0</td>\n",
       "      <td>0.0</td>\n",
       "      <td>1.0</td>\n",
       "      <td>0.0</td>\n",
       "      <td>3.0</td>\n",
       "      <td>0.434531</td>\n",
       "      <td>0.0</td>\n",
       "      <td>0.0</td>\n",
       "      <td>0.030608</td>\n",
       "      <td>0.0</td>\n",
       "    </tr>\n",
       "    <tr>\n",
       "      <th>5</th>\n",
       "      <td>5</td>\n",
       "      <td>0.0</td>\n",
       "      <td>1.0</td>\n",
       "      <td>0.0</td>\n",
       "      <td>0.0</td>\n",
       "      <td>1.0</td>\n",
       "      <td>0.0</td>\n",
       "      <td>3.0</td>\n",
       "      <td>0.346569</td>\n",
       "      <td>0.0</td>\n",
       "      <td>0.0</td>\n",
       "      <td>0.032161</td>\n",
       "      <td>0.0</td>\n",
       "    </tr>\n",
       "    <tr>\n",
       "      <th>6</th>\n",
       "      <td>6</td>\n",
       "      <td>0.0</td>\n",
       "      <td>0.0</td>\n",
       "      <td>1.0</td>\n",
       "      <td>0.0</td>\n",
       "      <td>1.0</td>\n",
       "      <td>0.0</td>\n",
       "      <td>1.0</td>\n",
       "      <td>0.673285</td>\n",
       "      <td>0.0</td>\n",
       "      <td>0.0</td>\n",
       "      <td>0.197196</td>\n",
       "      <td>0.0</td>\n",
       "    </tr>\n",
       "    <tr>\n",
       "      <th>7</th>\n",
       "      <td>7</td>\n",
       "      <td>0.0</td>\n",
       "      <td>0.0</td>\n",
       "      <td>1.0</td>\n",
       "      <td>0.0</td>\n",
       "      <td>1.0</td>\n",
       "      <td>0.0</td>\n",
       "      <td>3.0</td>\n",
       "      <td>0.019854</td>\n",
       "      <td>3.0</td>\n",
       "      <td>1.0</td>\n",
       "      <td>0.080133</td>\n",
       "      <td>4.0</td>\n",
       "    </tr>\n",
       "    <tr>\n",
       "      <th>8</th>\n",
       "      <td>8</td>\n",
       "      <td>0.0</td>\n",
       "      <td>0.0</td>\n",
       "      <td>1.0</td>\n",
       "      <td>1.0</td>\n",
       "      <td>0.0</td>\n",
       "      <td>1.0</td>\n",
       "      <td>3.0</td>\n",
       "      <td>0.334004</td>\n",
       "      <td>0.0</td>\n",
       "      <td>2.0</td>\n",
       "      <td>0.042332</td>\n",
       "      <td>2.0</td>\n",
       "    </tr>\n",
       "    <tr>\n",
       "      <th>9</th>\n",
       "      <td>9</td>\n",
       "      <td>1.0</td>\n",
       "      <td>0.0</td>\n",
       "      <td>0.0</td>\n",
       "      <td>1.0</td>\n",
       "      <td>0.0</td>\n",
       "      <td>1.0</td>\n",
       "      <td>2.0</td>\n",
       "      <td>0.170646</td>\n",
       "      <td>1.0</td>\n",
       "      <td>0.0</td>\n",
       "      <td>0.114338</td>\n",
       "      <td>1.0</td>\n",
       "    </tr>\n",
       "  </tbody>\n",
       "</table>\n",
       "</div>"
      ],
      "text/plain": [
       "   Unnamed: 0  Embarked_C  Embarked_Q  Embarked_S  Female  Male  Survived  \\\n",
       "0           0         0.0         0.0         1.0     0.0   1.0       0.0   \n",
       "1           1         1.0         0.0         0.0     1.0   0.0       1.0   \n",
       "2           2         0.0         0.0         1.0     1.0   0.0       1.0   \n",
       "3           3         0.0         0.0         1.0     1.0   0.0       1.0   \n",
       "4           4         0.0         0.0         1.0     0.0   1.0       0.0   \n",
       "5           5         0.0         1.0         0.0     0.0   1.0       0.0   \n",
       "6           6         0.0         0.0         1.0     0.0   1.0       0.0   \n",
       "7           7         0.0         0.0         1.0     0.0   1.0       0.0   \n",
       "8           8         0.0         0.0         1.0     1.0   0.0       1.0   \n",
       "9           9         1.0         0.0         0.0     1.0   0.0       1.0   \n",
       "\n",
       "   Pclass       Age  SibSp  Parch      Fare  fam_mbrs  \n",
       "0     3.0  0.271174    1.0    0.0  0.027567       1.0  \n",
       "1     1.0  0.472229    1.0    0.0  0.271039       1.0  \n",
       "2     3.0  0.321438    0.0    0.0  0.030133       0.0  \n",
       "3     1.0  0.434531    1.0    0.0  0.201901       1.0  \n",
       "4     3.0  0.434531    0.0    0.0  0.030608       0.0  \n",
       "5     3.0  0.346569    0.0    0.0  0.032161       0.0  \n",
       "6     1.0  0.673285    0.0    0.0  0.197196       0.0  \n",
       "7     3.0  0.019854    3.0    1.0  0.080133       4.0  \n",
       "8     3.0  0.334004    0.0    2.0  0.042332       2.0  \n",
       "9     2.0  0.170646    1.0    0.0  0.114338       1.0  "
      ]
     },
     "execution_count": 3,
     "metadata": {},
     "output_type": "execute_result"
    }
   ],
   "source": [
    "# Let's take a look at our first 10 rows to verify all data is numerical\n",
    "\n",
    "final_df.head(10)"
   ]
  },
  {
   "cell_type": "markdown",
   "id": "ea1adc7d",
   "metadata": {},
   "source": [
    "**Separate features and target as X and y**"
   ]
  },
  {
   "cell_type": "code",
   "execution_count": 5,
   "id": "f6a524ab",
   "metadata": {},
   "outputs": [],
   "source": [
    "X = final_df.drop(['Survived','Unnamed: 0'], axis=1)\n",
    "y = final_df['Survived']"
   ]
  },
  {
   "cell_type": "markdown",
   "id": "7c767616",
   "metadata": {},
   "source": [
    "**Split dataframe in training set and testing set**"
   ]
  },
  {
   "cell_type": "code",
   "execution_count": 6,
   "id": "ae54636d",
   "metadata": {},
   "outputs": [],
   "source": [
    "from sklearn.model_selection import train_test_split\n",
    "\n",
    "X_train, X_test, y_train, y_test = train_test_split(X, y, test_size=0.25, random_state=42)"
   ]
  },
  {
   "cell_type": "code",
   "execution_count": 7,
   "id": "80afe320",
   "metadata": {},
   "outputs": [],
   "source": [
    "from sklearn.linear_model import LogisticRegression\n",
    "\n",
    "# Instantiate Logistic Regression\n",
    "\n",
    "model = LogisticRegression()"
   ]
  },
  {
   "cell_type": "code",
   "execution_count": 8,
   "id": "275f668c",
   "metadata": {},
   "outputs": [
    {
     "data": {
      "text/plain": [
       "LogisticRegression()"
      ]
     },
     "execution_count": 8,
     "metadata": {},
     "output_type": "execute_result"
    }
   ],
   "source": [
    "# Fit the data\n",
    "\n",
    "model.fit(X_train, y_train)"
   ]
  },
  {
   "cell_type": "code",
   "execution_count": null,
   "id": "2d331b6c",
   "metadata": {},
   "outputs": [],
   "source": [
    "# Make predictions"
   ]
  },
  {
   "cell_type": "code",
   "execution_count": 15,
   "id": "f4dcc0c8",
   "metadata": {},
   "outputs": [
    {
     "data": {
      "text/plain": [
       "array([[ 2.93931897e-04, -8.75048187e-01, -2.54984177e+00,\n",
       "        -2.72265416e-02, -9.61048282e-02, -2.07671242e-02,\n",
       "         1.12536765e+00,  2.30871173e-01, -1.16871952e-01]])"
      ]
     },
     "execution_count": 15,
     "metadata": {},
     "output_type": "execute_result"
    }
   ],
   "source": [
    "# Get coefficients\n",
    "\n",
    "model.coef_"
   ]
  },
  {
   "cell_type": "markdown",
   "id": "2032aa82",
   "metadata": {},
   "source": []
  },
  {
   "cell_type": "code",
   "execution_count": null,
   "id": "12be01d9",
   "metadata": {},
   "outputs": [],
   "source": [
    "# Hypertune parameters\n",
    "\n",
    "optimized_model = LogisticRegression(solver='liblinear', penalty='l2', random_state=42, C=0.01)\n",
    "\n",
    "optimized_model.coef_"
   ]
  },
  {
   "cell_type": "markdown",
   "id": "1e5e27c6",
   "metadata": {},
   "source": [
    "Source: \n",
    "\n",
    "https://towardsdatascience.com/a-handbook-for-logistic-regression-bb2d0dc6d8a8\n",
    "\n",
    "https://www.displayr.com/how-to-interpret-logistic-regression-coefficients/\n",
    "\n",
    "https://towardsdatascience.com/a-handbook-for-logistic-regression-bb2d0dc6d8a8"
   ]
  }
 ],
 "metadata": {
  "kernelspec": {
   "display_name": "Python 3.10.1 64-bit",
   "language": "python",
   "name": "python3"
  },
  "language_info": {
   "codemirror_mode": {
    "name": "ipython",
    "version": 3
   },
   "file_extension": ".py",
   "mimetype": "text/x-python",
   "name": "python",
   "nbconvert_exporter": "python",
   "pygments_lexer": "ipython3",
   "version": "3.10.1"
  },
  "vscode": {
   "interpreter": {
    "hash": "0f2f6c680cf484319d387fabac80ca4ff4fc33965036e02100b3fe02600f1423"
   }
  }
 },
 "nbformat": 4,
 "nbformat_minor": 5
}
