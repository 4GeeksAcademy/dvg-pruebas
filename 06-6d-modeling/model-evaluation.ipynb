{
 "cells": [
  {
   "cell_type": "markdown",
   "id": "5a321c03",
   "metadata": {},
   "source": [
    "# Evaluation Metrics"
   ]
  },
  {
   "cell_type": "markdown",
   "id": "3e12c298",
   "metadata": {},
   "source": [
    "**Evaluation metrics useful for clasification problems**\n",
    "\n",
    "1. Accuracy - measures the percentage of the time we correctly classify samples: (true positive + true negative)/ all samples\n",
    "\n",
    "2. Precision - measures the percentage of the predicted members that were correctly classified: true positives/ (true positives + false positives)\n",
    "\n",
    "3. Recall - measures the percentage of true members that were correctly classified by the algorithm: true positives/ (true positive + false negative)\n",
    "\n",
    "4. F1 - measurement that balances accuracy and precision (or you can think of it as balancing Type I and Type II error)\n",
    "\n",
    "5. AUC - describes the probability that a classifier will rank a randomly chosen positive instance higher than a randomly chosen negative one.\n",
    "\n",
    "6. Gini - a scale and centered version of AUC\n",
    "\n",
    "7. Log-loss - similar to accuracy but increases the penalty for incorrect classifications that are further away from their true class. For log-loss, lower values are better.\n",
    "\n",
    "**Evaluation metrics useful for regression problems**\n",
    "\n",
    "1. Means squared error (MSE)- the average of the squared error of each prediction.\n",
    "\n",
    "2. Root mean squared error (RMSE) - Square root of MSE.\n",
    "\n",
    "3. Mean absolute error (MAE) - the average of the absolute error of each prediction.\n",
    "\n",
    "4. Coefficient of determination (R^2) - proportion of variance in the target that is predictable from the features."
   ]
  },
  {
   "cell_type": "markdown",
   "id": "ef224f39",
   "metadata": {},
   "source": [
    "### Model evaluation\n",
    "\n",
    "**What are the three types of error in a Machine Learning model?**\n",
    "\n",
    "1. Bias - error caused by choosing an algorithm that cannot accurately model the signal in the data. The model is too general or was incorrectly selected. For example, selecting a simple linear regression to model highly non-linear data would result in error due to bias.\n",
    "\n",
    "2. Variance - error from an estimator being too specific and learning relationships that are specific to the training set but do not generalize to new samples well. Variance can come from fitting too closely to noise in the data, and models with high variance are extremely sensitive to changing inputs.  For example, creating a decision tree that splits the training set until every leaf node only contains 1 sample.\n",
    "\n",
    "3. Irreducible error - error caused by noise in the data that cannot be removed through modeling. For example, inaccuracy in data collection causes irreducible error.\n",
    "\n",
    "\n",
    "**What is the bias-variance trade-off?**\n",
    "\n",
    "Bias refers to an error from an estimator that is too general and does not learn relationships from a data set that would allow it to make better predictions.\n",
    "\n",
    "Variance refers to an error from an estimator being too specific and learning relationships that are specific to the training set but will not generalize to new records well.\n",
    "\n",
    "In short, the bias-variance trade-off is a trade-off between underfitting and overfitting. As you decrease bias, you tend to increase variance.\n",
    "\n",
    "Our goal is to create models that minimize the overall error by careful model selection and tuning to ensure there is a balance between bias and variance, general enough to make good predictions on new data but specific enough to pick up as much signal as possible.\n"
   ]
  }
 ],
 "metadata": {
  "kernelspec": {
   "display_name": "Python 3 (ipykernel)",
   "language": "python",
   "name": "python3"
  },
  "language_info": {
   "codemirror_mode": {
    "name": "ipython",
    "version": 3
   },
   "file_extension": ".py",
   "mimetype": "text/x-python",
   "name": "python",
   "nbconvert_exporter": "python",
   "pygments_lexer": "ipython3",
   "version": "3.9.7"
  }
 },
 "nbformat": 4,
 "nbformat_minor": 5
}
