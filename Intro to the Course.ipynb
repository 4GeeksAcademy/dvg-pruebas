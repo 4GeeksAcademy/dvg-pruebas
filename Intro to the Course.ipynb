{
 "cells": [
  {
   "cell_type": "markdown",
   "id": "153c72ae",
   "metadata": {},
   "source": [
    "# INTRO TO THE COURSE                                "
   ]
  },
  {
   "cell_type": "markdown",
   "id": "c1f82845",
   "metadata": {},
   "source": [
    "Data Science is an interdisciplinary field that combines statistics, programming and business skills, so in order to become a data scientist you need to think like an engineer because you will be building systems in order to solve problems, your goal will be to create automated pipelines that build scalable and organized software.\n",
    "\n",
    "You also need the scientist mindset because you will need to do a lot of research about the problem you want to solve, investigate where to find the information you need, hypothesize some possible solutions, test them and measure your results. You need to become a critical thinker.\n",
    "\n",
    "The third part of the data scientist mindset is to think like a business man because remember, the goal of a data scientist is to solve problems, and as a business person you have to measure key performance indicators (KPIs) in order to measure business health and success. Different business have different problems and different KPIs so as a data scientist you need to understand your client, which can be an internal or an external client. Who is going to use your machine learning model, analysis and predictions? That way you can be aware of their weakness and what does success mean to them. \n",
    "\n",
    "It doesn't matter if you are coming from a technical background or a non-technical background. If you are breaking into the data science and machine learning field you will learn to combine these three skills, practice the one you dominate the most and learn or strengthen the one you dominate the least. You will learn the pros and cons of each machine learning algorithm so that you can decide which one will be the best to help solve your business problem and you will learn how to communicate your results in the most simple way because your client will probably not be a technical one. Finally, you will be able to leverage your unique background by creating a project on a subject of your domain with all your new acquired skills."
   ]
  },
  {
   "cell_type": "markdown",
   "id": "94cd25da",
   "metadata": {},
   "source": [
    "## Tools"
   ]
  },
  {
   "cell_type": "markdown",
   "id": "ab080c22",
   "metadata": {},
   "source": [
    "**Breathecode**"
   ]
  },
  {
   "cell_type": "markdown",
   "id": "3cee9059",
   "metadata": {},
   "source": [
    "**Github**\n",
    "\n",
    "Github is a cloud-based Git repository hosting service that helps developers store and manage their code, data scientists can store their machine learning models and web applications. Github is so user-friendly that some people even use Github to manage other type of projects. Anyone can sign up and host a public code repository for free or pay for a private one. "
   ]
  },
  {
   "cell_type": "markdown",
   "id": "e877be6b",
   "metadata": {},
   "source": [
    "**Gitpod**"
   ]
  },
  {
   "cell_type": "markdown",
   "id": "c256a02a",
   "metadata": {},
   "source": [
    "**Anaconda**"
   ]
  },
  {
   "cell_type": "markdown",
   "id": "bccd9a50",
   "metadata": {},
   "source": [
    "Anaconda is the most popular data science and machine learning platform. It offers an easy way to work with thousands of open-source packages and libraries. When installing Anaconda, you can create environments for your projects in a very user-friendly way and launch jupyter notebooks, as well as Visual Studio Code from the Anaconda Navigator. \n",
    "\n",
    "To download and install Anaconda from the Anaconda's main website follow the link: https://www.anaconda.com/\n",
    "\n",
    "Remember to include the Anaconda Navigator during the install. Anaconda also provides a command prompt. \n",
    "Once installed, you will be able to install and launch Visual Studio Code, Jupyter Notebook and several data science libraries from the Anaconda platform."
   ]
  },
  {
   "cell_type": "markdown",
   "id": "9ce94e7c",
   "metadata": {},
   "source": [
    "**Jupyter Notebooks**\n",
    "\n",
    "Jupyter Notebook is a web-based interactive tool that allows developers to load and explore their data using their preferred language, combine code inputs, data and image outputs, and use explanatory text to communicate their process and results."
   ]
  },
  {
   "cell_type": "markdown",
   "id": "fc1159a4",
   "metadata": {},
   "source": [
    "**Visual Studio Code**\n",
    "\n",
    "Visual Studio Code is a simple source code editor with powerful developer tooling, which runs in Windows, Linux and Mac. It allows you to edit, build and debug your code."
   ]
  },
  {
   "cell_type": "markdown",
   "id": "de8d6a57",
   "metadata": {},
   "source": [
    "**Cookiecutter**\n",
    "\n",
    "You already learned about Numpy and Pandas in the Prework, as some of the most useful libraries for data science. We will keep learning some new ones in the course. But we wanted to mention cookiecutter as the open source library for building coding project templates. It has a specific template designed for data science projects in order to build reusable code."
   ]
  },
  {
   "cell_type": "markdown",
   "id": "ec30ddb8",
   "metadata": {},
   "source": [
    "## Essential Skills"
   ]
  },
  {
   "cell_type": "markdown",
   "id": "5f60b78e",
   "metadata": {},
   "source": [
    "**Probability and Statistic Skills**\n",
    "\n",
    "Week 1 - 2\n",
    "\n",
    "1. Calculus and Linear Algebra.\n",
    "   \n",
    "2. Descriptive Statistics\n",
    "    \n",
    "3. Probability\n",
    "\n",
    "4. Random variables and Probability Distributions\n",
    "\n",
    "5. Hypothesis Testing"
   ]
  },
  {
   "cell_type": "markdown",
   "id": "7239b51a",
   "metadata": {},
   "source": [
    "**Computer Science**\n",
    "\n",
    "Week 3\n",
    "\n",
    "1. Data Structures and Algorithms"
   ]
  },
  {
   "cell_type": "markdown",
   "id": "a9b2211b",
   "metadata": {},
   "source": [
    "**Programming Skills**\n",
    "\n",
    "Week 4\n",
    "\n",
    "1. Data Science toolbox: Python and SQL\n",
    "\n",
    "2. Intermediate Python\n",
    "\n",
    "3. SQL main queries and joining tables."
   ]
  },
  {
   "cell_type": "markdown",
   "id": "9e6abaeb",
   "metadata": {},
   "source": [
    "**Data Collection and Data Loading**\n",
    "\n",
    "Week 5\n",
    "\n",
    "1. Data Science project structure\n",
    "\n",
    "2. Importing different file types in Python\n",
    "\n",
    "3. Web Scraping tools and techniques.\n",
    "\n",
    "4. How to connect to a SQL database using Python in Jupyter: Connecting to a DB2 database. \n",
    "\n",
    "\n",
    "Project part I: Involves creating your own dataset from web scraping.\n"
   ]
  },
  {
   "cell_type": "markdown",
   "id": "515ebc1a",
   "metadata": {},
   "source": [
    "**Data Management**\n",
    "\n",
    "Week 6  \n",
    "\n",
    "1. Data Manipulation using Numpy and Pandas\n",
    "\n",
    "2. Visualization using Matplotlib and Seaborn\n",
    "\n",
    "3. Feature Engineering: creating new features from existing features.\n",
    "\n",
    "4. How to deal with outliers\n",
    "\n",
    "5. How to deal with missing data\n",
    "\n",
    "6. Label encoding and Normalization Techniques\n",
    "\n",
    "\n",
    "Project Part II: Data cleaning\n"
   ]
  },
  {
   "cell_type": "markdown",
   "id": "b6cb6d91",
   "metadata": {},
   "source": [
    "**Modeling**\n",
    "\n",
    "Week 7\n",
    "\n",
    "1. Supervised and Unsupervised Learning\n",
    "\n",
    "2. Cross Validation (Overfitting vs underfitting)\n",
    "\n",
    "3. Introduction to the scikit-learn library.\n",
    "\n",
    "4. Metrics: Measuring your results\n",
    "\n",
    "5. Model parameters"
   ]
  },
  {
   "cell_type": "markdown",
   "id": "5ba0d0f0",
   "metadata": {},
   "source": [
    "**Machine Learning Algorithms**\n",
    "\n",
    "Week 8 - 9\n",
    "\n",
    "1. Regression Algorithms\n",
    "\n",
    "2. Classification Algorithms\n",
    "\n",
    "3. Clustering\n",
    "\n",
    "4. Hypertuning your machine learning algorithm\n",
    "\n",
    "5. Time Series Forecasting and Recommender Systems\n",
    "\n",
    "6. Introduction to Deep Learning.\n"
   ]
  },
  {
   "cell_type": "markdown",
   "id": "016c643d",
   "metadata": {},
   "source": [
    "**Storytelling: Communicating your results**\n",
    "\n",
    "Week 10\n",
    "\n",
    "1. Business intelligence tools\n",
    "\n",
    "2. Using the ideal graph to show insights\n",
    "\n",
    "3. Communicating statistics in a simple way"
   ]
  },
  {
   "cell_type": "markdown",
   "id": "478cfc57",
   "metadata": {},
   "source": [
    "**Data Science as Software**\n",
    "\n",
    "Week 11 \n",
    "\n",
    "1. Software project structure\n",
    "\n",
    "2. How to use the cookiecutter template\n",
    "\n",
    "3. How to create a machine learning web app with Heroku."
   ]
  },
  {
   "cell_type": "markdown",
   "id": "53f390a4",
   "metadata": {},
   "source": [
    "**Real life cases**\n",
    "\n",
    "Week 12\n",
    "\n",
    "1.   *Look for a statistics case that can be solved in paper (finish the solution) and scale it to coding big amounts of data\n",
    "        --->  can be the rats problem but reshaped.*\n",
    "\n",
    "2.   *Look for an image classification good case-----> can be a case applied to medicine (xrays, etc)*\n",
    "\n",
    "3.   *Look for an NLP, neural networks or recommender system(clustering) good case*-----> Look for the new Spotify case in Kaggle competitions."
   ]
  },
  {
   "cell_type": "markdown",
   "id": "6cb64b72",
   "metadata": {},
   "source": [
    "**Final Project**\n",
    "\n",
    "Week 13 - 16\n",
    "\n",
    "ADDED VALUE : SOFTWARE\n",
    "\n",
    "USE THEIR UNIQUE BACKGROUND"
   ]
  }
 ],
 "metadata": {
  "kernelspec": {
   "display_name": "Python 3 (ipykernel)",
   "language": "python",
   "name": "python3"
  },
  "language_info": {
   "codemirror_mode": {
    "name": "ipython",
    "version": 3
   },
   "file_extension": ".py",
   "mimetype": "text/x-python",
   "name": "python",
   "nbconvert_exporter": "python",
   "pygments_lexer": "ipython3",
   "version": "3.9.7"
  }
 },
 "nbformat": 4,
 "nbformat_minor": 5
}
