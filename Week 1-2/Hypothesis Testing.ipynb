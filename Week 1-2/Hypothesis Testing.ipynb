{
 "cells": [
  {
   "cell_type": "markdown",
   "id": "190a7d3f",
   "metadata": {},
   "source": [
    "# HYPOTHESIS TESTING"
   ]
  },
  {
   "cell_type": "markdown",
   "id": "24d349f3",
   "metadata": {},
   "source": [
    "**Central Limit Theorem**"
   ]
  },
  {
   "cell_type": "markdown",
   "id": "2913921e",
   "metadata": {},
   "source": [
    "The central limit theorem describes the shape of the distribution of sample means as a Gaussian or Normal Distribution.\n",
    "\n",
    "The theorem states that as the size of the sample increases, the distribution of the mean across multiple samples will approximate a Gaussian distribution.\n",
    "\n",
    "It demonstrates that the distribution of errors from estimating the population mean fit a normal distribution.\n",
    "\n",
    "The estimate of the Gaussian distribution will be more accurate as the size of the samples drawn from the population is increased. This means that if we use our knowledge of the Gaussian distribution in general to start making inferences about the means of samples drawn from a population, that these inferences will become more useful as we increase our sample size.\n",
    "\n",
    "The central limit theorem does not state anything about a single sample mean, instead it states something about the shape  or the distribution of sample means."
   ]
  },
  {
   "cell_type": "markdown",
   "id": "177ca56a",
   "metadata": {},
   "source": [
    "**Interval estimate**\n",
    "\n",
    "To deal with uncertainty, we can use an interval estimate.\n",
    "\n",
    "It provides a range of values that best describe the population.\n",
    "\n",
    "To develop an interval estimate we need to learn about confidence levels."
   ]
  },
  {
   "cell_type": "markdown",
   "id": "09f77a41",
   "metadata": {},
   "source": [
    "**Confidence Levels**\n",
    "\n",
    "A confidence level is the probability that the interval estimate will include the population parameter (such as the mean).\n",
    "\n",
    "A parameter is a numerical description of a characteristic of the population."
   ]
  },
  {
   "cell_type": "code",
   "execution_count": null,
   "id": "2309ebf8",
   "metadata": {},
   "outputs": [],
   "source": [
    "#graph of normal distribution"
   ]
  },
  {
   "cell_type": "markdown",
   "id": "e2ad0cfc",
   "metadata": {},
   "source": [
    "Sample means will follow the normal probability distribution for large sample sizes (n>=30)\n",
    "\n",
    "To build an interval estimate with a 90% confidence level\n",
    "\n",
    "Confidence level corresponds to a z-score from the standard normal table equal to 1.645"
   ]
  },
  {
   "cell_type": "code",
   "execution_count": 3,
   "id": "f876c37a",
   "metadata": {},
   "outputs": [],
   "source": [
    "#graph by me normal dist"
   ]
  },
  {
   "cell_type": "markdown",
   "id": "20fcd562",
   "metadata": {},
   "source": [
    "**Confidence Interval**\n",
    "\n",
    "A confidence interval is a range of values used to estimate a population parameter and is associated with a specific confidence level.\n",
    "The confidence interval needs to be described in the context of several samples."
   ]
  },
  {
   "cell_type": "markdown",
   "id": "336cb081",
   "metadata": {},
   "source": [
    "Lets build a confidence interval around a sample mean using these equations:\n",
    "    \n",
    "x̄ ± z c \n",
    "    \n",
    "Where:\n",
    "    \n",
    "x̄ = the sample mean\n",
    "z = the z-score, which is the number of standard deviations based on the confidence level\n",
    "c = the standard error of the mean\n",
    "\n",
    "Select 10 samples and construct 90% confidence intervals around each of the sample means.\n",
    "Theorethically, 9 of the 10 intervals will contain the true population mean, which remains unknown."
   ]
  },
  {
   "cell_type": "code",
   "execution_count": null,
   "id": "43e00953",
   "metadata": {},
   "outputs": [],
   "source": [
    "#graph"
   ]
  },
  {
   "cell_type": "markdown",
   "id": "af9f7ac6",
   "metadata": {},
   "source": [
    "Do not misinterpret the definition of a confidence interval:\n",
    "\n",
    "False: 'There is a 90% probability that the true population mean is within the interval'\n",
    "True: 'There is a 90% of probability that any given confidence interval from a random sample will contain the true population mean.'"
   ]
  },
  {
   "cell_type": "markdown",
   "id": "a460b999",
   "metadata": {},
   "source": [
    "**Level of Significance**\n",
    "\n",
    "As there is a 90% probability that any given confidence interval will contain the true population mean, there is a 10% chance that it wont.\n",
    "This 10% is known as the level of significance and is represented by the shaded area."
   ]
  },
  {
   "cell_type": "markdown",
   "id": "e0052181",
   "metadata": {},
   "source": [
    "While a researcher performs research, a hypothesis has to be set, which is known as the null hypothesis. This hypothesis is required to be tested via pre-defined statistical examinations. This process is termed as statistical hypothesis testing.\n",
    "Significance means 'not by chance' or 'probably true'.\n",
    "\n",
    "The level of significance is defined as the fixed probability of wrong elimination of null hypothesis when in fact, it is true. Level of significance α (alpha) is the probability of making a type 1 error (false positive). The probability for the confidence interval is a complement to the significance level. \n",
    "A (1-α) confidence interval has a significance level equal to α."
   ]
  },
  {
   "cell_type": "markdown",
   "id": "647ad9af",
   "metadata": {},
   "source": [
    "**When σ is unknown**\n",
    "\n",
    "So far our examples have assumed we know σ -the population standard deviation.\n",
    "\n",
    "If σ is unknown we can substitute s (sample standard deviation) for σ."
   ]
  },
  {
   "cell_type": "markdown",
   "id": "15e8a8e0",
   "metadata": {},
   "source": [
    "**Confidence intervals for the mean with small samples**\n",
    "\n",
    "So far we have discussed confidence intervals for the mean where n >= 30.\n",
    "\n",
    "When σ is known, we are assuming the population is normally distributed and so we can follow the procedure for large sample sizes.\n",
    "When σ is unknown (more often the case) we make adjustments."
   ]
  },
  {
   "cell_type": "markdown",
   "id": "e459a84c",
   "metadata": {},
   "source": [
    "**When σ is unknown-small samples**\n",
    "\n",
    "-Substitute s, sample standard deviation, for σ\n",
    "\n",
    "-Because of the small sample size, this substitution forces us to use the t-distribution probability distribution.\n",
    "\n",
    "-Continuous probability distribution\n",
    "\n",
    "-Bell-shaped and symmetrical around the mean\n",
    "\n",
    "-Shape of curve depends on degrees of freedom (d.f.) which equals n-1"
   ]
  },
  {
   "cell_type": "markdown",
   "id": "c86ed91f",
   "metadata": {},
   "source": [
    "### Implications in Machine Learning"
   ]
  },
  {
   "cell_type": "markdown",
   "id": "fedcc014",
   "metadata": {},
   "source": [
    "The central limit theorem has important implications in applied machine learning. The theorem does inform the solution to linear algorithms such as linear regression, but not exotic methods like artificial neural networks that are solved using numerical optimization methods."
   ]
  },
  {
   "cell_type": "markdown",
   "id": "047e948e",
   "metadata": {},
   "source": [
    "**Significance Tests**\n",
    "\n",
    "-In order to make inferences about the skill of a model compared to the skill of another model, we must use tools such as statistical significance tests.\n",
    "\n",
    "-These tools estimate the likelihood that the two samples of model skill scores were drawn from the same or a different unknown underlying distribution of model skill scores.\n",
    "\n",
    "-If it looks like the samples were drawn from the same population, then no difference between the models skill is assumed, and any actual differences are due to statistical noise.\n",
    "\n",
    "-The ability to make inference claims like this is due to the central limit theorem and our knowledge of the Gaussian distribution and how likely the two sample means are to be  a part of the same Gaussian distribution of sample means."
   ]
  },
  {
   "cell_type": "markdown",
   "id": "d5df91d1",
   "metadata": {},
   "source": [
    "**Confidence intervals**\n",
    "\n",
    "-Once we have trained a final model, we may wish to make  an inference about how skillful the model is expected to be in practice.\n",
    "\n",
    "-The presentation of this uncertainty is called a confidence interval.\n",
    "\n",
    "-We can develop multiple independent (or close to independent) evaluations of a model accuracy to result in a population of candidate skill estimates.\n",
    "\n",
    "-The mean of this skill estimates will be an estimate (with error) of the true underlying estimate of the model skill on the problem.\n",
    "\n",
    "-With knowledge that the sample mean will be a part of a Gaussian distribution from the central limit theorem, we can use knowledge of the Gaussian distribution to estimate the likelihood of the sample mean based on the sample size and calculate an interval of desired confidence around the skill of the model."
   ]
  },
  {
   "cell_type": "code",
   "execution_count": null,
   "id": "e2f3f63b",
   "metadata": {},
   "outputs": [],
   "source": [
    "Source:\n",
    "    \n",
    "https://byjus.com/maths/level-of-significance/\n",
    "    \n",
    "!(descripcion de imagen)[./assets/imagen.png]"
   ]
  }
 ],
 "metadata": {
  "kernelspec": {
   "display_name": "Python 3 (ipykernel)",
   "language": "python",
   "name": "python3"
  },
  "language_info": {
   "codemirror_mode": {
    "name": "ipython",
    "version": 3
   },
   "file_extension": ".py",
   "mimetype": "text/x-python",
   "name": "python",
   "nbconvert_exporter": "python",
   "pygments_lexer": "ipython3",
   "version": "3.9.7"
  }
 },
 "nbformat": 4,
 "nbformat_minor": 5
}
