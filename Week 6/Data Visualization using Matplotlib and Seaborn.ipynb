{
 "cells": [
  {
   "cell_type": "markdown",
   "id": "cf25d93b",
   "metadata": {},
   "source": [
    "Source:\n",
    "\n",
    "My summary of Kaggle Learn that is in my Google Drive\n",
    "\n",
    "My book: Data Visualization"
   ]
  }
 ],
 "metadata": {
  "kernelspec": {
   "display_name": "Python 3 (ipykernel)",
   "language": "python",
   "name": "python3"
  },
  "language_info": {
   "codemirror_mode": {
    "name": "ipython",
    "version": 3
   },
   "file_extension": ".py",
   "mimetype": "text/x-python",
   "name": "python",
   "nbconvert_exporter": "python",
   "pygments_lexer": "ipython3",
   "version": "3.9.7"
  }
 },
 "nbformat": 4,
 "nbformat_minor": 5
}
