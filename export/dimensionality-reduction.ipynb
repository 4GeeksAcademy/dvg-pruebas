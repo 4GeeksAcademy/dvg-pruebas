{
 "cells": [
  {
   "cell_type": "markdown",
   "id": "4bff2038",
   "metadata": {},
   "source": [
    "# Dimensionality Reduction\n",
    "\n",
    "***What is dimensionality reduction?**\n",
    "\n",
    "...\n",
    "\n",
    "**Why would we want to use dimensionality reduction techniques to transform our data before training?**\n",
    "\n",
    "Dimensionality reduction call allow us to:\n",
    "\n",
    "- Remove collinearity from the feature space\n",
    "\n",
    "- Speed up training by reducing the number of features\n",
    "\n",
    "- Reduce memory usage by reducing the number of features\n",
    "\n",
    "- Identify underlying, latent features that impact multiple features in the original space\n",
    "\n",
    "**Why would we want to avoid dimensionality reduction techniques to transform our data before training?**\n",
    "\n",
    "Dimensionality reduction can:\n",
    "\n",
    "- Add extra unnecessary computation\n",
    "\n",
    "- Make the model difficult to interpret if the latent features are not easy to understand\n",
    "\n",
    "- Add complexity to the model pipeline\n",
    "\n",
    "- Reduce the predictive power of the model if too much signal is lost\n",
    "\n",
    "Some popular dimensionality reduction algorithms are:\n",
    "\n",
    "1. Principal component analysis (PCA) - uses an eigen decomposition to transform the original feature data into linearly independent eigenvectors. The most important vectors (with highest eigenvalues) are then selected to represent the features in the transformed space.\n",
    "\n",
    "2. Non-negative matrix factorization (NMF) - can be used to reduce dimensionality for certain problem types while preserving more information than PCA.\n",
    "\n",
    "3. Embedding techniques - For example, finding local neighbors as done in Local Linear Embedding, can be used to reduce dimensionality\n",
    "\n",
    "4. Clustering or centroid techniques - each value can be described as a member of a cluster, a linear combination of clusters, or a linear combination of cluster centroids\n",
    "\n",
    "By far the most popular is PCA and similar eigen-decomposition based variations\n",
    "\n",
    "Most dimensionality reduction techniques have inverse transformations, but signal is often lost when reducing dimensions, so the inverse transformation is usually only an apporximation of the original data.\n",
    "\n",
    "**How do we select the number of principal components needed for PCA?**\n",
    "\n",
    "Selecting the number of latent features to retain is tipically done by inspecting the eigenvalue of each eigenvector. As eigenvalues decrease, the impact of the latent feature on the target variable also decreases.\n",
    "\n",
    "This means that principal components with small eigenvalues have a small impact on the model and can be removed.\n",
    "\n",
    "There are various rules of thumb, but one general rule is to include the most significant principal components that account for at least 95% of the variation in the features."
   ]
  }
 ],
 "metadata": {
  "kernelspec": {
   "display_name": "Python 3 (ipykernel)",
   "language": "python",
   "name": "python3"
  },
  "language_info": {
   "codemirror_mode": {
    "name": "ipython",
    "version": 3
   },
   "file_extension": ".py",
   "mimetype": "text/x-python",
   "name": "python",
   "nbconvert_exporter": "python",
   "pygments_lexer": "ipython3",
   "version": "3.9.7"
  }
 },
 "nbformat": 4,
 "nbformat_minor": 5
}
