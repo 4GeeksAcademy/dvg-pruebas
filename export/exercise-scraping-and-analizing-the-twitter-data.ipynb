{
 "cells": [
  {
   "cell_type": "markdown",
   "id": "84b8065b",
   "metadata": {},
   "source": [
    "# The Twitter API\n",
    "\n",
    "### API authentication\n",
    "\n",
    "1. We need to create a Twitter app in https://apps.twitter.com/\n",
    "\n",
    "2. Import the package tweepy (it handles the Twitter API authentication)\n",
    "\n",
    "3. Store OAuth authentication credentials in relevant variables\n",
    "\n",
    "4. Pass OAuth details to tweepy's OAuth handler and assign it in OAuth handler 'auth'\n",
    "\n",
    "5. Apply to it the method set_access_token(), along with arguments access_token and access_token_secret."
   ]
  },
  {
   "cell_type": "code",
   "execution_count": null,
   "id": "dc4806c0",
   "metadata": {
    "vscode": {
     "languageId": "plaintext"
    }
   },
   "outputs": [],
   "source": [
    "#Defining the tweet stream listener\n",
    "\n",
    "class MyStreamListener (tweepy.StreamListener):\n",
    "    def __init__(self, api = None):\n",
    "        super(MyStreamListener, self).__init__()\n",
    "        self.num_tweets = 0\n",
    "        self.file_name = \"tweets.txt\"\n",
    "        #self.file = open(\"tweets.txt\", \"w\")\n",
    "\n",
    "    def on_status(self, status):\n",
    "        tweet = status._json\n",
    "        with open(self.file_name, 'a') as file:\n",
    "            file.write(json.dumps(tweet) + '\\n')\n",
    "        self.num_tweets += 1\n",
    "        if self.num_tweets < 100:\n",
    "            return True\n",
    "        else:\n",
    "            return False\n",
    "\n",
    "    def on_error(self, status):\n",
    "        print(status)"
   ]
  },
  {
   "cell_type": "markdown",
   "id": "5273b993",
   "metadata": {},
   "source": [
    "6. Let's initialize Stream listener\n",
    "\n",
    "7. Let's create our Stream object with authentication by passing tweepy.Stream() the authentication handler auth and the Stream listener variable\n",
    "\n",
    "8. Filter Twitter Streams to capture data by keywords, by using stream.filter(track=[keywords])\n",
    "\n",
    "9. Let's store pur Twitter data in a text file\n",
    "\n",
    "10. Import json\n",
    "\n",
    "11. Assing our text file to a path\n",
    "\n",
    "12. Initialize empty list to store tweets\n",
    "\n",
    "13. Open connection to file with  open(path, \"r\")\n",
    "\n",
    "14. Read in tweets and store in our empty list, by using the for loop to load each tweet into a variable (using json.loads()), then append the variable value to the empty list.\n",
    "\n",
    "15. Close the connection and print the dictionary keys of the first tweet.\n",
    "\n",
    "16. Convert our new list of dictionaries into a dataframe where each row is a tweet with two columns, 1 for the text, and the other for the language.\n",
    "\n",
    "17. Let's print the head of the new dataframe.\n",
    "\n",
    "18. Define a function that counts how many tweets contain our keywords.\n",
    "\n",
    "19.  Initialize an empty list to store tweet counts for each keyword.\n",
    "\n",
    "20. Use a for loop to iterate through each row of the dataframe to make the count of tweets for each keyword.\n",
    "\n",
    "21. Create a chart that best represents the analysis, using visualization tools.\n",
    "\n",
    "\n",
    "\n",
    "\n"
   ]
  }
 ],
 "metadata": {
  "kernelspec": {
   "display_name": "Python 3 (ipykernel)",
   "language": "python",
   "name": "python3"
  },
  "language_info": {
   "codemirror_mode": {
    "name": "ipython",
    "version": 3
   },
   "file_extension": ".py",
   "mimetype": "text/x-python",
   "name": "python",
   "nbconvert_exporter": "python",
   "pygments_lexer": "ipython3",
   "version": "3.9.7"
  }
 },
 "nbformat": 4,
 "nbformat_minor": 5
}
