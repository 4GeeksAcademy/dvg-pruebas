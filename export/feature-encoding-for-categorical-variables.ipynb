{
 "cells": [
  {
   "cell_type": "markdown",
   "id": "ae7fd213",
   "metadata": {},
   "source": [
    "# Feature encoding for categorical variables"
   ]
  },
  {
   "cell_type": "markdown",
   "id": "c861c7f7",
   "metadata": {},
   "source": [
    "This is an important phase in the data cleaning process. Feature encoding involves replacing classes in a categorical variable with real numbers. For example, classroom A, classroom B and classroom C could be encoded as 2,4,6.\n",
    "\n",
    "**When should we encode our features? Why?**\n",
    "\n",
    "We should always encode categorical features so that they can be processed by numerical algorithms, and so machine learning algorithms can learn from them.\n",
    "\n",
    "**Methods to encode categorical data:**\n",
    "\n",
    "1. Label encoding (non-ordinal)\n",
    "\n",
    "Each category is assigned a numeric value not representing any order. For example: [black, red, white] could be encoded to [3,7,11].\n",
    "\n",
    "2. Label encoding (ordinal)\n",
    "\n",
    "Each category is assigned a numeric value representing an order. For example: [small, medium, large, extra-large] could be encoded to [1,2,3,4].\n",
    "\n",
    "3. One hot encoding (binary encoding)\n",
    "\n",
    "Each category is transformed into a new binary feature, with all records being marked 1 for True or 0 for False. For example: [Florida, Virginia, Massachussets] could be encoded to state_Florida = [1,0,0], state_Virginia = [0,1,0], state_Massachussets = [0,0,1].\n"
   ]
  }
 ],
 "metadata": {
  "kernelspec": {
   "display_name": "Python 3 (ipykernel)",
   "language": "python",
   "name": "python3"
  },
  "language_info": {
   "codemirror_mode": {
    "name": "ipython",
    "version": 3
   },
   "file_extension": ".py",
   "mimetype": "text/x-python",
   "name": "python",
   "nbconvert_exporter": "python",
   "pygments_lexer": "ipython3",
   "version": "3.9.7"
  }
 },
 "nbformat": 4,
 "nbformat_minor": 5
}
