{
 "cells": [
  {
   "cell_type": "markdown",
   "id": "dc4c97ed",
   "metadata": {},
   "source": [
    "# How to deal with missing values"
   ]
  },
  {
   "cell_type": "markdown",
   "id": "ac0cf98a",
   "metadata": {},
   "source": [
    "Why do we need to fill in missing values?\n",
    "\n",
    "Because most of the machine learning models that we want to use will provide an error if we pass NaN values into it.  The easiest way is to fill them up with 0 but this can reduce our model accuracy significantly.\n",
    "\n",
    "Before we start deleting or imputing missing values, we need to understand the data in order to choose the best method to treat missing values.\n",
    "\n",
    "As we saw in the exploratory data analysis, we can find missing values by using the info() function and looking at how many non-null values are in each column. Another way is using isnull() function.\n",
    "\n",
    "### Methods to deal with missing values\n",
    "\n",
    "**1. Deleting the column that has missing values**\n",
    "\n",
    "It should only be used when there are many null values in the column. We can do this by using dataframe.dropna(axis=1) or by using drop() and specifying the column we want to drop. The problem with this method is that we may lose valuable information on that feature, as we have deleted it completely due to some null values. Since we are working with both training and validation sets, we are careful to drop the same columns in both DataFrames.\n",
    "\n",
    "\n",
    "**2. Deleting rows that have missing values**\n",
    "\n",
    "We can delete only the rows that have missing values by using the dropna() function again. This time we will use axis=0 as parameter because instead of looking for columns with missing values, we are looking for rows with missing values. \n",
    "We can add a 'threshold' to our function. That way dropping rows will meet the threshold conditions first. For example if we write the following function :\n",
    "\n",
    "```py\n",
    "df2=df.dropna (axis = 0, thresh=2) ------>  #It will keep the rows with at least 2 non-NA values.\n",
    "```\n",
    "\n",
    "This can be used in percentages too.\n",
    "\n",
    "```py\n",
    "df2=df.dropna (axis = 0, thresh= 0.65 * len(df)) ------>  #It will drop all rows with null values except the ones that have at least 65% of data filled (non null values).\n",
    "```\n",
    "\n",
    "Threshold can be used in rows, as well as columns using axis= 1.\n",
    "\n",
    "\n",
    "**3. Filling missing values - Imputation**\n",
    "\n",
    "In this method we fill null values with a certain value. Although it's simple, filling in the mean value generally performs quite well. While statisticians have experimented with more complex ways to determine imputed values (such as regression imputation, for instance), the complex strategies typically give no additional benefit once you plug the results into sophisticated machine learning models.\n",
    "There are some ways to impute missing values:\n",
    "\n",
    "- Mean imputation\n",
    "\n",
    "If it is a numerical feature, we can replace the missing values with the mean, but make sure that the feature does not have extreme values so that the mean is still a central tendency.\n",
    "\n",
    "- Median\n",
    "\n",
    "If it is a numerical feature and the feature has extreme values that we have decided to keep, then the median would be a better central tendency because the outliers will pull the mean towards the outliers and it will not be a central tendency anymore. In that case, the median will replace missing values in a better way.\n",
    "\n",
    "- Mode\n",
    "\n",
    "The mode is considered the most frequent value, so if our feature is a categorical value, filling the missing data with the mode will be a good approach.\n",
    "\n",
    "- New Value\n",
    "\n",
    "\n",
    "\n",
    "- knn imputation\n",
    "\n",
    "\n",
    "\n",
    "- regression imputation\n",
    "\n",
    "In this case, the null values in one column are filled by fitting a regression model using other columns in the dataset.\n",
    "\n",
    "You can use the fillna() function to fill the null values in the dataset."
   ]
  },
  {
   "cell_type": "markdown",
   "id": "f9e7c13e",
   "metadata": {},
   "source": [
    "Source: \n",
    "\n",
    "https://www.analyticsvidhya.com/blog/2021/05/dealing-with-missing-values-in-python-a-complete-guide/"
   ]
  }
 ],
 "metadata": {
  "kernelspec": {
   "display_name": "Python 3 (ipykernel)",
   "language": "python",
   "name": "python3"
  },
  "language_info": {
   "codemirror_mode": {
    "name": "ipython",
    "version": 3
   },
   "file_extension": ".py",
   "mimetype": "text/x-python",
   "name": "python",
   "nbconvert_exporter": "python",
   "pygments_lexer": "ipython3",
   "version": "3.9.7"
  }
 },
 "nbformat": 4,
 "nbformat_minor": 5
}
