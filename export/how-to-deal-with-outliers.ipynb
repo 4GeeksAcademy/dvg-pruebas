{
 "cells": [
  {
   "cell_type": "markdown",
   "id": "50b45a1a",
   "metadata": {},
   "source": [
    "# How to deal with outliers"
   ]
  },
  {
   "cell_type": "markdown",
   "id": "47ab517c",
   "metadata": {},
   "source": [
    "We already know what an outlier is, so now, as part of the data preprocessing, we will learn how to deal with them in order to do not mislead the training process and do not have poor results."
   ]
  }
 ],
 "metadata": {
  "kernelspec": {
   "display_name": "Python 3 (ipykernel)",
   "language": "python",
   "name": "python3"
  },
  "language_info": {
   "codemirror_mode": {
    "name": "ipython",
    "version": 3
   },
   "file_extension": ".py",
   "mimetype": "text/x-python",
   "name": "python",
   "nbconvert_exporter": "python",
   "pygments_lexer": "ipython3",
   "version": "3.9.7"
  }
 },
 "nbformat": 4,
 "nbformat_minor": 5
}
