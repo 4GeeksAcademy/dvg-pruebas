{
 "cells": [
  {
   "cell_type": "markdown",
   "id": "b742e555",
   "metadata": {},
   "source": [
    "# K-means\n",
    "\n",
    "K-means clustering is an unsupervised clustering algorithm that partitions observations into k clusters. \n",
    "\n",
    "The cluster means are usually randomized at the start (often by choosing random observations from the data) and then updated as more records are observed.\n",
    "\n",
    "At each iterations, a new observation is assigned to a cluster based on which cluster mean it is nearest and then the means are recalculated, or updated , with the new observation information included.\n",
    "\n",
    "**What is one common use case for k-mean clustering?**\n",
    "\n",
    "Customer segmentation is probably the most common use case for k-means clustering (although it has many uses)"
   ]
  }
 ],
 "metadata": {
  "kernelspec": {
   "display_name": "Python 3 (ipykernel)",
   "language": "python",
   "name": "python3"
  },
  "language_info": {
   "codemirror_mode": {
    "name": "ipython",
    "version": 3
   },
   "file_extension": ".py",
   "mimetype": "text/x-python",
   "name": "python",
   "nbconvert_exporter": "python",
   "pygments_lexer": "ipython3",
   "version": "3.9.7"
  }
 },
 "nbformat": 4,
 "nbformat_minor": 5
}
