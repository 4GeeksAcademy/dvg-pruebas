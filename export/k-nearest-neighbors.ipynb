{
 "cells": [
  {
   "cell_type": "markdown",
   "id": "ff81b322",
   "metadata": {},
   "source": [
    "# K Nearest neighbors\n",
    "\n",
    "KNN makes predictions by averaging the k neighbors nearest to a given data point. For example, if we wanted to predict how much money a potential customer would spend at our store, we could find the 5 customers most similar to her and average their spending to make the prediction.\n",
    "\n",
    "The average could be weighted based on similarity between data points and the similarity distance metric could be defined as well.\n",
    "\n",
    "**Is KNN a parametric or non-parametric algorithm? Is it used as a classifier or regressor?**\n",
    "\n",
    "KNN is non-parametric and can be used either as a classifier or regressor.\n",
    "\n",
    "**How do we select the ideal number of neighbors for KNN?**\n",
    "\n",
    "There is no closed-form solution for calculating k, so various heuristics are often used. It may be easiest to simply do cross validation and test several different values for k and choose the one that produces the smallest error during cross validation.\n",
    "\n",
    "As k increases, bias tends to increase and variance decreases."
   ]
  }
 ],
 "metadata": {
  "kernelspec": {
   "display_name": "Python 3 (ipykernel)",
   "language": "python",
   "name": "python3"
  },
  "language_info": {
   "codemirror_mode": {
    "name": "ipython",
    "version": 3
   },
   "file_extension": ".py",
   "mimetype": "text/x-python",
   "name": "python",
   "nbconvert_exporter": "python",
   "pygments_lexer": "ipython3",
   "version": "3.9.7"
  }
 },
 "nbformat": 4,
 "nbformat_minor": 5
}
