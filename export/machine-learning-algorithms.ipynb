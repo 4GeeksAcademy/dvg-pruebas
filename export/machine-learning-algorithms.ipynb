{
 "cells": [
  {
   "cell_type": "markdown",
   "id": "1b6214c0",
   "metadata": {},
   "source": [
    "Source:\n",
    "    \n",
    "https://towardsdatascience.com/10-machine-learning-algorithms-you-need-to-know-77fb0055fe0\n",
    "\n",
    "https://medium.com/@josemarcialportilla/using-python-and-auto-arima-to-forecast-seasonal-time-series-90877adff03c\n",
    "\n",
    "https://hackernoon.com/introduction-to-recommender-system-part-1-collaborative-filtering-singular-value-decomposition-44c9659c5e75\n",
    "\n",
    "My summary from EDX: Intro to Machine Learning. \n",
    "\n",
    "My E-book: Hands on Machine Learning.\n",
    "\n",
    "My practice labs for each model from Cognitive class."
   ]
  }
 ],
 "metadata": {
  "kernelspec": {
   "display_name": "Python 3 (ipykernel)",
   "language": "python",
   "name": "python3"
  },
  "language_info": {
   "codemirror_mode": {
    "name": "ipython",
    "version": 3
   },
   "file_extension": ".py",
   "mimetype": "text/x-python",
   "name": "python",
   "nbconvert_exporter": "python",
   "pygments_lexer": "ipython3",
   "version": "3.9.7"
  }
 },
 "nbformat": 4,
 "nbformat_minor": 5
}
