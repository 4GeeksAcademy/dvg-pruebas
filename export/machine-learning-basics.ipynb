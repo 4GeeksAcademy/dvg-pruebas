{
 "cells": [
  {
   "cell_type": "markdown",
   "id": "efc0957d",
   "metadata": {},
   "source": [
    "# Machine Learning Basics"
   ]
  },
  {
   "cell_type": "markdown",
   "id": "1976af19",
   "metadata": {},
   "source": [
    "What is Machine Learning?\n",
    "\n",
    "Machine learning is the field of science that studies algorithms that approximate functions increasingly well as they are given more observations. Machine learning algorithms are often used to learn and automate human processes, optimize outcomes, predict outcomes, model complex relationships and learn patterns in data. \n",
    "\n",
    "**Supervised vs Unsupervised learning**\n",
    "\n",
    "Supervised learning...\n",
    "\n",
    "Labeled data is data that has the information about target variable for each instance.\n",
    "The most common uses of supervised learning are regression and classification.\n",
    "\n",
    "Unsupervised learning...\n",
    "\n",
    "The most common uses of unsupervised machine learning are clustering, dimensionality reduction, and association-rule mining.\n",
    "\n",
    "**Online vs offline learning**\n",
    "\n",
    "Online learning refers to updating models incrementally as they gain more information.\n",
    "\n",
    "Offline learning refers to learning by batch processing data. If new data comes in, an entire new batch (including all the old and new data) must be fed into the algorithm to learn from the new data.\n",
    "\n",
    "**Reinforcement learning**\n",
    "\n",
    "Reinforcement learning describes a set of algorithms that learn from the outcome of each decision. For example, a robot could use reinforcement learning to learn that walking forward into a wall is bad, but turning away from a wall and walking is good. \n",
    "\n",
    "**What is the difference between bagging and boosting?**\n",
    "\n",
    "Bagging and boosting are both ensemble methods, meaning they combine many weak predictors to create a strong predictor. One key difference is that bagging builds independent models in parallel, whereas boosting builds models sequentially, at each step emphasizing the observations that were missed in previous steps."
   ]
  },
  {
   "cell_type": "markdown",
   "id": "d99f40a0",
   "metadata": {},
   "source": [
    "### How is data divided?\n",
    "\n",
    "What is training data and what is it used for?\n",
    "\n",
    "Training data is a set of examples that will be used to train the machine learning model.\n",
    "For supervised machine learning, this training data must have a labeled. What you are trying to predict must be defined.\n",
    "For unsupervised machine learning, the training data will contain only features and will use no labeled targets. What you are trying to predict is not defined.\n",
    "\n",
    "What is a validation set and why use one?\n",
    "\n",
    "A validation set is a set of data that used to evaluate a model's performance during training/model selection. After models are trained, they are evaluated on the validation set to select the best possible model.\n",
    "\n",
    "It must never be used for training the model directly.\n",
    "\n",
    "It must also not be used as the test data set because we have biased our model selection toward working well on this data, even tough the model was not directly trained on it.\n",
    "\n",
    "What is a test set and why use one?\n",
    "\n",
    "A test set is a set of data not used during training or validation. The model's performance is evaluated on the test set to predict how well it will generalize to new data."
   ]
  },
  {
   "cell_type": "markdown",
   "id": "c5957c1e",
   "metadata": {},
   "source": [
    "### Training and validation techniques\n",
    "\n",
    "**Train-test-split**\n",
    "\n",
    "**Cross Validation**\n",
    "\n",
    "Cross validation is a technique for more accurately training and validation models. It rotates what data is held out from model training to be used as the validation data.\n",
    "\n",
    "Several models are trained and evaluated, with every piece of data being held out from one model. The average performance of all the models is then calculated.\n",
    "\n",
    "It is a more reliable way to validate models but is more computationally costly. For example, 5-fold cross validation requires training and validating 5 models instead of 1."
   ]
  },
  {
   "cell_type": "markdown",
   "id": "17b0ce79",
   "metadata": {},
   "source": [
    "**What is overfitting?**\n",
    "\n",
    "Overfitting when a model makes much better predictions on known data (data included in the training set) than unknown data (data not included in the training set).\n",
    "\n",
    "How can we combat overfitting?\n",
    "\n",
    "A few ways of combatting overfitting are:\n",
    "\n",
    "- simplify the model (often done by changing)\n",
    "\n",
    "- select a different model\n",
    "\n",
    "- use more training data\n",
    "\n",
    "- gather better quality data to combat overfitting\n",
    "\n",
    "How can we tell if our model is overfitting the data?\n",
    "\n",
    "If our training error is low and our validation error is high, then our model is most likely overfitting our training data.\n",
    "\n",
    "How can we tell if our model is underfitting the data?\n",
    "\n",
    "If our training and validation error are both relatively equal and very high, then our model is most likely underfitting our training data."
   ]
  },
  {
   "cell_type": "markdown",
   "id": "e4157f10",
   "metadata": {},
   "source": [
    "**What are data pipelines?**\n",
    "\n",
    "Any collection of ordered transformations on data"
   ]
  },
  {
   "cell_type": "markdown",
   "id": "1111e530",
   "metadata": {},
   "source": [
    "Source:\n",
    "    \n",
    "https://towardsdatascience.com/train-test-split-and-cross-validation-in-python-80b61beca4b6\n",
    "\n",
    "https://www.kdnuggets.com/2020/09/understanding-bias-variance-trade-off-3-minutes.html"
   ]
  }
 ],
 "metadata": {
  "kernelspec": {
   "display_name": "Python 3 (ipykernel)",
   "language": "python",
   "name": "python3"
  },
  "language_info": {
   "codemirror_mode": {
    "name": "ipython",
    "version": 3
   },
   "file_extension": ".py",
   "mimetype": "text/x-python",
   "name": "python",
   "nbconvert_exporter": "python",
   "pygments_lexer": "ipython3",
   "version": "3.9.7"
  }
 },
 "nbformat": 4,
 "nbformat_minor": 5
}
