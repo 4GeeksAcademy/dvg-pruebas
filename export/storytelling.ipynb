{
 "cells": [
  {
   "cell_type": "markdown",
   "id": "e64cad52",
   "metadata": {},
   "source": [
    "Source:\n",
    "    \n",
    "https://www.columnfivemedia.com/data-storytelling-brands-data-visualization/\n",
    "\n",
    "https://medium.com/@aparnack/an-overview-of-business-metrics-for-data-driven-companies-b0f698710da1\n",
    "\n",
    "Book: Naked Statistics"
   ]
  }
 ],
 "metadata": {
  "kernelspec": {
   "display_name": "Python 3 (ipykernel)",
   "language": "python",
   "name": "python3"
  },
  "language_info": {
   "codemirror_mode": {
    "name": "ipython",
    "version": 3
   },
   "file_extension": ".py",
   "mimetype": "text/x-python",
   "name": "python",
   "nbconvert_exporter": "python",
   "pygments_lexer": "ipython3",
   "version": "3.9.7"
  }
 },
 "nbformat": 4,
 "nbformat_minor": 5
}
